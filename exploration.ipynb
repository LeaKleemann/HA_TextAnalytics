{
 "cells": [
  {
   "cell_type": "code",
   "execution_count": 15,
   "metadata": {},
   "outputs": [],
   "source": [
    "import pathlib2 as pathlib\n",
    "import pandas as pd\n",
    "import numpy as np\n",
    "import matplotlib.pyplot as plt\n",
    "import re\n",
    "\n",
    "from sklearn.feature_extraction.text import TfidfVectorizer, CountVectorizer\n",
    "from sklearn.decomposition import NMF\n",
    "from sklearn.decomposition import LatentDirichletAllocation\n",
    "from sklearn.pipeline import Pipeline\n",
    "\n",
    "from nltk.corpus import stopwords\n",
    "# import nltk\n",
    "# nltk.download('stopwords')\n",
    "\n",
    "from gensim.models.coherencemodel import CoherenceModel\n",
    "from gensim.corpora.dictionary import Dictionary\n",
    "\n",
    "from langdetect import detect, DetectorFactory\n",
    "\n",
    "import joblib\n",
    "from optuna import Trial, create_study\n",
    "\n",
    "\n",
    "random_state=313\n",
    "DetectorFactory.seed = random_state"
   ]
  },
  {
   "cell_type": "code",
   "execution_count": 2,
   "metadata": {},
   "outputs": [],
   "source": [
    "datapath=pathlib.Path.cwd().joinpath('lens_org_data_files')\n",
    "datafiles=[x for x in datapath.iterdir()]"
   ]
  },
  {
   "cell_type": "code",
   "execution_count": 16,
   "metadata": {},
   "outputs": [],
   "source": [
    "def clean_text(text):\n",
    "    clean = re.sub('<jats:[^>]*>', '', text)  # Entfernt alle jats Tags\n",
    "    return clean"
   ]
  },
  {
   "cell_type": "code",
   "execution_count": 3,
   "metadata": {},
   "outputs": [
    {
     "name": "stderr",
     "output_type": "stream",
     "text": [
      "C:\\Users\\lekle\\AppData\\Local\\Temp\\ipykernel_27884\\856187700.py:3: DtypeWarning: Columns (22) have mixed types. Specify dtype option on import or set low_memory=False.\n",
      "  df=pd.read_csv(file)\n",
      "C:\\Users\\lekle\\AppData\\Local\\Temp\\ipykernel_27884\\856187700.py:3: DtypeWarning: Columns (22) have mixed types. Specify dtype option on import or set low_memory=False.\n",
      "  df=pd.read_csv(file)\n",
      "C:\\Users\\lekle\\AppData\\Local\\Temp\\ipykernel_27884\\856187700.py:3: DtypeWarning: Columns (22) have mixed types. Specify dtype option on import or set low_memory=False.\n",
      "  df=pd.read_csv(file)\n",
      "C:\\Users\\lekle\\AppData\\Local\\Temp\\ipykernel_27884\\856187700.py:3: DtypeWarning: Columns (22) have mixed types. Specify dtype option on import or set low_memory=False.\n",
      "  df=pd.read_csv(file)\n",
      "C:\\Users\\lekle\\AppData\\Local\\Temp\\ipykernel_27884\\856187700.py:3: DtypeWarning: Columns (11) have mixed types. Specify dtype option on import or set low_memory=False.\n",
      "  df=pd.read_csv(file)\n",
      "C:\\Users\\lekle\\AppData\\Local\\Temp\\ipykernel_27884\\856187700.py:3: DtypeWarning: Columns (22) have mixed types. Specify dtype option on import or set low_memory=False.\n",
      "  df=pd.read_csv(file)\n"
     ]
    }
   ],
   "source": [
    "dfs=[]\n",
    "for file in datafiles:\n",
    "    df=pd.read_csv(file)\n",
    "    dfs.append(df)\n",
    "\n",
    "data=pd.concat(dfs,ignore_index=True)\n",
    "data=data.dropna(subset=['Title', 'Abstract'])"
   ]
  },
  {
   "cell_type": "code",
   "execution_count": 4,
   "metadata": {},
   "outputs": [
    {
     "data": {
      "text/plain": [
       "Index(['Lens ID', 'Title', 'Date Published', 'Publication Year',\n",
       "       'Publication Type', 'Source Title', 'ISSNs', 'Publisher',\n",
       "       'Source Country', 'Author/s', 'Abstract', 'Volume', 'Issue Number',\n",
       "       'Start Page', 'End Page', 'Fields of Study', 'Keywords', 'MeSH Terms',\n",
       "       'Chemicals', 'Funding', 'Source URLs', 'External URL', 'PMID', 'DOI',\n",
       "       'Microsoft Academic ID', 'PMCID', 'Citing Patents Count', 'References',\n",
       "       'Citing Works Count', 'Is Open Access', 'Open Access License',\n",
       "       'Open Access Colour'],\n",
       "      dtype='object')"
      ]
     },
     "execution_count": 4,
     "metadata": {},
     "output_type": "execute_result"
    }
   ],
   "source": [
    "data.columns"
   ]
  },
  {
   "cell_type": "code",
   "execution_count": 5,
   "metadata": {},
   "outputs": [
    {
     "name": "stdout",
     "output_type": "stream",
     "text": [
      "0\n",
      "0\n"
     ]
    }
   ],
   "source": [
    "print(data.Title.isna().sum())\n",
    "print(data.Abstract.isna().sum())"
   ]
  },
  {
   "cell_type": "code",
   "execution_count": 7,
   "metadata": {},
   "outputs": [
    {
     "data": {
      "text/plain": [
       "'<jats:p>Day-ahead solar irradiance forecasting is carried out using data from a tropical environment, Singapore. The performance of the weather research and forecasting (WRF) model is evaluated. We explore various combinations of physics configuration setups in the WRF model and propose a setup for the tropical regions. The WRF model is benchmarked using persistence and two seasonal time series models, namely, the exponential smoothing (ETS) and seasonal autoregressive integrated moving average (SARIMA) models. It is shown that the WRF model outperforms the SARIMA model and achieves accuracies comparable with persistence and ETS models. Persistence, ETS, and WRF models have relative root mean square errors (rRMSE) of about 55–57%. Furthermore, we find that by combining the forecasting outputs of WRF and ETS models, errors can be reduced to 49%.</jats:p>'"
      ]
     },
     "execution_count": 7,
     "metadata": {},
     "output_type": "execute_result"
    }
   ],
   "source": [
    "data.Abstract[0]"
   ]
  },
  {
   "cell_type": "code",
   "execution_count": 8,
   "metadata": {},
   "outputs": [],
   "source": [
    "languages=[]\n",
    "for x in data.Title:\n",
    "    try:\n",
    "        l=detect(x)\n",
    "    except:\n",
    "        l=False\n",
    "    languages.append(l)\n",
    "data['title_languages']=languages\n",
    "\n",
    "languages=[]\n",
    "for x in data.Abstract:\n",
    "    try:\n",
    "        l=detect(x)\n",
    "    except:\n",
    "        l=False\n",
    "    languages.append(l)\n",
    "data['abstract_languages']=languages\n"
   ]
  },
  {
   "cell_type": "code",
   "execution_count": 9,
   "metadata": {},
   "outputs": [],
   "source": [
    "# data.title_languages.value_counts()"
   ]
  },
  {
   "cell_type": "code",
   "execution_count": 12,
   "metadata": {},
   "outputs": [
    {
     "data": {
      "text/plain": [
       "242040"
      ]
     },
     "execution_count": 12,
     "metadata": {},
     "output_type": "execute_result"
    }
   ],
   "source": [
    "data=data[(data['title_languages']=='en') & (data['abstract_languages']=='en')]\n",
    "len(data)"
   ]
  },
  {
   "cell_type": "code",
   "execution_count": null,
   "metadata": {},
   "outputs": [
    {
     "data": {
      "text/plain": [
       "0    Day-Ahead Solar Irradiance Forecasting in a Tr...\n",
       "1    PORTABLE GREEN POWER GENERATION BASED ON HYBRI...\n",
       "2    Assessment of a falling solid particle receive...\n",
       "3    Reduction of the plasmonic absorption in the n...\n",
       "4    Boron-Doped Silicon Diatom Frustules as a Phot...\n",
       "Name: Title, dtype: object"
      ]
     },
     "execution_count": 18,
     "metadata": {},
     "output_type": "execute_result"
    }
   ],
   "source": [
    "data.Title.head(5)"
   ]
  },
  {
   "cell_type": "code",
   "execution_count": 13,
   "metadata": {},
   "outputs": [
    {
     "name": "stdout",
     "output_type": "stream",
     "text": [
      "242040\n",
      "80\n",
      "8\n"
     ]
    },
    {
     "data": {
      "text/plain": [
       "Source Country\n",
       "United Kingdom    40811\n",
       "United States     32451\n",
       "Germany           17973\n",
       "Switzerland       12466\n",
       "Netherlands        8749\n",
       "China              1598\n",
       "Egypt              1187\n",
       "India              1074\n",
       "Name: count, dtype: int64"
      ]
     },
     "execution_count": 13,
     "metadata": {},
     "output_type": "execute_result"
    }
   ],
   "source": [
    "print(len(data))\n",
    "print(len(data['Source Country'].unique()))\n",
    "# data_sourceCountry_valueCounts=data['Source Country'].value_counts()\n",
    "data_sourceCountry_valueCounts=data[data.groupby('Source Country')['Source Country'].transform('count')>1000]\n",
    "print(len(data_sourceCountry_valueCounts['Source Country'].value_counts()))\n",
    "data_sourceCountry_valueCounts['Source Country'].value_counts()"
   ]
  },
  {
   "cell_type": "code",
   "execution_count": 17,
   "metadata": {},
   "outputs": [],
   "source": [
    "data['Abstract']=data.Abstract.apply(clean_text)\n",
    "data.to_csv(\"cleaned_data.csv\",sep=';')"
   ]
  },
  {
   "cell_type": "code",
   "execution_count": null,
   "metadata": {},
   "outputs": [],
   "source": [
    "data=pd.read_csv(\"cleaned_data.csv\",sep=';')"
   ]
  },
  {
   "cell_type": "code",
   "execution_count": 46,
   "metadata": {},
   "outputs": [
    {
     "data": {
      "text/plain": [
       "(254447, 20235)"
      ]
     },
     "execution_count": 46,
     "metadata": {},
     "output_type": "execute_result"
    }
   ],
   "source": [
    "stopwords=stopwords.words('english')\n",
    "tfidf_vectorizer = TfidfVectorizer(stop_words=stopwords, min_df=5, max_df=0.7)\n",
    "tfidf_vectors = tfidf_vectorizer.fit_transform(data['Title'])\n",
    "tfidf_vectors.shape"
   ]
  },
  {
   "cell_type": "code",
   "execution_count": 49,
   "metadata": {},
   "outputs": [
    {
     "name": "stdout",
     "output_type": "stream",
     "text": [
      "class:  ndarray\n",
      "shape:  (254447, 50)\n",
      "strides:  (400, 8)\n",
      "itemsize:  8\n",
      "aligned:  True\n",
      "contiguous:  True\n",
      "fortran:  False\n",
      "data pointer: 0x19a03c21040\n",
      "byteorder:  little\n",
      "byteswap:  False\n",
      "type: float64\n"
     ]
    }
   ],
   "source": [
    "nmf_text_model = NMF(n_components=50, random_state=random_state) # n_components: number of topics\n",
    "W_text_matrix = nmf_text_model.fit_transform(tfidf_vectors)\n",
    "H_text_matrix = nmf_text_model.components_\n",
    "np.info(W_text_matrix)"
   ]
  },
  {
   "cell_type": "code",
   "execution_count": 50,
   "metadata": {},
   "outputs": [
    {
     "name": "stdout",
     "output_type": "stream",
     "text": [
      "class:  ndarray\n",
      "shape:  (50, 20235)\n",
      "strides:  (8, 400)\n",
      "itemsize:  8\n",
      "aligned:  True\n",
      "contiguous:  False\n",
      "fortran:  True\n",
      "data pointer: 0x19a00347040\n",
      "byteorder:  little\n",
      "byteswap:  False\n",
      "type: float64\n"
     ]
    }
   ],
   "source": [
    "np.info(H_text_matrix) "
   ]
  },
  {
   "cell_type": "code",
   "execution_count": 51,
   "metadata": {},
   "outputs": [
    {
     "name": "stdout",
     "output_type": "stream",
     "text": [
      "\n",
      "Topic 00\n",
      "  system (35.60)\n",
      "  integrated (2.44)\n",
      "  monitoring (2.11)\n",
      "  heating (1.62)\n",
      "  cooling (1.53)\n",
      "\n",
      "Topic 01\n",
      "  perovskite (13.82)\n",
      "  cells (9.89)\n",
      "  stable (1.65)\n",
      "  stability (1.64)\n",
      "  tandem (1.26)\n",
      "\n",
      "Topic 02\n",
      "  sub (35.25)\n",
      "  co (2.09)\n",
      "  tio (1.46)\n",
      "  cu (1.06)\n",
      "  scp (0.97)\n",
      "\n",
      "Topic 03\n",
      "  energy (16.94)\n",
      "  renewable (7.58)\n",
      "  sources (2.04)\n",
      "  harvesting (1.30)\n",
      "  management (1.28)\n",
      "\n",
      "Topic 04\n",
      "  performance (24.07)\n",
      "  evaluation (3.86)\n",
      "  effect (2.41)\n",
      "  collector (1.24)\n",
      "  experimental (1.16)\n",
      "\n",
      "Topic 05\n",
      "  power (28.13)\n",
      "  plant (5.19)\n",
      "  plants (3.26)\n",
      "  quality (1.75)\n",
      "  concentrated (1.36)\n",
      "\n",
      "Topic 06\n",
      "  based (27.93)\n",
      "  iot (1.40)\n",
      "  monitoring (0.88)\n",
      "  method (0.87)\n",
      "  mppt (0.80)\n",
      "\n",
      "Topic 07\n",
      "  photovoltaic (30.46)\n",
      "  modules (2.41)\n",
      "  module (1.87)\n",
      "  panels (1.68)\n",
      "  devices (0.98)\n",
      "\n",
      "Topic 08\n",
      "  thermal (23.37)\n",
      "  collector (2.64)\n",
      "  experimental (1.32)\n",
      "  collectors (1.19)\n",
      "  parabolic (1.11)\n",
      "\n",
      "Topic 09\n",
      "  hydrogen (12.22)\n",
      "  production (11.13)\n",
      "  evolution (2.44)\n",
      "  photocatalytic (2.25)\n",
      "  green (2.09)\n",
      "\n",
      "Topic 10\n",
      "  grid (23.40)\n",
      "  connected (11.02)\n",
      "  smart (3.77)\n",
      "  micro (2.43)\n",
      "  inverter (2.40)\n",
      "\n",
      "Topic 11\n",
      "  using (22.14)\n",
      "  neural (1.31)\n",
      "  method (1.28)\n",
      "  artificial (1.02)\n",
      "  algorithm (0.94)\n",
      "\n",
      "Topic 12\n",
      "  systems (32.69)\n",
      "  integrated (1.74)\n",
      "  heating (1.32)\n",
      "  distribution (1.26)\n",
      "  economic (0.94)\n",
      "\n",
      "Topic 13\n",
      "  properties (8.24)\n",
      "  optical (5.41)\n",
      "  effect (2.47)\n",
      "  structural (2.19)\n",
      "  electronic (2.08)\n",
      "\n",
      "Topic 14\n",
      "  study (16.72)\n",
      "  case (8.52)\n",
      "  experimental (2.10)\n",
      "  comparative (1.88)\n",
      "  feasibility (1.35)\n",
      "\n",
      "Topic 15\n",
      "  analysis (22.39)\n",
      "  economic (4.66)\n",
      "  techno (2.36)\n",
      "  comparative (1.74)\n",
      "  exergy (1.11)\n",
      "\n",
      "Topic 16\n",
      "  design (28.38)\n",
      "  implementation (2.59)\n",
      "  building (1.55)\n",
      "  simulation (1.46)\n",
      "  fabrication (1.24)\n",
      "\n",
      "Topic 17\n",
      "  hybrid (37.92)\n",
      "  inorganic (1.78)\n",
      "  economic (1.48)\n",
      "  battery (1.47)\n",
      "  diesel (1.43)\n",
      "\n",
      "Topic 18\n",
      "  organic (10.86)\n",
      "  cells (4.65)\n",
      "  fullerene (2.37)\n",
      "  non (2.25)\n",
      "  polymer (2.24)\n",
      "\n",
      "Topic 19\n",
      "  dye (12.25)\n",
      "  sensitized (11.28)\n",
      "  cells (5.28)\n",
      "  tio2 (2.14)\n",
      "  counter (1.48)\n",
      "\n",
      "Topic 20\n",
      "  review (23.91)\n",
      "  comprehensive (3.15)\n",
      "  recent (2.06)\n",
      "  technologies (1.91)\n",
      "  techniques (1.84)\n",
      "\n",
      "Topic 21\n",
      "  water (15.86)\n",
      "  splitting (6.49)\n",
      "  photoelectrochemical (2.56)\n",
      "  oxidation (1.45)\n",
      "  pumping (1.21)\n",
      "\n",
      "Topic 22\n",
      "  efficiency (24.05)\n",
      "  conversion (4.17)\n",
      "  quantum (1.95)\n",
      "  stability (1.75)\n",
      "  improving (1.60)\n",
      "\n",
      "Topic 23\n",
      "  tracking (14.48)\n",
      "  maximum (9.86)\n",
      "  point (9.55)\n",
      "  axis (3.07)\n",
      "  dual (2.27)\n",
      "\n",
      "Topic 24\n",
      "  metal (7.42)\n",
      "  halide (7.05)\n",
      "  perovskites (5.70)\n",
      "  lead (3.82)\n",
      "  free (2.37)\n",
      "\n",
      "Topic 25\n",
      "  dc (20.15)\n",
      "  converter (9.42)\n",
      "  boost (2.99)\n",
      "  microgrid (2.67)\n",
      "  voltage (2.35)\n",
      "\n",
      "Topic 26\n",
      "  low (14.45)\n",
      "  temperature (8.60)\n",
      "  cost (6.35)\n",
      "  voltage (1.63)\n",
      "  surface (1.04)\n",
      "\n",
      "Topic 27\n",
      "  pv (24.00)\n",
      "  mppt (2.18)\n",
      "  battery (1.93)\n",
      "  module (1.49)\n",
      "  modules (1.37)\n",
      "\n",
      "Topic 28\n",
      "  storage (27.31)\n",
      "  energy (5.64)\n",
      "  battery (5.32)\n",
      "  conversion (1.54)\n",
      "  optimal (1.22)\n",
      "\n",
      "Topic 29\n",
      "  generation (26.98)\n",
      "  electricity (4.94)\n",
      "  distributed (4.00)\n",
      "  steam (2.17)\n",
      "  next (1.47)\n",
      "\n",
      "Topic 30\n",
      "  solar (26.46)\n",
      "  cells (2.52)\n",
      "  powered (1.56)\n",
      "  radiation (1.19)\n",
      "  panel (1.11)\n",
      "\n",
      "Topic 31\n",
      "  de (14.06)\n",
      "  la (3.13)\n",
      "  en (2.62)\n",
      "  para (2.55)\n",
      "  el (1.33)\n",
      "\n",
      "Topic 32\n",
      "  electric (14.33)\n",
      "  vehicle (8.93)\n",
      "  charging (8.47)\n",
      "  vehicles (4.49)\n",
      "  station (3.81)\n",
      "\n",
      "Topic 33\n",
      "  efficient (18.05)\n",
      "  highly (6.61)\n",
      "  stable (4.87)\n",
      "  polymer (1.05)\n",
      "  engineering (0.82)\n",
      "\n",
      "Topic 34\n",
      "  change (8.92)\n",
      "  climate (7.43)\n",
      "  phase (6.84)\n",
      "  material (3.44)\n",
      "  impact (1.47)\n",
      "\n",
      "Topic 35\n",
      "  heat (11.72)\n",
      "  transfer (4.43)\n",
      "  pump (2.32)\n",
      "  air (2.16)\n",
      "  experimental (1.73)\n",
      "\n",
      "Topic 36\n",
      "  learning (12.56)\n",
      "  machine (9.21)\n",
      "  forecasting (5.07)\n",
      "  deep (4.07)\n",
      "  prediction (3.40)\n",
      "\n",
      "Topic 37\n",
      "  development (14.46)\n",
      "  sustainable (7.97)\n",
      "  green (1.72)\n",
      "  technology (1.60)\n",
      "  future (1.20)\n",
      "\n",
      "Topic 38\n",
      "  light (7.73)\n",
      "  visible (3.24)\n",
      "  photocatalytic (2.84)\n",
      "  enhanced (2.23)\n",
      "  driven (1.87)\n",
      "\n",
      "Topic 39\n",
      "  carbon (13.01)\n",
      "  dioxide (2.53)\n",
      "  reduction (1.63)\n",
      "  nitride (1.62)\n",
      "  nanotubes (1.18)\n",
      "\n",
      "Topic 40\n",
      "  applications (24.66)\n",
      "  synthesis (3.32)\n",
      "  characterization (1.19)\n",
      "  recent (1.15)\n",
      "  graphene (1.14)\n",
      "\n",
      "Topic 41\n",
      "  wind (20.69)\n",
      "  turbine (2.13)\n",
      "  speed (0.98)\n",
      "  scale (0.93)\n",
      "  turbulence (0.92)\n",
      "\n",
      "Topic 42\n",
      "  control (18.59)\n",
      "  microgrid (4.11)\n",
      "  management (3.15)\n",
      "  strategy (2.96)\n",
      "  frequency (1.85)\n",
      "\n",
      "Topic 43\n",
      "  transport (8.74)\n",
      "  layer (8.54)\n",
      "  electron (6.48)\n",
      "  hole (4.84)\n",
      "  charge (2.40)\n",
      "\n",
      "Topic 44\n",
      "  optimization (20.16)\n",
      "  multi (4.91)\n",
      "  algorithm (3.95)\n",
      "  objective (2.43)\n",
      "  swarm (1.92)\n",
      "\n",
      "Topic 45\n",
      "  materials (23.77)\n",
      "  conversion (2.31)\n",
      "  hole (2.11)\n",
      "  recent (1.94)\n",
      "  transporting (1.76)\n",
      "\n",
      "Topic 46\n",
      "  thin (10.42)\n",
      "  film (6.53)\n",
      "  films (6.23)\n",
      "  deposition (1.44)\n",
      "  oxide (1.14)\n",
      "\n",
      "Topic 47\n",
      "  cell (16.17)\n",
      "  silicon (5.93)\n",
      "  fuel (2.19)\n",
      "  simulation (2.19)\n",
      "  si (1.50)\n",
      "\n",
      "Topic 48\n",
      "  model (7.66)\n",
      "  radiation (2.77)\n",
      "  data (1.38)\n",
      "  global (1.32)\n",
      "  surface (0.88)\n",
      "\n",
      "Topic 49\n",
      "  high (19.03)\n",
      "  temperature (1.17)\n",
      "  resolution (1.16)\n",
      "  penetration (1.15)\n",
      "  voltage (1.04)\n"
     ]
    }
   ],
   "source": [
    "def display_topics(model, features, no_top_words=5):\n",
    "    for topic, words in enumerate(model.components_):\n",
    "        total = words.sum()\n",
    "        largest = words.argsort()[::-1] # invert sort order\n",
    "        print(\"\\nTopic %02d\" % topic)\n",
    "        for i in range(0, no_top_words):\n",
    "            print(\"  %s (%2.2f)\" % (features[largest[i]], abs(words[largest[i]]*100.0/total)))\n",
    "            \n",
    "display_topics(nmf_text_model, tfidf_vectorizer.get_feature_names_out())"
   ]
  },
  {
   "cell_type": "code",
   "execution_count": 52,
   "metadata": {},
   "outputs": [
    {
     "name": "stdout",
     "output_type": "stream",
     "text": [
      "[0.92107735 2.94957144 2.36491615 5.84892933 1.63464385 3.19710793\n",
      " 1.88503729 2.18190544 1.33419815 1.03283192 1.17287122 2.54532112\n",
      " 1.66821773 1.10668354 2.95490498 1.51343868 0.81979635 1.88301162\n",
      " 1.66227445 1.67413562 0.64616082 1.3672007  1.57183605 1.19470891\n",
      " 1.50398656 1.35327762 1.16429827 1.93705616 1.75977276 1.70760468\n",
      " 3.24866825 1.10330043 1.57233496 1.89152997 1.55426629 2.01973403\n",
      " 1.26409713 2.17841097 3.25422294 1.80040284 1.96372267 2.12486678\n",
      " 2.03421557 2.62630775 2.35875261 2.34304014 2.31855733 2.96462467\n",
      " 3.93373652 2.88843145]\n"
     ]
    }
   ],
   "source": [
    "# Find out how “big” the topics are, i.e., how many documents could be assigned mainly to each topic. \n",
    "# This can be calculated using the document-topic matrix and \n",
    "# summing the individual topic contributions over all documents.\n",
    "# Normalizing them with the total sum and multiplying by 100 gives a percentage value:\n",
    "\n",
    "print(W_text_matrix.sum(axis=0)/W_text_matrix.sum()*100.0)"
   ]
  },
  {
   "cell_type": "code",
   "execution_count": 60,
   "metadata": {},
   "outputs": [],
   "source": [
    "feature_names = tfidf_vectorizer.get_feature_names_out()\n",
    "n_top_words = 5\n",
    "\n",
    "# Dokument-Topic-Zuordnung anzeigen\n",
    "# for doc_idx, topic_dist in enumerate(W_text_matrix):\n",
    "#     print(f\"Dokument {doc_idx}:\")\n",
    "#     print(\" \".join([f\"Topic {i}: {topic_dist[i]:.2f}\" for i in np.argsort(topic_dist)[::-1]]))"
   ]
  },
  {
   "cell_type": "code",
   "execution_count": 56,
   "metadata": {},
   "outputs": [
    {
     "name": "stdout",
     "output_type": "stream",
     "text": [
      "Topic Kohärenz: 0.72\n"
     ]
    }
   ],
   "source": [
    "# Gensim Dictionary und Corpus erstellen\n",
    "texts = [doc.split() for doc in data.Title.to_list()]\n",
    "dictionary = Dictionary(texts)\n",
    "corpus = [dictionary.doc2bow(text) for text in texts]\n",
    "\n",
    "# Topics in Gensim-Format umwandeln\n",
    "topics = [[feature_names[i] for i in topic.argsort()[:-n_top_words - 1:-1]] for topic in H_text_matrix]\n",
    "\n",
    "# Kohärenzmodell erstellen\n",
    "coherence_model = CoherenceModel(topics=topics, texts=texts, dictionary=dictionary, coherence='c_v')\n",
    "coherence_score = coherence_model.get_coherence()\n",
    "print(f\"Topic Kohärenz: {coherence_score:.2f}\")"
   ]
  },
  {
   "cell_type": "code",
   "execution_count": 59,
   "metadata": {},
   "outputs": [
    {
     "name": "stderr",
     "output_type": "stream",
     "text": [
      "c:\\Users\\lekle\\anaconda3\\Lib\\site-packages\\sklearn\\decomposition\\_nmf.py:1770: ConvergenceWarning: Maximum number of iterations 200 reached. Increase it to improve convergence.\n",
      "  warnings.warn(\n",
      "c:\\Users\\lekle\\anaconda3\\Lib\\site-packages\\sklearn\\decomposition\\_nmf.py:1770: ConvergenceWarning: Maximum number of iterations 200 reached. Increase it to improve convergence.\n",
      "  warnings.warn(\n",
      "c:\\Users\\lekle\\anaconda3\\Lib\\site-packages\\sklearn\\decomposition\\_nmf.py:1770: ConvergenceWarning: Maximum number of iterations 200 reached. Increase it to improve convergence.\n",
      "  warnings.warn(\n",
      "c:\\Users\\lekle\\anaconda3\\Lib\\site-packages\\sklearn\\decomposition\\_nmf.py:1770: ConvergenceWarning: Maximum number of iterations 200 reached. Increase it to improve convergence.\n",
      "  warnings.warn(\n",
      "c:\\Users\\lekle\\anaconda3\\Lib\\site-packages\\sklearn\\decomposition\\_nmf.py:1770: ConvergenceWarning: Maximum number of iterations 200 reached. Increase it to improve convergence.\n",
      "  warnings.warn(\n"
     ]
    },
    {
     "data": {
      "image/png": "[encoded data removed]",
      "text/plain": [
       "<Figure size 640x480 with 1 Axes>"
      ]
     },
     "metadata": {},
     "output_type": "display_data"
    }
   ],
   "source": [
    "X = tfidf_vectors\n",
    "# Elbow-Methode\n",
    "errors = []\n",
    "for n_topics in range(1, 51):\n",
    "    nmf = NMF(n_components=n_topics, random_state=random_state)\n",
    "    W = nmf.fit_transform(X)\n",
    "    H = nmf.components_\n",
    "    reconstruction_error = nmf.reconstruction_err_\n",
    "    errors.append(reconstruction_error)\n",
    "\n",
    "plt.plot(range(1, 51), errors, marker='o')\n",
    "plt.xlabel('Anzahl der Topics')\n",
    "plt.ylabel('Rekonstruktionsfehler')\n",
    "plt.title('Elbow-Methode zur Bestimmung der optimalen Anzahl der Topics')\n",
    "plt.show()"
   ]
  }
 ],
 "metadata": {
  "kernelspec": {
   "display_name": "base",
   "language": "python",
   "name": "python3"
  },
  "language_info": {
   "codemirror_mode": {
    "name": "ipython",
    "version": 3
   },
   "file_extension": ".py",
   "mimetype": "text/x-python",
   "name": "python",
   "nbconvert_exporter": "python",
   "pygments_lexer": "ipython3",
   "version": "3.12.4"
  }
 },
 "nbformat": 4,
 "nbformat_minor": 2
}
