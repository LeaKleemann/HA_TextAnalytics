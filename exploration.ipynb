{
 "cells": [
  {
   "cell_type": "code",
   "execution_count": null,
   "metadata": {},
   "outputs": [],
   "source": [
    "import pathlib2 as pathlib\n",
    "import pandas as pd\n",
    "import numpy as np\n",
    "import matplotlib.pyplot as plt\n",
    "import re\n",
    "\n",
    "from sklearn.feature_extraction.text import TfidfVectorizer, CountVectorizer\n",
    "from sklearn.decomposition import NMF\n",
    "from sklearn.decomposition import LatentDirichletAllocation\n",
    "from sklearn.decomposition import TruncatedSVD\n",
    "from sklearn.pipeline import Pipeline\n",
    "\n",
    "from nltk.corpus import stopwords\n",
    "# import nltk\n",
    "# nltk.download('stopwords')\n",
    "\n",
    "from gensim.models.coherencemodel import CoherenceModel\n",
    "from gensim.corpora.dictionary import Dictionary\n",
    "from gensim.parsing.preprocessing import STOPWORDS\n",
    "from gensim.utils import tokenize\n",
    "\n",
    "from langdetect import detect, DetectorFactory\n",
    "\n",
    "import joblib\n",
    "from optuna import Trial, create_study\n",
    "\n",
    "\n",
    "random_state=313\n",
    "DetectorFactory.seed = random_state"
   ]
  },
  {
   "cell_type": "code",
   "execution_count": 2,
   "metadata": {},
   "outputs": [],
   "source": [
    "datapath=pathlib.Path.cwd().joinpath('lens_org_data_files')\n",
    "datafiles=[x for x in datapath.iterdir()]\n",
    "models_path=pathlib.Path.cwd().joinpath('models')"
   ]
  },
  {
   "cell_type": "code",
   "execution_count": 16,
   "metadata": {},
   "outputs": [],
   "source": [
    "def clean_text(text):\n",
    "    clean = re.sub('<jats:[^>]*>', '', text)  # Entfernt alle jats Tags\n",
    "    return clean"
   ]
  },
  {
   "cell_type": "code",
   "execution_count": 3,
   "metadata": {},
   "outputs": [
    {
     "name": "stderr",
     "output_type": "stream",
     "text": [
      "C:\\Users\\lekle\\AppData\\Local\\Temp\\ipykernel_27884\\856187700.py:3: DtypeWarning: Columns (22) have mixed types. Specify dtype option on import or set low_memory=False.\n",
      "  df=pd.read_csv(file)\n",
      "C:\\Users\\lekle\\AppData\\Local\\Temp\\ipykernel_27884\\856187700.py:3: DtypeWarning: Columns (22) have mixed types. Specify dtype option on import or set low_memory=False.\n",
      "  df=pd.read_csv(file)\n",
      "C:\\Users\\lekle\\AppData\\Local\\Temp\\ipykernel_27884\\856187700.py:3: DtypeWarning: Columns (22) have mixed types. Specify dtype option on import or set low_memory=False.\n",
      "  df=pd.read_csv(file)\n",
      "C:\\Users\\lekle\\AppData\\Local\\Temp\\ipykernel_27884\\856187700.py:3: DtypeWarning: Columns (22) have mixed types. Specify dtype option on import or set low_memory=False.\n",
      "  df=pd.read_csv(file)\n",
      "C:\\Users\\lekle\\AppData\\Local\\Temp\\ipykernel_27884\\856187700.py:3: DtypeWarning: Columns (11) have mixed types. Specify dtype option on import or set low_memory=False.\n",
      "  df=pd.read_csv(file)\n",
      "C:\\Users\\lekle\\AppData\\Local\\Temp\\ipykernel_27884\\856187700.py:3: DtypeWarning: Columns (22) have mixed types. Specify dtype option on import or set low_memory=False.\n",
      "  df=pd.read_csv(file)\n"
     ]
    }
   ],
   "source": [
    "dfs=[]\n",
    "for file in datafiles:\n",
    "    df=pd.read_csv(file)\n",
    "    dfs.append(df)\n",
    "\n",
    "data=pd.concat(dfs,ignore_index=True)\n",
    "data=data.dropna(subset=['Title', 'Abstract'])"
   ]
  },
  {
   "cell_type": "code",
   "execution_count": 4,
   "metadata": {},
   "outputs": [
    {
     "data": {
      "text/plain": [
       "Index(['Lens ID', 'Title', 'Date Published', 'Publication Year',\n",
       "       'Publication Type', 'Source Title', 'ISSNs', 'Publisher',\n",
       "       'Source Country', 'Author/s', 'Abstract', 'Volume', 'Issue Number',\n",
       "       'Start Page', 'End Page', 'Fields of Study', 'Keywords', 'MeSH Terms',\n",
       "       'Chemicals', 'Funding', 'Source URLs', 'External URL', 'PMID', 'DOI',\n",
       "       'Microsoft Academic ID', 'PMCID', 'Citing Patents Count', 'References',\n",
       "       'Citing Works Count', 'Is Open Access', 'Open Access License',\n",
       "       'Open Access Colour'],\n",
       "      dtype='object')"
      ]
     },
     "execution_count": 4,
     "metadata": {},
     "output_type": "execute_result"
    }
   ],
   "source": [
    "data.columns"
   ]
  },
  {
   "cell_type": "code",
   "execution_count": 5,
   "metadata": {},
   "outputs": [
    {
     "name": "stdout",
     "output_type": "stream",
     "text": [
      "0\n",
      "0\n"
     ]
    }
   ],
   "source": [
    "print(data.Title.isna().sum())\n",
    "print(data.Abstract.isna().sum())"
   ]
  },
  {
   "cell_type": "code",
   "execution_count": 7,
   "metadata": {},
   "outputs": [
    {
     "data": {
      "text/plain": [
       "'<jats:p>Day-ahead solar irradiance forecasting is carried out using data from a tropical environment, Singapore. The performance of the weather research and forecasting (WRF) model is evaluated. We explore various combinations of physics configuration setups in the WRF model and propose a setup for the tropical regions. The WRF model is benchmarked using persistence and two seasonal time series models, namely, the exponential smoothing (ETS) and seasonal autoregressive integrated moving average (SARIMA) models. It is shown that the WRF model outperforms the SARIMA model and achieves accuracies comparable with persistence and ETS models. Persistence, ETS, and WRF models have relative root mean square errors (rRMSE) of about 55–57%. Furthermore, we find that by combining the forecasting outputs of WRF and ETS models, errors can be reduced to 49%.</jats:p>'"
      ]
     },
     "execution_count": 7,
     "metadata": {},
     "output_type": "execute_result"
    }
   ],
   "source": [
    "data.Abstract[0]"
   ]
  },
  {
   "cell_type": "code",
   "execution_count": 8,
   "metadata": {},
   "outputs": [],
   "source": [
    "languages=[]\n",
    "for x in data.Title:\n",
    "    try:\n",
    "        l=detect(x)\n",
    "    except:\n",
    "        l=False\n",
    "    languages.append(l)\n",
    "data['title_languages']=languages\n",
    "\n",
    "languages=[]\n",
    "for x in data.Abstract:\n",
    "    try:\n",
    "        l=detect(x)\n",
    "    except:\n",
    "        l=False\n",
    "    languages.append(l)\n",
    "data['abstract_languages']=languages\n"
   ]
  },
  {
   "cell_type": "code",
   "execution_count": 9,
   "metadata": {},
   "outputs": [],
   "source": [
    "# data.title_languages.value_counts()"
   ]
  },
  {
   "cell_type": "code",
   "execution_count": 12,
   "metadata": {},
   "outputs": [
    {
     "data": {
      "text/plain": [
       "242040"
      ]
     },
     "execution_count": 12,
     "metadata": {},
     "output_type": "execute_result"
    }
   ],
   "source": [
    "data=data[(data['title_languages']=='en') & (data['abstract_languages']=='en')]\n",
    "len(data)"
   ]
  },
  {
   "cell_type": "code",
   "execution_count": null,
   "metadata": {},
   "outputs": [
    {
     "data": {
      "text/plain": [
       "0    Day-Ahead Solar Irradiance Forecasting in a Tr...\n",
       "1    PORTABLE GREEN POWER GENERATION BASED ON HYBRI...\n",
       "2    Assessment of a falling solid particle receive...\n",
       "3    Reduction of the plasmonic absorption in the n...\n",
       "4    Boron-Doped Silicon Diatom Frustules as a Phot...\n",
       "Name: Title, dtype: object"
      ]
     },
     "execution_count": 18,
     "metadata": {},
     "output_type": "execute_result"
    }
   ],
   "source": [
    "data.Title.head(5)"
   ]
  },
  {
   "cell_type": "code",
   "execution_count": 13,
   "metadata": {},
   "outputs": [
    {
     "name": "stdout",
     "output_type": "stream",
     "text": [
      "242040\n",
      "80\n",
      "8\n"
     ]
    },
    {
     "data": {
      "text/plain": [
       "Source Country\n",
       "United Kingdom    40811\n",
       "United States     32451\n",
       "Germany           17973\n",
       "Switzerland       12466\n",
       "Netherlands        8749\n",
       "China              1598\n",
       "Egypt              1187\n",
       "India              1074\n",
       "Name: count, dtype: int64"
      ]
     },
     "execution_count": 13,
     "metadata": {},
     "output_type": "execute_result"
    }
   ],
   "source": [
    "print(len(data))\n",
    "print(len(data['Source Country'].unique()))\n",
    "# data_sourceCountry_valueCounts=data['Source Country'].value_counts()\n",
    "data_sourceCountry_valueCounts=data[data.groupby('Source Country')['Source Country'].transform('count')>1000]\n",
    "print(len(data_sourceCountry_valueCounts['Source Country'].value_counts()))\n",
    "data_sourceCountry_valueCounts['Source Country'].value_counts()"
   ]
  },
  {
   "cell_type": "code",
   "execution_count": 17,
   "metadata": {},
   "outputs": [],
   "source": [
    "data['Abstract']=data.Abstract.apply(clean_text)\n",
    "data.to_csv(\"cleaned_data.csv\",sep=';')"
   ]
  },
  {
   "cell_type": "code",
   "execution_count": 19,
   "metadata": {},
   "outputs": [
    {
     "data": {
      "text/plain": [
       "0     Day-ahead solar irradiance forecasting is carr...\n",
       "2     An advanced computational fluid dynamics (CFD)...\n",
       "4     An effective solar-powered silicon device for ...\n",
       "5     Abstract In this study, an isolated microgrid ...\n",
       "11    Thermal and electrical analysis of a linear pa...\n",
       "Name: Abstract, dtype: object"
      ]
     },
     "execution_count": 19,
     "metadata": {},
     "output_type": "execute_result"
    }
   ],
   "source": [
    "data.Abstract.head()"
   ]
  },
  {
   "cell_type": "code",
   "execution_count": 3,
   "metadata": {},
   "outputs": [
    {
     "name": "stderr",
     "output_type": "stream",
     "text": [
      "C:\\Users\\lekle\\AppData\\Local\\Temp\\ipykernel_452\\719415488.py:1: DtypeWarning: Columns (23,25) have mixed types. Specify dtype option on import or set low_memory=False.\n",
      "  data=pd.read_csv(\"cleaned_data/cleaned_data.csv\",sep=';')\n"
     ]
    },
    {
     "data": {
      "text/html": [
       "<div>\n",
       "<style scoped>\n",
       "    .dataframe tbody tr th:only-of-type {\n",
       "        vertical-align: middle;\n",
       "    }\n",
       "\n",
       "    .dataframe tbody tr th {\n",
       "        vertical-align: top;\n",
       "    }\n",
       "\n",
       "    .dataframe thead th {\n",
       "        text-align: right;\n",
       "    }\n",
       "</style>\n",
       "<table border=\"1\" class=\"dataframe\">\n",
       "  <thead>\n",
       "    <tr style=\"text-align: right;\">\n",
       "      <th></th>\n",
       "      <th>Unnamed: 0</th>\n",
       "      <th>Lens ID</th>\n",
       "      <th>Title</th>\n",
       "      <th>Date Published</th>\n",
       "      <th>Publication Year</th>\n",
       "      <th>Publication Type</th>\n",
       "      <th>Source Title</th>\n",
       "      <th>ISSNs</th>\n",
       "      <th>Publisher</th>\n",
       "      <th>Source Country</th>\n",
       "      <th>...</th>\n",
       "      <th>Microsoft Academic ID</th>\n",
       "      <th>PMCID</th>\n",
       "      <th>Citing Patents Count</th>\n",
       "      <th>References</th>\n",
       "      <th>Citing Works Count</th>\n",
       "      <th>Is Open Access</th>\n",
       "      <th>Open Access License</th>\n",
       "      <th>Open Access Colour</th>\n",
       "      <th>title_languages</th>\n",
       "      <th>abstract_languages</th>\n",
       "    </tr>\n",
       "  </thead>\n",
       "  <tbody>\n",
       "    <tr>\n",
       "      <th>0</th>\n",
       "      <td>0</td>\n",
       "      <td>000-008-268-360-004</td>\n",
       "      <td>Day-Ahead Solar Irradiance Forecasting in a Tr...</td>\n",
       "      <td>2015-07-27</td>\n",
       "      <td>2015</td>\n",
       "      <td>journal article</td>\n",
       "      <td>Journal of Solar Energy Engineering</td>\n",
       "      <td>01996231; 15288986</td>\n",
       "      <td>ASME International</td>\n",
       "      <td>United States</td>\n",
       "      <td>...</td>\n",
       "      <td>2131632891</td>\n",
       "      <td>NaN</td>\n",
       "      <td>0</td>\n",
       "      <td>001-815-086-488-477; 007-447-979-011-061; 025-...</td>\n",
       "      <td>33</td>\n",
       "      <td>False</td>\n",
       "      <td>NaN</td>\n",
       "      <td>NaN</td>\n",
       "      <td>en</td>\n",
       "      <td>en</td>\n",
       "    </tr>\n",
       "    <tr>\n",
       "      <th>1</th>\n",
       "      <td>2</td>\n",
       "      <td>000-042-629-788-452</td>\n",
       "      <td>Assessment of a falling solid particle receive...</td>\n",
       "      <td>NaN</td>\n",
       "      <td>2015</td>\n",
       "      <td>journal article</td>\n",
       "      <td>Solar Energy</td>\n",
       "      <td>0038092x</td>\n",
       "      <td>Elsevier BV</td>\n",
       "      <td>United Kingdom</td>\n",
       "      <td>...</td>\n",
       "      <td>2067658121</td>\n",
       "      <td>NaN</td>\n",
       "      <td>0</td>\n",
       "      <td>002-994-869-371-657; 005-360-904-860-363; 008-...</td>\n",
       "      <td>62</td>\n",
       "      <td>True</td>\n",
       "      <td>NaN</td>\n",
       "      <td>green</td>\n",
       "      <td>en</td>\n",
       "      <td>en</td>\n",
       "    </tr>\n",
       "    <tr>\n",
       "      <th>2</th>\n",
       "      <td>4</td>\n",
       "      <td>000-062-946-383-801</td>\n",
       "      <td>Boron-Doped Silicon Diatom Frustules as a Phot...</td>\n",
       "      <td>2015-07-30</td>\n",
       "      <td>2015</td>\n",
       "      <td>journal article</td>\n",
       "      <td>ACS applied materials &amp; interfaces</td>\n",
       "      <td>19448252; 19448244</td>\n",
       "      <td>American Chemical Society (ACS)</td>\n",
       "      <td>United States</td>\n",
       "      <td>...</td>\n",
       "      <td>2410807451</td>\n",
       "      <td>NaN</td>\n",
       "      <td>0</td>\n",
       "      <td>004-049-858-705-806; 007-090-004-757-278; 011-...</td>\n",
       "      <td>26</td>\n",
       "      <td>False</td>\n",
       "      <td>NaN</td>\n",
       "      <td>NaN</td>\n",
       "      <td>en</td>\n",
       "      <td>en</td>\n",
       "    </tr>\n",
       "    <tr>\n",
       "      <th>3</th>\n",
       "      <td>5</td>\n",
       "      <td>000-063-768-273-718</td>\n",
       "      <td>Renewable energy management through microgrid ...</td>\n",
       "      <td>NaN</td>\n",
       "      <td>2015</td>\n",
       "      <td>journal article</td>\n",
       "      <td>Energy Reports</td>\n",
       "      <td>23524847</td>\n",
       "      <td>Elsevier BV</td>\n",
       "      <td>United Kingdom</td>\n",
       "      <td>...</td>\n",
       "      <td>1193286937</td>\n",
       "      <td>NaN</td>\n",
       "      <td>0</td>\n",
       "      <td>004-077-674-704-399; 005-081-834-054-355; 011-...</td>\n",
       "      <td>79</td>\n",
       "      <td>True</td>\n",
       "      <td>CC BY, CC BY-NC-ND</td>\n",
       "      <td>gold</td>\n",
       "      <td>en</td>\n",
       "      <td>en</td>\n",
       "    </tr>\n",
       "    <tr>\n",
       "      <th>4</th>\n",
       "      <td>11</td>\n",
       "      <td>000-138-869-752-834</td>\n",
       "      <td>Thermal and electrical analysis of a linear pa...</td>\n",
       "      <td>2015-12-01</td>\n",
       "      <td>2015</td>\n",
       "      <td>NaN</td>\n",
       "      <td>NaN</td>\n",
       "      <td>NaN</td>\n",
       "      <td>NaN</td>\n",
       "      <td>NaN</td>\n",
       "      <td>...</td>\n",
       "      <td>3210564331</td>\n",
       "      <td>NaN</td>\n",
       "      <td>0</td>\n",
       "      <td>NaN</td>\n",
       "      <td>0</td>\n",
       "      <td>False</td>\n",
       "      <td>NaN</td>\n",
       "      <td>NaN</td>\n",
       "      <td>en</td>\n",
       "      <td>en</td>\n",
       "    </tr>\n",
       "  </tbody>\n",
       "</table>\n",
       "<p>5 rows × 35 columns</p>\n",
       "</div>"
      ],
      "text/plain": [
       "   Unnamed: 0              Lens ID  \\\n",
       "0           0  000-008-268-360-004   \n",
       "1           2  000-042-629-788-452   \n",
       "2           4  000-062-946-383-801   \n",
       "3           5  000-063-768-273-718   \n",
       "4          11  000-138-869-752-834   \n",
       "\n",
       "                                               Title Date Published  \\\n",
       "0  Day-Ahead Solar Irradiance Forecasting in a Tr...     2015-07-27   \n",
       "1  Assessment of a falling solid particle receive...            NaN   \n",
       "2  Boron-Doped Silicon Diatom Frustules as a Phot...     2015-07-30   \n",
       "3  Renewable energy management through microgrid ...            NaN   \n",
       "4  Thermal and electrical analysis of a linear pa...     2015-12-01   \n",
       "\n",
       "   Publication Year Publication Type                         Source Title  \\\n",
       "0              2015  journal article  Journal of Solar Energy Engineering   \n",
       "1              2015  journal article                         Solar Energy   \n",
       "2              2015  journal article   ACS applied materials & interfaces   \n",
       "3              2015  journal article                       Energy Reports   \n",
       "4              2015              NaN                                  NaN   \n",
       "\n",
       "                ISSNs                        Publisher  Source Country  ...  \\\n",
       "0  01996231; 15288986               ASME International   United States  ...   \n",
       "1            0038092x                      Elsevier BV  United Kingdom  ...   \n",
       "2  19448252; 19448244  American Chemical Society (ACS)   United States  ...   \n",
       "3            23524847                      Elsevier BV  United Kingdom  ...   \n",
       "4                 NaN                              NaN             NaN  ...   \n",
       "\n",
       "  Microsoft Academic ID PMCID Citing Patents Count  \\\n",
       "0            2131632891   NaN                    0   \n",
       "1            2067658121   NaN                    0   \n",
       "2            2410807451   NaN                    0   \n",
       "3            1193286937   NaN                    0   \n",
       "4            3210564331   NaN                    0   \n",
       "\n",
       "                                          References Citing Works Count  \\\n",
       "0  001-815-086-488-477; 007-447-979-011-061; 025-...                 33   \n",
       "1  002-994-869-371-657; 005-360-904-860-363; 008-...                 62   \n",
       "2  004-049-858-705-806; 007-090-004-757-278; 011-...                 26   \n",
       "3  004-077-674-704-399; 005-081-834-054-355; 011-...                 79   \n",
       "4                                                NaN                  0   \n",
       "\n",
       "  Is Open Access Open Access License Open Access Colour title_languages  \\\n",
       "0          False                 NaN                NaN              en   \n",
       "1           True                 NaN              green              en   \n",
       "2          False                 NaN                NaN              en   \n",
       "3           True  CC BY, CC BY-NC-ND               gold              en   \n",
       "4          False                 NaN                NaN              en   \n",
       "\n",
       "  abstract_languages  \n",
       "0                 en  \n",
       "1                 en  \n",
       "2                 en  \n",
       "3                 en  \n",
       "4                 en  \n",
       "\n",
       "[5 rows x 35 columns]"
      ]
     },
     "execution_count": 3,
     "metadata": {},
     "output_type": "execute_result"
    }
   ],
   "source": [
    "data=pd.read_csv(\"cleaned_data/cleaned_data.csv\",sep=';')\n",
    "data.head()"
   ]
  },
  {
   "cell_type": "code",
   "execution_count": 46,
   "metadata": {},
   "outputs": [
    {
     "data": {
      "text/plain": [
       "(254447, 20235)"
      ]
     },
     "execution_count": 46,
     "metadata": {},
     "output_type": "execute_result"
    }
   ],
   "source": [
    "stopwords=stopwords.words('english')\n",
    "tfidf_vectorizer = TfidfVectorizer(stop_words=stopwords, min_df=5, max_df=0.7)\n",
    "tfidf_vectors = tfidf_vectorizer.fit_transform(data['Title'])\n",
    "tfidf_vectors.shape"
   ]
  },
  {
   "cell_type": "code",
   "execution_count": 49,
   "metadata": {},
   "outputs": [
    {
     "name": "stdout",
     "output_type": "stream",
     "text": [
      "class:  ndarray\n",
      "shape:  (254447, 50)\n",
      "strides:  (400, 8)\n",
      "itemsize:  8\n",
      "aligned:  True\n",
      "contiguous:  True\n",
      "fortran:  False\n",
      "data pointer: 0x19a03c21040\n",
      "byteorder:  little\n",
      "byteswap:  False\n",
      "type: float64\n"
     ]
    }
   ],
   "source": [
    "nmf_text_model = NMF(n_components=50, random_state=random_state) # n_components: number of topics\n",
    "W_text_matrix = nmf_text_model.fit_transform(tfidf_vectors)\n",
    "H_text_matrix = nmf_text_model.components_\n",
    "np.info(W_text_matrix)"
   ]
  },
  {
   "cell_type": "code",
   "execution_count": 50,
   "metadata": {},
   "outputs": [
    {
     "name": "stdout",
     "output_type": "stream",
     "text": [
      "class:  ndarray\n",
      "shape:  (50, 20235)\n",
      "strides:  (8, 400)\n",
      "itemsize:  8\n",
      "aligned:  True\n",
      "contiguous:  False\n",
      "fortran:  True\n",
      "data pointer: 0x19a00347040\n",
      "byteorder:  little\n",
      "byteswap:  False\n",
      "type: float64\n"
     ]
    }
   ],
   "source": [
    "np.info(H_text_matrix) "
   ]
  },
  {
   "cell_type": "code",
   "execution_count": 51,
   "metadata": {},
   "outputs": [
    {
     "name": "stdout",
     "output_type": "stream",
     "text": [
      "\n",
      "Topic 00\n",
      "  system (35.60)\n",
      "  integrated (2.44)\n",
      "  monitoring (2.11)\n",
      "  heating (1.62)\n",
      "  cooling (1.53)\n",
      "\n",
      "Topic 01\n",
      "  perovskite (13.82)\n",
      "  cells (9.89)\n",
      "  stable (1.65)\n",
      "  stability (1.64)\n",
      "  tandem (1.26)\n",
      "\n",
      "Topic 02\n",
      "  sub (35.25)\n",
      "  co (2.09)\n",
      "  tio (1.46)\n",
      "  cu (1.06)\n",
      "  scp (0.97)\n",
      "\n",
      "Topic 03\n",
      "  energy (16.94)\n",
      "  renewable (7.58)\n",
      "  sources (2.04)\n",
      "  harvesting (1.30)\n",
      "  management (1.28)\n",
      "\n",
      "Topic 04\n",
      "  performance (24.07)\n",
      "  evaluation (3.86)\n",
      "  effect (2.41)\n",
      "  collector (1.24)\n",
      "  experimental (1.16)\n",
      "\n",
      "Topic 05\n",
      "  power (28.13)\n",
      "  plant (5.19)\n",
      "  plants (3.26)\n",
      "  quality (1.75)\n",
      "  concentrated (1.36)\n",
      "\n",
      "Topic 06\n",
      "  based (27.93)\n",
      "  iot (1.40)\n",
      "  monitoring (0.88)\n",
      "  method (0.87)\n",
      "  mppt (0.80)\n",
      "\n",
      "Topic 07\n",
      "  photovoltaic (30.46)\n",
      "  modules (2.41)\n",
      "  module (1.87)\n",
      "  panels (1.68)\n",
      "  devices (0.98)\n",
      "\n",
      "Topic 08\n",
      "  thermal (23.37)\n",
      "  collector (2.64)\n",
      "  experimental (1.32)\n",
      "  collectors (1.19)\n",
      "  parabolic (1.11)\n",
      "\n",
      "Topic 09\n",
      "  hydrogen (12.22)\n",
      "  production (11.13)\n",
      "  evolution (2.44)\n",
      "  photocatalytic (2.25)\n",
      "  green (2.09)\n",
      "\n",
      "Topic 10\n",
      "  grid (23.40)\n",
      "  connected (11.02)\n",
      "  smart (3.77)\n",
      "  micro (2.43)\n",
      "  inverter (2.40)\n",
      "\n",
      "Topic 11\n",
      "  using (22.14)\n",
      "  neural (1.31)\n",
      "  method (1.28)\n",
      "  artificial (1.02)\n",
      "  algorithm (0.94)\n",
      "\n",
      "Topic 12\n",
      "  systems (32.69)\n",
      "  integrated (1.74)\n",
      "  heating (1.32)\n",
      "  distribution (1.26)\n",
      "  economic (0.94)\n",
      "\n",
      "Topic 13\n",
      "  properties (8.24)\n",
      "  optical (5.41)\n",
      "  effect (2.47)\n",
      "  structural (2.19)\n",
      "  electronic (2.08)\n",
      "\n",
      "Topic 14\n",
      "  study (16.72)\n",
      "  case (8.52)\n",
      "  experimental (2.10)\n",
      "  comparative (1.88)\n",
      "  feasibility (1.35)\n",
      "\n",
      "Topic 15\n",
      "  analysis (22.39)\n",
      "  economic (4.66)\n",
      "  techno (2.36)\n",
      "  comparative (1.74)\n",
      "  exergy (1.11)\n",
      "\n",
      "Topic 16\n",
      "  design (28.38)\n",
      "  implementation (2.59)\n",
      "  building (1.55)\n",
      "  simulation (1.46)\n",
      "  fabrication (1.24)\n",
      "\n",
      "Topic 17\n",
      "  hybrid (37.92)\n",
      "  inorganic (1.78)\n",
      "  economic (1.48)\n",
      "  battery (1.47)\n",
      "  diesel (1.43)\n",
      "\n",
      "Topic 18\n",
      "  organic (10.86)\n",
      "  cells (4.65)\n",
      "  fullerene (2.37)\n",
      "  non (2.25)\n",
      "  polymer (2.24)\n",
      "\n",
      "Topic 19\n",
      "  dye (12.25)\n",
      "  sensitized (11.28)\n",
      "  cells (5.28)\n",
      "  tio2 (2.14)\n",
      "  counter (1.48)\n",
      "\n",
      "Topic 20\n",
      "  review (23.91)\n",
      "  comprehensive (3.15)\n",
      "  recent (2.06)\n",
      "  technologies (1.91)\n",
      "  techniques (1.84)\n",
      "\n",
      "Topic 21\n",
      "  water (15.86)\n",
      "  splitting (6.49)\n",
      "  photoelectrochemical (2.56)\n",
      "  oxidation (1.45)\n",
      "  pumping (1.21)\n",
      "\n",
      "Topic 22\n",
      "  efficiency (24.05)\n",
      "  conversion (4.17)\n",
      "  quantum (1.95)\n",
      "  stability (1.75)\n",
      "  improving (1.60)\n",
      "\n",
      "Topic 23\n",
      "  tracking (14.48)\n",
      "  maximum (9.86)\n",
      "  point (9.55)\n",
      "  axis (3.07)\n",
      "  dual (2.27)\n",
      "\n",
      "Topic 24\n",
      "  metal (7.42)\n",
      "  halide (7.05)\n",
      "  perovskites (5.70)\n",
      "  lead (3.82)\n",
      "  free (2.37)\n",
      "\n",
      "Topic 25\n",
      "  dc (20.15)\n",
      "  converter (9.42)\n",
      "  boost (2.99)\n",
      "  microgrid (2.67)\n",
      "  voltage (2.35)\n",
      "\n",
      "Topic 26\n",
      "  low (14.45)\n",
      "  temperature (8.60)\n",
      "  cost (6.35)\n",
      "  voltage (1.63)\n",
      "  surface (1.04)\n",
      "\n",
      "Topic 27\n",
      "  pv (24.00)\n",
      "  mppt (2.18)\n",
      "  battery (1.93)\n",
      "  module (1.49)\n",
      "  modules (1.37)\n",
      "\n",
      "Topic 28\n",
      "  storage (27.31)\n",
      "  energy (5.64)\n",
      "  battery (5.32)\n",
      "  conversion (1.54)\n",
      "  optimal (1.22)\n",
      "\n",
      "Topic 29\n",
      "  generation (26.98)\n",
      "  electricity (4.94)\n",
      "  distributed (4.00)\n",
      "  steam (2.17)\n",
      "  next (1.47)\n",
      "\n",
      "Topic 30\n",
      "  solar (26.46)\n",
      "  cells (2.52)\n",
      "  powered (1.56)\n",
      "  radiation (1.19)\n",
      "  panel (1.11)\n",
      "\n",
      "Topic 31\n",
      "  de (14.06)\n",
      "  la (3.13)\n",
      "  en (2.62)\n",
      "  para (2.55)\n",
      "  el (1.33)\n",
      "\n",
      "Topic 32\n",
      "  electric (14.33)\n",
      "  vehicle (8.93)\n",
      "  charging (8.47)\n",
      "  vehicles (4.49)\n",
      "  station (3.81)\n",
      "\n",
      "Topic 33\n",
      "  efficient (18.05)\n",
      "  highly (6.61)\n",
      "  stable (4.87)\n",
      "  polymer (1.05)\n",
      "  engineering (0.82)\n",
      "\n",
      "Topic 34\n",
      "  change (8.92)\n",
      "  climate (7.43)\n",
      "  phase (6.84)\n",
      "  material (3.44)\n",
      "  impact (1.47)\n",
      "\n",
      "Topic 35\n",
      "  heat (11.72)\n",
      "  transfer (4.43)\n",
      "  pump (2.32)\n",
      "  air (2.16)\n",
      "  experimental (1.73)\n",
      "\n",
      "Topic 36\n",
      "  learning (12.56)\n",
      "  machine (9.21)\n",
      "  forecasting (5.07)\n",
      "  deep (4.07)\n",
      "  prediction (3.40)\n",
      "\n",
      "Topic 37\n",
      "  development (14.46)\n",
      "  sustainable (7.97)\n",
      "  green (1.72)\n",
      "  technology (1.60)\n",
      "  future (1.20)\n",
      "\n",
      "Topic 38\n",
      "  light (7.73)\n",
      "  visible (3.24)\n",
      "  photocatalytic (2.84)\n",
      "  enhanced (2.23)\n",
      "  driven (1.87)\n",
      "\n",
      "Topic 39\n",
      "  carbon (13.01)\n",
      "  dioxide (2.53)\n",
      "  reduction (1.63)\n",
      "  nitride (1.62)\n",
      "  nanotubes (1.18)\n",
      "\n",
      "Topic 40\n",
      "  applications (24.66)\n",
      "  synthesis (3.32)\n",
      "  characterization (1.19)\n",
      "  recent (1.15)\n",
      "  graphene (1.14)\n",
      "\n",
      "Topic 41\n",
      "  wind (20.69)\n",
      "  turbine (2.13)\n",
      "  speed (0.98)\n",
      "  scale (0.93)\n",
      "  turbulence (0.92)\n",
      "\n",
      "Topic 42\n",
      "  control (18.59)\n",
      "  microgrid (4.11)\n",
      "  management (3.15)\n",
      "  strategy (2.96)\n",
      "  frequency (1.85)\n",
      "\n",
      "Topic 43\n",
      "  transport (8.74)\n",
      "  layer (8.54)\n",
      "  electron (6.48)\n",
      "  hole (4.84)\n",
      "  charge (2.40)\n",
      "\n",
      "Topic 44\n",
      "  optimization (20.16)\n",
      "  multi (4.91)\n",
      "  algorithm (3.95)\n",
      "  objective (2.43)\n",
      "  swarm (1.92)\n",
      "\n",
      "Topic 45\n",
      "  materials (23.77)\n",
      "  conversion (2.31)\n",
      "  hole (2.11)\n",
      "  recent (1.94)\n",
      "  transporting (1.76)\n",
      "\n",
      "Topic 46\n",
      "  thin (10.42)\n",
      "  film (6.53)\n",
      "  films (6.23)\n",
      "  deposition (1.44)\n",
      "  oxide (1.14)\n",
      "\n",
      "Topic 47\n",
      "  cell (16.17)\n",
      "  silicon (5.93)\n",
      "  fuel (2.19)\n",
      "  simulation (2.19)\n",
      "  si (1.50)\n",
      "\n",
      "Topic 48\n",
      "  model (7.66)\n",
      "  radiation (2.77)\n",
      "  data (1.38)\n",
      "  global (1.32)\n",
      "  surface (0.88)\n",
      "\n",
      "Topic 49\n",
      "  high (19.03)\n",
      "  temperature (1.17)\n",
      "  resolution (1.16)\n",
      "  penetration (1.15)\n",
      "  voltage (1.04)\n"
     ]
    }
   ],
   "source": [
    "def display_topics(model, features, no_top_words=5):\n",
    "    for topic, words in enumerate(model.components_):\n",
    "        total = words.sum()\n",
    "        largest = words.argsort()[::-1] # invert sort order\n",
    "        print(\"\\nTopic %02d\" % topic)\n",
    "        for i in range(0, no_top_words):\n",
    "            print(\"  %s (%2.2f)\" % (features[largest[i]], abs(words[largest[i]]*100.0/total)))\n",
    "            \n",
    "display_topics(nmf_text_model, tfidf_vectorizer.get_feature_names_out())"
   ]
  },
  {
   "cell_type": "code",
   "execution_count": 52,
   "metadata": {},
   "outputs": [
    {
     "name": "stdout",
     "output_type": "stream",
     "text": [
      "[0.92107735 2.94957144 2.36491615 5.84892933 1.63464385 3.19710793\n",
      " 1.88503729 2.18190544 1.33419815 1.03283192 1.17287122 2.54532112\n",
      " 1.66821773 1.10668354 2.95490498 1.51343868 0.81979635 1.88301162\n",
      " 1.66227445 1.67413562 0.64616082 1.3672007  1.57183605 1.19470891\n",
      " 1.50398656 1.35327762 1.16429827 1.93705616 1.75977276 1.70760468\n",
      " 3.24866825 1.10330043 1.57233496 1.89152997 1.55426629 2.01973403\n",
      " 1.26409713 2.17841097 3.25422294 1.80040284 1.96372267 2.12486678\n",
      " 2.03421557 2.62630775 2.35875261 2.34304014 2.31855733 2.96462467\n",
      " 3.93373652 2.88843145]\n"
     ]
    }
   ],
   "source": [
    "# Find out how “big” the topics are, i.e., how many documents could be assigned mainly to each topic. \n",
    "# This can be calculated using the document-topic matrix and \n",
    "# summing the individual topic contributions over all documents.\n",
    "# Normalizing them with the total sum and multiplying by 100 gives a percentage value:\n",
    "\n",
    "print(W_text_matrix.sum(axis=0)/W_text_matrix.sum()*100.0)"
   ]
  },
  {
   "cell_type": "code",
   "execution_count": 60,
   "metadata": {},
   "outputs": [],
   "source": [
    "feature_names = tfidf_vectorizer.get_feature_names_out()\n",
    "n_top_words = 5\n",
    "\n",
    "# Dokument-Topic-Zuordnung anzeigen\n",
    "# for doc_idx, topic_dist in enumerate(W_text_matrix):\n",
    "#     print(f\"Dokument {doc_idx}:\")\n",
    "#     print(\" \".join([f\"Topic {i}: {topic_dist[i]:.2f}\" for i in np.argsort(topic_dist)[::-1]]))"
   ]
  },
  {
   "cell_type": "code",
   "execution_count": 56,
   "metadata": {},
   "outputs": [
    {
     "name": "stdout",
     "output_type": "stream",
     "text": [
      "Topic Kohärenz: 0.72\n"
     ]
    }
   ],
   "source": [
    "# Gensim Dictionary und Corpus erstellen\n",
    "texts = [doc.split() for doc in data.Title.to_list()]\n",
    "dictionary = Dictionary(texts)\n",
    "corpus = [dictionary.doc2bow(text) for text in texts]\n",
    "\n",
    "# Topics in Gensim-Format umwandeln\n",
    "topics = [[feature_names[i] for i in topic.argsort()[:-n_top_words - 1:-1]] for topic in H_text_matrix]\n",
    "\n",
    "# Kohärenzmodell erstellen\n",
    "coherence_model = CoherenceModel(topics=topics, texts=texts, dictionary=dictionary, coherence='c_v')\n",
    "coherence_score = coherence_model.get_coherence()\n",
    "print(f\"Topic Kohärenz: {coherence_score:.2f}\")"
   ]
  },
  {
   "cell_type": "code",
   "execution_count": 59,
   "metadata": {},
   "outputs": [
    {
     "name": "stderr",
     "output_type": "stream",
     "text": [
      "c:\\Users\\lekle\\anaconda3\\Lib\\site-packages\\sklearn\\decomposition\\_nmf.py:1770: ConvergenceWarning: Maximum number of iterations 200 reached. Increase it to improve convergence.\n",
      "  warnings.warn(\n",
      "c:\\Users\\lekle\\anaconda3\\Lib\\site-packages\\sklearn\\decomposition\\_nmf.py:1770: ConvergenceWarning: Maximum number of iterations 200 reached. Increase it to improve convergence.\n",
      "  warnings.warn(\n",
      "c:\\Users\\lekle\\anaconda3\\Lib\\site-packages\\sklearn\\decomposition\\_nmf.py:1770: ConvergenceWarning: Maximum number of iterations 200 reached. Increase it to improve convergence.\n",
      "  warnings.warn(\n",
      "c:\\Users\\lekle\\anaconda3\\Lib\\site-packages\\sklearn\\decomposition\\_nmf.py:1770: ConvergenceWarning: Maximum number of iterations 200 reached. Increase it to improve convergence.\n",
      "  warnings.warn(\n",
      "c:\\Users\\lekle\\anaconda3\\Lib\\site-packages\\sklearn\\decomposition\\_nmf.py:1770: ConvergenceWarning: Maximum number of iterations 200 reached. Increase it to improve convergence.\n",
      "  warnings.warn(\n"
     ]
    },
    {
     "data": {
      "image/png": "[encoded data removed]",
      "text/plain": [
       "<Figure size 640x480 with 1 Axes>"
      ]
     },
     "metadata": {},
     "output_type": "display_data"
    }
   ],
   "source": [
    "X = tfidf_vectors\n",
    "# Elbow-Methode\n",
    "errors = []\n",
    "for n_topics in range(1, 51):\n",
    "    nmf = NMF(n_components=n_topics, random_state=random_state)\n",
    "    W = nmf.fit_transform(X)\n",
    "    H = nmf.components_\n",
    "    reconstruction_error = nmf.reconstruction_err_\n",
    "    errors.append(reconstruction_error)\n",
    "\n",
    "plt.plot(range(1, 51), errors, marker='o')\n",
    "plt.xlabel('Anzahl der Topics')\n",
    "plt.ylabel('Rekonstruktionsfehler')\n",
    "plt.title('Elbow-Methode zur Bestimmung der optimalen Anzahl der Topics')\n",
    "plt.show()"
   ]
  },
  {
   "cell_type": "code",
   "execution_count": 4,
   "metadata": {},
   "outputs": [],
   "source": [
    "stopwords2=stopwords.words('english')\n",
    "stopwords3=list(STOPWORDS)"
   ]
  },
  {
   "cell_type": "code",
   "execution_count": 4,
   "metadata": {},
   "outputs": [
    {
     "name": "stdout",
     "output_type": "stream",
     "text": [
      "No sqlite db found\n"
     ]
    },
    {
     "name": "stderr",
     "output_type": "stream",
     "text": [
      "[I 2025-03-11 18:32:50,038] A new study created in RDB with name: topicmodeling_nmf_titles\n"
     ]
    },
    {
     "data": {
      "application/vnd.jupyter.widget-view+json": {
       "model_id": "eab0301b2c734981b438e6bee8889e1f",
       "version_major": 2,
       "version_minor": 0
      },
      "text/plain": [
       "  0%|          | 0/20 [00:00<?, ?it/s]"
      ]
     },
     "metadata": {},
     "output_type": "display_data"
    },
    {
     "name": "stderr",
     "output_type": "stream",
     "text": [
      "c:\\Users\\lekle\\anaconda3\\Lib\\site-packages\\sklearn\\feature_extraction\\text.py:525: UserWarning: The parameter 'token_pattern' will not be used since 'tokenizer' is not None'\n",
      "  warnings.warn(\n"
     ]
    },
    {
     "name": "stdout",
     "output_type": "stream",
     "text": [
      "[I 2025-03-11 18:34:23,456] Trial 0 finished with value: 0.7029450436635895 and parameters: {'max_df': 0.8178862223292064, 'min_df': 93, 'n_components': 50}. Best is trial 0 with value: 0.7029450436635895.\n"
     ]
    },
    {
     "name": "stderr",
     "output_type": "stream",
     "text": [
      "c:\\Users\\lekle\\anaconda3\\Lib\\site-packages\\sklearn\\feature_extraction\\text.py:525: UserWarning: The parameter 'token_pattern' will not be used since 'tokenizer' is not None'\n",
      "  warnings.warn(\n"
     ]
    },
    {
     "name": "stdout",
     "output_type": "stream",
     "text": [
      "[I 2025-03-11 18:35:35,046] Trial 1 finished with value: 0.7278457935562976 and parameters: {'max_df': 0.6119607005333083, 'min_df': 75, 'n_components': 25}. Best is trial 1 with value: 0.7278457935562976.\n"
     ]
    },
    {
     "name": "stderr",
     "output_type": "stream",
     "text": [
      "c:\\Users\\lekle\\anaconda3\\Lib\\site-packages\\sklearn\\feature_extraction\\text.py:525: UserWarning: The parameter 'token_pattern' will not be used since 'tokenizer' is not None'\n",
      "  warnings.warn(\n"
     ]
    },
    {
     "name": "stdout",
     "output_type": "stream",
     "text": [
      "[I 2025-03-11 18:36:19,031] Trial 2 finished with value: 0.6438110504021215 and parameters: {'max_df': 0.9731897169322492, 'min_df': 84, 'n_components': 5}. Best is trial 1 with value: 0.7278457935562976.\n"
     ]
    },
    {
     "name": "stderr",
     "output_type": "stream",
     "text": [
      "c:\\Users\\lekle\\anaconda3\\Lib\\site-packages\\sklearn\\feature_extraction\\text.py:525: UserWarning: The parameter 'token_pattern' will not be used since 'tokenizer' is not None'\n",
      "  warnings.warn(\n"
     ]
    },
    {
     "name": "stdout",
     "output_type": "stream",
     "text": [
      "[I 2025-03-11 18:42:29,173] Trial 3 finished with value: 0.6622884063328577 and parameters: {'max_df': 0.4065786592070851, 'min_df': 27, 'n_components': 100}. Best is trial 1 with value: 0.7278457935562976.\n"
     ]
    },
    {
     "name": "stderr",
     "output_type": "stream",
     "text": [
      "c:\\Users\\lekle\\anaconda3\\Lib\\site-packages\\sklearn\\feature_extraction\\text.py:525: UserWarning: The parameter 'token_pattern' will not be used since 'tokenizer' is not None'\n",
      "  warnings.warn(\n"
     ]
    },
    {
     "name": "stdout",
     "output_type": "stream",
     "text": [
      "[I 2025-03-11 18:44:00,099] Trial 4 finished with value: 0.6991335345687973 and parameters: {'max_df': 0.8992522367842861, 'min_df': 51, 'n_components': 50}. Best is trial 1 with value: 0.7278457935562976.\n"
     ]
    },
    {
     "name": "stderr",
     "output_type": "stream",
     "text": [
      "c:\\Users\\lekle\\anaconda3\\Lib\\site-packages\\sklearn\\feature_extraction\\text.py:525: UserWarning: The parameter 'token_pattern' will not be used since 'tokenizer' is not None'\n",
      "  warnings.warn(\n"
     ]
    },
    {
     "name": "stdout",
     "output_type": "stream",
     "text": [
      "[I 2025-03-11 18:45:22,302] Trial 5 finished with value: 0.6895846564771714 and parameters: {'max_df': 0.8035330556846705, 'min_df': 11, 'n_components': 50}. Best is trial 1 with value: 0.7278457935562976.\n"
     ]
    },
    {
     "name": "stderr",
     "output_type": "stream",
     "text": [
      "c:\\Users\\lekle\\anaconda3\\Lib\\site-packages\\sklearn\\feature_extraction\\text.py:525: UserWarning: The parameter 'token_pattern' will not be used since 'tokenizer' is not None'\n",
      "  warnings.warn(\n"
     ]
    },
    {
     "name": "stdout",
     "output_type": "stream",
     "text": [
      "[I 2025-03-11 18:49:27,216] Trial 6 finished with value: 0.660486794900957 and parameters: {'max_df': 0.6731090869334164, 'min_df': 11, 'n_components': 100}. Best is trial 1 with value: 0.7278457935562976.\n"
     ]
    },
    {
     "name": "stderr",
     "output_type": "stream",
     "text": [
      "c:\\Users\\lekle\\anaconda3\\Lib\\site-packages\\sklearn\\feature_extraction\\text.py:525: UserWarning: The parameter 'token_pattern' will not be used since 'tokenizer' is not None'\n",
      "  warnings.warn(\n"
     ]
    },
    {
     "name": "stdout",
     "output_type": "stream",
     "text": [
      "[I 2025-03-11 18:50:11,287] Trial 7 finished with value: 0.6644665588057275 and parameters: {'max_df': 0.4485585058088167, 'min_df': 18, 'n_components': 5}. Best is trial 1 with value: 0.7278457935562976.\n"
     ]
    },
    {
     "name": "stderr",
     "output_type": "stream",
     "text": [
      "c:\\Users\\lekle\\anaconda3\\Lib\\site-packages\\sklearn\\feature_extraction\\text.py:525: UserWarning: The parameter 'token_pattern' will not be used since 'tokenizer' is not None'\n",
      "  warnings.warn(\n"
     ]
    },
    {
     "name": "stdout",
     "output_type": "stream",
     "text": [
      "[I 2025-03-11 18:51:03,506] Trial 8 finished with value: 0.721951134734044 and parameters: {'max_df': 0.5822125096181309, 'min_df': 85, 'n_components': 10}. Best is trial 1 with value: 0.7278457935562976.\n"
     ]
    },
    {
     "name": "stderr",
     "output_type": "stream",
     "text": [
      "c:\\Users\\lekle\\anaconda3\\Lib\\site-packages\\sklearn\\feature_extraction\\text.py:525: UserWarning: The parameter 'token_pattern' will not be used since 'tokenizer' is not None'\n",
      "  warnings.warn(\n"
     ]
    },
    {
     "name": "stdout",
     "output_type": "stream",
     "text": [
      "[I 2025-03-11 18:54:23,916] Trial 9 finished with value: 0.6542992136346717 and parameters: {'max_df': 0.8556329368608442, 'min_df': 95, 'n_components': 100}. Best is trial 1 with value: 0.7278457935562976.\n"
     ]
    },
    {
     "name": "stderr",
     "output_type": "stream",
     "text": [
      "c:\\Users\\lekle\\anaconda3\\Lib\\site-packages\\sklearn\\feature_extraction\\text.py:525: UserWarning: The parameter 'token_pattern' will not be used since 'tokenizer' is not None'\n",
      "  warnings.warn(\n"
     ]
    },
    {
     "name": "stdout",
     "output_type": "stream",
     "text": [
      "[I 2025-03-11 18:55:47,832] Trial 10 finished with value: 0.7173229180968935 and parameters: {'max_df': 0.5832039910229289, 'min_df': 65, 'n_components': 25}. Best is trial 1 with value: 0.7278457935562976.\n"
     ]
    },
    {
     "name": "stderr",
     "output_type": "stream",
     "text": [
      "c:\\Users\\lekle\\anaconda3\\Lib\\site-packages\\sklearn\\feature_extraction\\text.py:525: UserWarning: The parameter 'token_pattern' will not be used since 'tokenizer' is not None'\n",
      "  warnings.warn(\n",
      "c:\\Users\\lekle\\anaconda3\\Lib\\site-packages\\sklearn\\decomposition\\_nmf.py:1770: ConvergenceWarning: Maximum number of iterations 200 reached. Increase it to improve convergence.\n",
      "  warnings.warn(\n"
     ]
    },
    {
     "name": "stdout",
     "output_type": "stream",
     "text": [
      "[I 2025-03-11 18:56:44,694] Trial 11 finished with value: 0.721951134734044 and parameters: {'max_df': 0.5686162775255873, 'min_df': 73, 'n_components': 10}. Best is trial 1 with value: 0.7278457935562976.\n"
     ]
    },
    {
     "name": "stderr",
     "output_type": "stream",
     "text": [
      "c:\\Users\\lekle\\anaconda3\\Lib\\site-packages\\sklearn\\feature_extraction\\text.py:525: UserWarning: The parameter 'token_pattern' will not be used since 'tokenizer' is not None'\n",
      "  warnings.warn(\n"
     ]
    },
    {
     "name": "stdout",
     "output_type": "stream",
     "text": [
      "[I 2025-03-11 18:57:43,385] Trial 12 finished with value: 0.7103202709450162 and parameters: {'max_df': 0.6697753899408245, 'min_df': 57, 'n_components': 25}. Best is trial 1 with value: 0.7278457935562976.\n"
     ]
    },
    {
     "name": "stderr",
     "output_type": "stream",
     "text": [
      "c:\\Users\\lekle\\anaconda3\\Lib\\site-packages\\sklearn\\feature_extraction\\text.py:525: UserWarning: The parameter 'token_pattern' will not be used since 'tokenizer' is not None'\n",
      "  warnings.warn(\n"
     ]
    },
    {
     "name": "stdout",
     "output_type": "stream",
     "text": [
      "[I 2025-03-11 18:58:34,912] Trial 13 finished with value: 0.721951134734044 and parameters: {'max_df': 0.5414244262888096, 'min_df': 78, 'n_components': 10}. Best is trial 1 with value: 0.7278457935562976.\n"
     ]
    },
    {
     "name": "stderr",
     "output_type": "stream",
     "text": [
      "c:\\Users\\lekle\\anaconda3\\Lib\\site-packages\\sklearn\\feature_extraction\\text.py:525: UserWarning: The parameter 'token_pattern' will not be used since 'tokenizer' is not None'\n",
      "  warnings.warn(\n"
     ]
    },
    {
     "name": "stdout",
     "output_type": "stream",
     "text": [
      "[I 2025-03-11 18:59:42,626] Trial 14 finished with value: 0.743404348926301 and parameters: {'max_df': 0.48841695822571024, 'min_df': 41, 'n_components': 25}. Best is trial 14 with value: 0.743404348926301.\n"
     ]
    },
    {
     "name": "stderr",
     "output_type": "stream",
     "text": [
      "c:\\Users\\lekle\\anaconda3\\Lib\\site-packages\\sklearn\\feature_extraction\\text.py:525: UserWarning: The parameter 'token_pattern' will not be used since 'tokenizer' is not None'\n",
      "  warnings.warn(\n"
     ]
    },
    {
     "name": "stdout",
     "output_type": "stream",
     "text": [
      "[I 2025-03-11 19:00:59,902] Trial 15 finished with value: 0.7065082778999127 and parameters: {'max_df': 0.47333421352658056, 'min_df': 39, 'n_components': 25}. Best is trial 14 with value: 0.743404348926301.\n"
     ]
    },
    {
     "name": "stderr",
     "output_type": "stream",
     "text": [
      "c:\\Users\\lekle\\anaconda3\\Lib\\site-packages\\sklearn\\feature_extraction\\text.py:525: UserWarning: The parameter 'token_pattern' will not be used since 'tokenizer' is not None'\n",
      "  warnings.warn(\n"
     ]
    },
    {
     "name": "stdout",
     "output_type": "stream",
     "text": [
      "[I 2025-03-11 19:02:08,019] Trial 16 finished with value: 0.743404348926301 and parameters: {'max_df': 0.741132540472343, 'min_df': 41, 'n_components': 25}. Best is trial 14 with value: 0.743404348926301.\n"
     ]
    },
    {
     "name": "stderr",
     "output_type": "stream",
     "text": [
      "c:\\Users\\lekle\\anaconda3\\Lib\\site-packages\\sklearn\\feature_extraction\\text.py:525: UserWarning: The parameter 'token_pattern' will not be used since 'tokenizer' is not None'\n",
      "  warnings.warn(\n"
     ]
    },
    {
     "name": "stdout",
     "output_type": "stream",
     "text": [
      "[I 2025-03-11 19:03:23,503] Trial 17 finished with value: 0.7065082778999127 and parameters: {'max_df': 0.7394351747191222, 'min_df': 39, 'n_components': 25}. Best is trial 14 with value: 0.743404348926301.\n"
     ]
    },
    {
     "name": "stderr",
     "output_type": "stream",
     "text": [
      "c:\\Users\\lekle\\anaconda3\\Lib\\site-packages\\sklearn\\feature_extraction\\text.py:525: UserWarning: The parameter 'token_pattern' will not be used since 'tokenizer' is not None'\n",
      "  warnings.warn(\n"
     ]
    },
    {
     "name": "stdout",
     "output_type": "stream",
     "text": [
      "[I 2025-03-11 19:04:31,300] Trial 18 finished with value: 0.743404348926301 and parameters: {'max_df': 0.7386566516845466, 'min_df': 41, 'n_components': 25}. Best is trial 14 with value: 0.743404348926301.\n"
     ]
    },
    {
     "name": "stderr",
     "output_type": "stream",
     "text": [
      "c:\\Users\\lekle\\anaconda3\\Lib\\site-packages\\sklearn\\feature_extraction\\text.py:525: UserWarning: The parameter 'token_pattern' will not be used since 'tokenizer' is not None'\n",
      "  warnings.warn(\n"
     ]
    },
    {
     "name": "stdout",
     "output_type": "stream",
     "text": [
      "[I 2025-03-11 19:05:36,816] Trial 19 finished with value: 0.7036152732183409 and parameters: {'max_df': 0.7405750315800548, 'min_df': 29, 'n_components': 25}. Best is trial 14 with value: 0.743404348926301.\n"
     ]
    },
    {
     "name": "stderr",
     "output_type": "stream",
     "text": [
      "c:\\Users\\lekle\\anaconda3\\Lib\\site-packages\\sklearn\\feature_extraction\\text.py:525: UserWarning: The parameter 'token_pattern' will not be used since 'tokenizer' is not None'\n",
      "  warnings.warn(\n"
     ]
    },
    {
     "data": {
      "text/plain": [
       "['c:/Users/lekle/Projects_Code/HA_TextAnalytics/models/topicmodeling_nmf_titles/topicmodeling_nmf_titles.pkl']"
      ]
     },
     "execution_count": 4,
     "metadata": {},
     "output_type": "execute_result"
    }
   ],
   "source": [
    "\n",
    "studyname='topicmodeling_nmf_titles'\n",
    "thismodelpath=models_path.joinpath(f'{studyname}')\n",
    "try: \n",
    "    thismodelpath.mkdir(exist_ok=False)\n",
    "except FileExistsError:\n",
    "    print('Directory already exists')\n",
    "\n",
    "\n",
    "def inst_tfidf(trial:Trial)->TfidfVectorizer:\n",
    "    params={\n",
    "        'stop_words':'english',\n",
    "        'tokenizer':tokenize,\n",
    "        # 'max_features':trial.suggest_categorical('max_features',[None,1000,5000,10000])\n",
    "        'max_df':trial.suggest_float('max_df',0.4,1),\n",
    "        'min_df':trial.suggest_int('min_df',10,100)\n",
    "    }\n",
    "    return TfidfVectorizer(**params)\n",
    "\n",
    "def inst_nmf(trial:Trial)->NMF:\n",
    "    params={\n",
    "        'random_state':random_state,\n",
    "        'n_components':trial.suggest_categorical('n_components',[5,10,25,50,100])\n",
    "    }\n",
    "    return NMF(**params)\n",
    "def inst_pipe_nmf(trial:Trial)->Pipeline:\n",
    "    pipeline=Pipeline([\n",
    "        ('tfidf',inst_tfidf(trial)),\n",
    "        ('nmf',inst_nmf(trial))\n",
    "    ])\n",
    "    return pipeline\n",
    "def objective(trial:Trial,x:pd.DataFrame)->float:\n",
    "    model=inst_pipe_nmf(trial)\n",
    "    # print(type(model))\n",
    "    fitmodel=model.fit(x)\n",
    "    W_text_matrix = fitmodel.transform(x)\n",
    "    H_text_matrix = fitmodel.named_steps['nmf'].components_\n",
    "    feature_names = fitmodel.named_steps['tfidf'].get_feature_names_out()\n",
    "    n_top_words = 5\n",
    "    texts=[doc.split() for doc in x.to_list()]\n",
    "    dictionary = Dictionary(texts)\n",
    "    corpus = [dictionary.doc2bow(text) for text in texts]\n",
    "\n",
    "    topics = [[feature_names[i] for i in topic.argsort()[:-n_top_words - 1:-1]] for topic in H_text_matrix]\n",
    "\n",
    "    coherence_model = CoherenceModel(topics=topics, texts=texts, dictionary=dictionary, coherence='c_v')\n",
    "    coherence_score = coherence_model.get_coherence()\n",
    "    return coherence_score\n",
    "\n",
    "\n",
    "storage=thismodelpath.joinpath(f\"{studyname}.db\")\n",
    "if storage.exists():\n",
    "    storage.unlink()\n",
    "else:\n",
    "    print(\"No sqlite db found\")\n",
    "\n",
    "study=create_study(study_name=studyname,direction='maximize',storage=f'sqlite:///{storage.as_posix()}',load_if_exists=False) #TPESampler used as default, no pruning\n",
    "study.optimize(lambda trial: objective(trial,data['Title']),n_trials=20,n_jobs=1,show_progress_bar=True)\n",
    "joblib.dump(study,thismodelpath.joinpath(f'study_{study.study_name}.pkl').as_posix())\n",
    "\n",
    "model=inst_pipe_nmf(study.best_trial)\n",
    "fitpipe=model.fit(data['Title'])\n",
    "joblib.dump(fitpipe,thismodelpath.joinpath(f'{studyname}.pkl').as_posix())"
   ]
  },
  {
   "cell_type": "code",
   "execution_count": 4,
   "metadata": {},
   "outputs": [
    {
     "name": "stdout",
     "output_type": "stream",
     "text": [
      "No sqlite db found\n"
     ]
    },
    {
     "name": "stderr",
     "output_type": "stream",
     "text": [
      "[I 2025-03-11 20:12:12,459] A new study created in RDB with name: topicmodeling_nmf_abstracts\n"
     ]
    },
    {
     "data": {
      "application/vnd.jupyter.widget-view+json": {
       "model_id": "08cf91bd54bc48ef9e9a5441b59d95f0",
       "version_major": 2,
       "version_minor": 0
      },
      "text/plain": [
       "  0%|          | 0/20 [00:00<?, ?it/s]"
      ]
     },
     "metadata": {},
     "output_type": "display_data"
    },
    {
     "name": "stderr",
     "output_type": "stream",
     "text": [
      "c:\\Users\\lekle\\anaconda3\\Lib\\site-packages\\sklearn\\feature_extraction\\text.py:525: UserWarning: The parameter 'token_pattern' will not be used since 'tokenizer' is not None'\n",
      "  warnings.warn(\n"
     ]
    },
    {
     "name": "stdout",
     "output_type": "stream",
     "text": [
      "[I 2025-03-11 20:16:45,667] Trial 0 finished with value: 0.5644235863390562 and parameters: {'max_df': 0.9669399524872131, 'min_df': 88, 'n_components': 10}. Best is trial 0 with value: 0.5644235863390562.\n"
     ]
    },
    {
     "name": "stderr",
     "output_type": "stream",
     "text": [
      "c:\\Users\\lekle\\anaconda3\\Lib\\site-packages\\sklearn\\feature_extraction\\text.py:525: UserWarning: The parameter 'token_pattern' will not be used since 'tokenizer' is not None'\n",
      "  warnings.warn(\n"
     ]
    },
    {
     "name": "stdout",
     "output_type": "stream",
     "text": [
      "[I 2025-03-11 20:29:03,780] Trial 1 finished with value: 0.6518322585651621 and parameters: {'max_df': 0.690679068069564, 'min_df': 77, 'n_components': 100}. Best is trial 1 with value: 0.6518322585651621.\n"
     ]
    },
    {
     "name": "stderr",
     "output_type": "stream",
     "text": [
      "c:\\Users\\lekle\\anaconda3\\Lib\\site-packages\\sklearn\\feature_extraction\\text.py:525: UserWarning: The parameter 'token_pattern' will not be used since 'tokenizer' is not None'\n",
      "  warnings.warn(\n"
     ]
    },
    {
     "name": "stdout",
     "output_type": "stream",
     "text": [
      "[I 2025-03-11 20:33:25,775] Trial 2 finished with value: 0.5421689048935451 and parameters: {'max_df': 0.7962189261361021, 'min_df': 25, 'n_components': 5}. Best is trial 1 with value: 0.6518322585651621.\n"
     ]
    },
    {
     "name": "stderr",
     "output_type": "stream",
     "text": [
      "c:\\Users\\lekle\\anaconda3\\Lib\\site-packages\\sklearn\\feature_extraction\\text.py:525: UserWarning: The parameter 'token_pattern' will not be used since 'tokenizer' is not None'\n",
      "  warnings.warn(\n"
     ]
    },
    {
     "name": "stdout",
     "output_type": "stream",
     "text": [
      "[I 2025-03-11 20:38:45,594] Trial 3 finished with value: 0.6249558682174178 and parameters: {'max_df': 0.8798423500993653, 'min_df': 61, 'n_components': 25}. Best is trial 1 with value: 0.6518322585651621.\n"
     ]
    },
    {
     "name": "stderr",
     "output_type": "stream",
     "text": [
      "c:\\Users\\lekle\\anaconda3\\Lib\\site-packages\\sklearn\\feature_extraction\\text.py:525: UserWarning: The parameter 'token_pattern' will not be used since 'tokenizer' is not None'\n",
      "  warnings.warn(\n"
     ]
    },
    {
     "name": "stdout",
     "output_type": "stream",
     "text": [
      "[W 2025-03-11 20:42:59,704] Trial 4 failed with parameters: {'max_df': 0.8193345405623665, 'min_df': 89, 'n_components': 100} because of the following error: KeyboardInterrupt().\n",
      "Traceback (most recent call last):\n",
      "  File \"c:\\Users\\lekle\\anaconda3\\Lib\\site-packages\\optuna\\study\\_optimize.py\", line 197, in _run_trial\n",
      "    value_or_values = func(trial)\n",
      "                      ^^^^^^^^^^^\n",
      "  File \"C:\\Users\\lekle\\AppData\\Local\\Temp\\ipykernel_452\\1727404965.py\", line 57, in <lambda>\n",
      "    study.optimize(lambda trial: objective(trial,data['Abstract']),n_trials=20,n_jobs=1,show_progress_bar=True)\n",
      "                                 ^^^^^^^^^^^^^^^^^^^^^^^^^^^^^^^^^\n",
      "  File \"C:\\Users\\lekle\\AppData\\Local\\Temp\\ipykernel_452\\1727404965.py\", line 34, in objective\n",
      "    fitmodel=model.fit(x)\n",
      "             ^^^^^^^^^^^^\n",
      "  File \"c:\\Users\\lekle\\anaconda3\\Lib\\site-packages\\sklearn\\base.py\", line 1474, in wrapper\n",
      "    return fit_method(estimator, *args, **kwargs)\n",
      "           ^^^^^^^^^^^^^^^^^^^^^^^^^^^^^^^^^^^^^^\n",
      "  File \"c:\\Users\\lekle\\anaconda3\\Lib\\site-packages\\sklearn\\pipeline.py\", line 475, in fit\n",
      "    self._final_estimator.fit(Xt, y, **last_step_params[\"fit\"])\n",
      "  File \"c:\\Users\\lekle\\anaconda3\\Lib\\site-packages\\sklearn\\decomposition\\_nmf.py\", line 1310, in fit\n",
      "    self.fit_transform(X, **params)\n",
      "  File \"c:\\Users\\lekle\\anaconda3\\Lib\\site-packages\\sklearn\\utils\\_set_output.py\", line 295, in wrapped\n",
      "    data_to_wrap = f(self, X, *args, **kwargs)\n",
      "                   ^^^^^^^^^^^^^^^^^^^^^^^^^^^\n",
      "  File \"c:\\Users\\lekle\\anaconda3\\Lib\\site-packages\\sklearn\\base.py\", line 1474, in wrapper\n",
      "    return fit_method(estimator, *args, **kwargs)\n",
      "           ^^^^^^^^^^^^^^^^^^^^^^^^^^^^^^^^^^^^^^\n",
      "  File \"c:\\Users\\lekle\\anaconda3\\Lib\\site-packages\\sklearn\\decomposition\\_nmf.py\", line 1666, in fit_transform\n",
      "    W, H, n_iter = self._fit_transform(X, W=W, H=H)\n",
      "                   ^^^^^^^^^^^^^^^^^^^^^^^^^^^^^^^^\n",
      "  File \"c:\\Users\\lekle\\anaconda3\\Lib\\site-packages\\sklearn\\decomposition\\_nmf.py\", line 1736, in _fit_transform\n",
      "    W, H, n_iter = _fit_coordinate_descent(\n",
      "                   ^^^^^^^^^^^^^^^^^^^^^^^^\n",
      "  File \"c:\\Users\\lekle\\anaconda3\\Lib\\site-packages\\sklearn\\decomposition\\_nmf.py\", line 503, in _fit_coordinate_descent\n",
      "    violation += _update_coordinate_descent(\n",
      "                 ^^^^^^^^^^^^^^^^^^^^^^^^^^^\n",
      "  File \"c:\\Users\\lekle\\anaconda3\\Lib\\site-packages\\sklearn\\decomposition\\_nmf.py\", line 406, in _update_coordinate_descent\n",
      "    return _update_cdnmf_fast(W, HHt, XHt, permutation)\n",
      "           ^^^^^^^^^^^^^^^^^^^^^^^^^^^^^^^^^^^^^^^^^^^^\n",
      "KeyboardInterrupt\n",
      "[W 2025-03-11 20:42:59,709] Trial 4 failed with value None.\n"
     ]
    },
    {
     "ename": "KeyboardInterrupt",
     "evalue": "",
     "output_type": "error",
     "traceback": [
      "\u001b[1;31m---------------------------------------------------------------------------\u001b[0m",
      "\u001b[1;31mKeyboardInterrupt\u001b[0m                         Traceback (most recent call last)",
      "Cell \u001b[1;32mIn[4], line 57\u001b[0m\n\u001b[0;32m     54\u001b[0m     \u001b[38;5;28mprint\u001b[39m(\u001b[38;5;124m\"\u001b[39m\u001b[38;5;124mNo sqlite db found\u001b[39m\u001b[38;5;124m\"\u001b[39m)\n\u001b[0;32m     56\u001b[0m study\u001b[38;5;241m=\u001b[39mcreate_study(study_name\u001b[38;5;241m=\u001b[39mstudyname,direction\u001b[38;5;241m=\u001b[39m\u001b[38;5;124m'\u001b[39m\u001b[38;5;124mmaximize\u001b[39m\u001b[38;5;124m'\u001b[39m,storage\u001b[38;5;241m=\u001b[39m\u001b[38;5;124mf\u001b[39m\u001b[38;5;124m'\u001b[39m\u001b[38;5;124msqlite:///\u001b[39m\u001b[38;5;132;01m{\u001b[39;00mstorage\u001b[38;5;241m.\u001b[39mas_posix()\u001b[38;5;132;01m}\u001b[39;00m\u001b[38;5;124m'\u001b[39m,load_if_exists\u001b[38;5;241m=\u001b[39m\u001b[38;5;28;01mFalse\u001b[39;00m) \u001b[38;5;66;03m#TPESampler used as default, no pruning\u001b[39;00m\n\u001b[1;32m---> 57\u001b[0m study\u001b[38;5;241m.\u001b[39moptimize(\u001b[38;5;28;01mlambda\u001b[39;00m trial: objective(trial,data[\u001b[38;5;124m'\u001b[39m\u001b[38;5;124mAbstract\u001b[39m\u001b[38;5;124m'\u001b[39m]),n_trials\u001b[38;5;241m=\u001b[39m\u001b[38;5;241m20\u001b[39m,n_jobs\u001b[38;5;241m=\u001b[39m\u001b[38;5;241m1\u001b[39m,show_progress_bar\u001b[38;5;241m=\u001b[39m\u001b[38;5;28;01mTrue\u001b[39;00m)\n\u001b[0;32m     58\u001b[0m joblib\u001b[38;5;241m.\u001b[39mdump(study,thismodelpath\u001b[38;5;241m.\u001b[39mjoinpath(\u001b[38;5;124mf\u001b[39m\u001b[38;5;124m'\u001b[39m\u001b[38;5;124mstudy_\u001b[39m\u001b[38;5;132;01m{\u001b[39;00mstudy\u001b[38;5;241m.\u001b[39mstudy_name\u001b[38;5;132;01m}\u001b[39;00m\u001b[38;5;124m.pkl\u001b[39m\u001b[38;5;124m'\u001b[39m)\u001b[38;5;241m.\u001b[39mas_posix())\n\u001b[0;32m     60\u001b[0m model\u001b[38;5;241m=\u001b[39minst_pipe_nmf(study\u001b[38;5;241m.\u001b[39mbest_trial)\n",
      "File \u001b[1;32mc:\\Users\\lekle\\anaconda3\\Lib\\site-packages\\optuna\\study\\study.py:475\u001b[0m, in \u001b[0;36mStudy.optimize\u001b[1;34m(self, func, n_trials, timeout, n_jobs, catch, callbacks, gc_after_trial, show_progress_bar)\u001b[0m\n\u001b[0;32m    373\u001b[0m \u001b[38;5;28;01mdef\u001b[39;00m \u001b[38;5;21moptimize\u001b[39m(\n\u001b[0;32m    374\u001b[0m     \u001b[38;5;28mself\u001b[39m,\n\u001b[0;32m    375\u001b[0m     func: ObjectiveFuncType,\n\u001b[1;32m   (...)\u001b[0m\n\u001b[0;32m    382\u001b[0m     show_progress_bar: \u001b[38;5;28mbool\u001b[39m \u001b[38;5;241m=\u001b[39m \u001b[38;5;28;01mFalse\u001b[39;00m,\n\u001b[0;32m    383\u001b[0m ) \u001b[38;5;241m-\u001b[39m\u001b[38;5;241m>\u001b[39m \u001b[38;5;28;01mNone\u001b[39;00m:\n\u001b[0;32m    384\u001b[0m \u001b[38;5;250m    \u001b[39m\u001b[38;5;124;03m\"\"\"Optimize an objective function.\u001b[39;00m\n\u001b[0;32m    385\u001b[0m \n\u001b[0;32m    386\u001b[0m \u001b[38;5;124;03m    Optimization is done by choosing a suitable set of hyperparameter values from a given\u001b[39;00m\n\u001b[1;32m   (...)\u001b[0m\n\u001b[0;32m    473\u001b[0m \u001b[38;5;124;03m            If nested invocation of this method occurs.\u001b[39;00m\n\u001b[0;32m    474\u001b[0m \u001b[38;5;124;03m    \"\"\"\u001b[39;00m\n\u001b[1;32m--> 475\u001b[0m     _optimize(\n\u001b[0;32m    476\u001b[0m         study\u001b[38;5;241m=\u001b[39m\u001b[38;5;28mself\u001b[39m,\n\u001b[0;32m    477\u001b[0m         func\u001b[38;5;241m=\u001b[39mfunc,\n\u001b[0;32m    478\u001b[0m         n_trials\u001b[38;5;241m=\u001b[39mn_trials,\n\u001b[0;32m    479\u001b[0m         timeout\u001b[38;5;241m=\u001b[39mtimeout,\n\u001b[0;32m    480\u001b[0m         n_jobs\u001b[38;5;241m=\u001b[39mn_jobs,\n\u001b[0;32m    481\u001b[0m         catch\u001b[38;5;241m=\u001b[39m\u001b[38;5;28mtuple\u001b[39m(catch) \u001b[38;5;28;01mif\u001b[39;00m \u001b[38;5;28misinstance\u001b[39m(catch, Iterable) \u001b[38;5;28;01melse\u001b[39;00m (catch,),\n\u001b[0;32m    482\u001b[0m         callbacks\u001b[38;5;241m=\u001b[39mcallbacks,\n\u001b[0;32m    483\u001b[0m         gc_after_trial\u001b[38;5;241m=\u001b[39mgc_after_trial,\n\u001b[0;32m    484\u001b[0m         show_progress_bar\u001b[38;5;241m=\u001b[39mshow_progress_bar,\n\u001b[0;32m    485\u001b[0m     )\n",
      "File \u001b[1;32mc:\\Users\\lekle\\anaconda3\\Lib\\site-packages\\optuna\\study\\_optimize.py:63\u001b[0m, in \u001b[0;36m_optimize\u001b[1;34m(study, func, n_trials, timeout, n_jobs, catch, callbacks, gc_after_trial, show_progress_bar)\u001b[0m\n\u001b[0;32m     61\u001b[0m \u001b[38;5;28;01mtry\u001b[39;00m:\n\u001b[0;32m     62\u001b[0m     \u001b[38;5;28;01mif\u001b[39;00m n_jobs \u001b[38;5;241m==\u001b[39m \u001b[38;5;241m1\u001b[39m:\n\u001b[1;32m---> 63\u001b[0m         _optimize_sequential(\n\u001b[0;32m     64\u001b[0m             study,\n\u001b[0;32m     65\u001b[0m             func,\n\u001b[0;32m     66\u001b[0m             n_trials,\n\u001b[0;32m     67\u001b[0m             timeout,\n\u001b[0;32m     68\u001b[0m             catch,\n\u001b[0;32m     69\u001b[0m             callbacks,\n\u001b[0;32m     70\u001b[0m             gc_after_trial,\n\u001b[0;32m     71\u001b[0m             reseed_sampler_rng\u001b[38;5;241m=\u001b[39m\u001b[38;5;28;01mFalse\u001b[39;00m,\n\u001b[0;32m     72\u001b[0m             time_start\u001b[38;5;241m=\u001b[39m\u001b[38;5;28;01mNone\u001b[39;00m,\n\u001b[0;32m     73\u001b[0m             progress_bar\u001b[38;5;241m=\u001b[39mprogress_bar,\n\u001b[0;32m     74\u001b[0m         )\n\u001b[0;32m     75\u001b[0m     \u001b[38;5;28;01melse\u001b[39;00m:\n\u001b[0;32m     76\u001b[0m         \u001b[38;5;28;01mif\u001b[39;00m n_jobs \u001b[38;5;241m==\u001b[39m \u001b[38;5;241m-\u001b[39m\u001b[38;5;241m1\u001b[39m:\n",
      "File \u001b[1;32mc:\\Users\\lekle\\anaconda3\\Lib\\site-packages\\optuna\\study\\_optimize.py:160\u001b[0m, in \u001b[0;36m_optimize_sequential\u001b[1;34m(study, func, n_trials, timeout, catch, callbacks, gc_after_trial, reseed_sampler_rng, time_start, progress_bar)\u001b[0m\n\u001b[0;32m    157\u001b[0m         \u001b[38;5;28;01mbreak\u001b[39;00m\n\u001b[0;32m    159\u001b[0m \u001b[38;5;28;01mtry\u001b[39;00m:\n\u001b[1;32m--> 160\u001b[0m     frozen_trial \u001b[38;5;241m=\u001b[39m _run_trial(study, func, catch)\n\u001b[0;32m    161\u001b[0m \u001b[38;5;28;01mfinally\u001b[39;00m:\n\u001b[0;32m    162\u001b[0m     \u001b[38;5;66;03m# The following line mitigates memory problems that can be occurred in some\u001b[39;00m\n\u001b[0;32m    163\u001b[0m     \u001b[38;5;66;03m# environments (e.g., services that use computing containers such as GitHub Actions).\u001b[39;00m\n\u001b[0;32m    164\u001b[0m     \u001b[38;5;66;03m# Please refer to the following PR for further details:\u001b[39;00m\n\u001b[0;32m    165\u001b[0m     \u001b[38;5;66;03m# https://github.com/optuna/optuna/pull/325.\u001b[39;00m\n\u001b[0;32m    166\u001b[0m     \u001b[38;5;28;01mif\u001b[39;00m gc_after_trial:\n",
      "File \u001b[1;32mc:\\Users\\lekle\\anaconda3\\Lib\\site-packages\\optuna\\study\\_optimize.py:248\u001b[0m, in \u001b[0;36m_run_trial\u001b[1;34m(study, func, catch)\u001b[0m\n\u001b[0;32m    241\u001b[0m         \u001b[38;5;28;01massert\u001b[39;00m \u001b[38;5;28;01mFalse\u001b[39;00m, \u001b[38;5;124m\"\u001b[39m\u001b[38;5;124mShould not reach.\u001b[39m\u001b[38;5;124m\"\u001b[39m\n\u001b[0;32m    243\u001b[0m \u001b[38;5;28;01mif\u001b[39;00m (\n\u001b[0;32m    244\u001b[0m     frozen_trial\u001b[38;5;241m.\u001b[39mstate \u001b[38;5;241m==\u001b[39m TrialState\u001b[38;5;241m.\u001b[39mFAIL\n\u001b[0;32m    245\u001b[0m     \u001b[38;5;129;01mand\u001b[39;00m func_err \u001b[38;5;129;01mis\u001b[39;00m \u001b[38;5;129;01mnot\u001b[39;00m \u001b[38;5;28;01mNone\u001b[39;00m\n\u001b[0;32m    246\u001b[0m     \u001b[38;5;129;01mand\u001b[39;00m \u001b[38;5;129;01mnot\u001b[39;00m \u001b[38;5;28misinstance\u001b[39m(func_err, catch)\n\u001b[0;32m    247\u001b[0m ):\n\u001b[1;32m--> 248\u001b[0m     \u001b[38;5;28;01mraise\u001b[39;00m func_err\n\u001b[0;32m    249\u001b[0m \u001b[38;5;28;01mreturn\u001b[39;00m frozen_trial\n",
      "File \u001b[1;32mc:\\Users\\lekle\\anaconda3\\Lib\\site-packages\\optuna\\study\\_optimize.py:197\u001b[0m, in \u001b[0;36m_run_trial\u001b[1;34m(study, func, catch)\u001b[0m\n\u001b[0;32m    195\u001b[0m \u001b[38;5;28;01mwith\u001b[39;00m get_heartbeat_thread(trial\u001b[38;5;241m.\u001b[39m_trial_id, study\u001b[38;5;241m.\u001b[39m_storage):\n\u001b[0;32m    196\u001b[0m     \u001b[38;5;28;01mtry\u001b[39;00m:\n\u001b[1;32m--> 197\u001b[0m         value_or_values \u001b[38;5;241m=\u001b[39m func(trial)\n\u001b[0;32m    198\u001b[0m     \u001b[38;5;28;01mexcept\u001b[39;00m exceptions\u001b[38;5;241m.\u001b[39mTrialPruned \u001b[38;5;28;01mas\u001b[39;00m e:\n\u001b[0;32m    199\u001b[0m         \u001b[38;5;66;03m# TODO(mamu): Handle multi-objective cases.\u001b[39;00m\n\u001b[0;32m    200\u001b[0m         state \u001b[38;5;241m=\u001b[39m TrialState\u001b[38;5;241m.\u001b[39mPRUNED\n",
      "Cell \u001b[1;32mIn[4], line 57\u001b[0m, in \u001b[0;36m<lambda>\u001b[1;34m(trial)\u001b[0m\n\u001b[0;32m     54\u001b[0m     \u001b[38;5;28mprint\u001b[39m(\u001b[38;5;124m\"\u001b[39m\u001b[38;5;124mNo sqlite db found\u001b[39m\u001b[38;5;124m\"\u001b[39m)\n\u001b[0;32m     56\u001b[0m study\u001b[38;5;241m=\u001b[39mcreate_study(study_name\u001b[38;5;241m=\u001b[39mstudyname,direction\u001b[38;5;241m=\u001b[39m\u001b[38;5;124m'\u001b[39m\u001b[38;5;124mmaximize\u001b[39m\u001b[38;5;124m'\u001b[39m,storage\u001b[38;5;241m=\u001b[39m\u001b[38;5;124mf\u001b[39m\u001b[38;5;124m'\u001b[39m\u001b[38;5;124msqlite:///\u001b[39m\u001b[38;5;132;01m{\u001b[39;00mstorage\u001b[38;5;241m.\u001b[39mas_posix()\u001b[38;5;132;01m}\u001b[39;00m\u001b[38;5;124m'\u001b[39m,load_if_exists\u001b[38;5;241m=\u001b[39m\u001b[38;5;28;01mFalse\u001b[39;00m) \u001b[38;5;66;03m#TPESampler used as default, no pruning\u001b[39;00m\n\u001b[1;32m---> 57\u001b[0m study\u001b[38;5;241m.\u001b[39moptimize(\u001b[38;5;28;01mlambda\u001b[39;00m trial: objective(trial,data[\u001b[38;5;124m'\u001b[39m\u001b[38;5;124mAbstract\u001b[39m\u001b[38;5;124m'\u001b[39m]),n_trials\u001b[38;5;241m=\u001b[39m\u001b[38;5;241m20\u001b[39m,n_jobs\u001b[38;5;241m=\u001b[39m\u001b[38;5;241m1\u001b[39m,show_progress_bar\u001b[38;5;241m=\u001b[39m\u001b[38;5;28;01mTrue\u001b[39;00m)\n\u001b[0;32m     58\u001b[0m joblib\u001b[38;5;241m.\u001b[39mdump(study,thismodelpath\u001b[38;5;241m.\u001b[39mjoinpath(\u001b[38;5;124mf\u001b[39m\u001b[38;5;124m'\u001b[39m\u001b[38;5;124mstudy_\u001b[39m\u001b[38;5;132;01m{\u001b[39;00mstudy\u001b[38;5;241m.\u001b[39mstudy_name\u001b[38;5;132;01m}\u001b[39;00m\u001b[38;5;124m.pkl\u001b[39m\u001b[38;5;124m'\u001b[39m)\u001b[38;5;241m.\u001b[39mas_posix())\n\u001b[0;32m     60\u001b[0m model\u001b[38;5;241m=\u001b[39minst_pipe_nmf(study\u001b[38;5;241m.\u001b[39mbest_trial)\n",
      "Cell \u001b[1;32mIn[4], line 34\u001b[0m, in \u001b[0;36mobjective\u001b[1;34m(trial, x)\u001b[0m\n\u001b[0;32m     32\u001b[0m \u001b[38;5;28;01mdef\u001b[39;00m \u001b[38;5;21mobjective\u001b[39m(trial:Trial,x:pd\u001b[38;5;241m.\u001b[39mDataFrame)\u001b[38;5;241m-\u001b[39m\u001b[38;5;241m>\u001b[39m\u001b[38;5;28mfloat\u001b[39m:\n\u001b[0;32m     33\u001b[0m     model\u001b[38;5;241m=\u001b[39minst_pipe_nmf(trial)\n\u001b[1;32m---> 34\u001b[0m     fitmodel\u001b[38;5;241m=\u001b[39mmodel\u001b[38;5;241m.\u001b[39mfit(x)\n\u001b[0;32m     35\u001b[0m     W_text_matrix \u001b[38;5;241m=\u001b[39m fitmodel\u001b[38;5;241m.\u001b[39mtransform(x)\n\u001b[0;32m     36\u001b[0m     H_text_matrix \u001b[38;5;241m=\u001b[39m fitmodel\u001b[38;5;241m.\u001b[39mnamed_steps[\u001b[38;5;124m'\u001b[39m\u001b[38;5;124mnmf\u001b[39m\u001b[38;5;124m'\u001b[39m]\u001b[38;5;241m.\u001b[39mcomponents_\n",
      "File \u001b[1;32mc:\\Users\\lekle\\anaconda3\\Lib\\site-packages\\sklearn\\base.py:1474\u001b[0m, in \u001b[0;36m_fit_context.<locals>.decorator.<locals>.wrapper\u001b[1;34m(estimator, *args, **kwargs)\u001b[0m\n\u001b[0;32m   1467\u001b[0m     estimator\u001b[38;5;241m.\u001b[39m_validate_params()\n\u001b[0;32m   1469\u001b[0m \u001b[38;5;28;01mwith\u001b[39;00m config_context(\n\u001b[0;32m   1470\u001b[0m     skip_parameter_validation\u001b[38;5;241m=\u001b[39m(\n\u001b[0;32m   1471\u001b[0m         prefer_skip_nested_validation \u001b[38;5;129;01mor\u001b[39;00m global_skip_validation\n\u001b[0;32m   1472\u001b[0m     )\n\u001b[0;32m   1473\u001b[0m ):\n\u001b[1;32m-> 1474\u001b[0m     \u001b[38;5;28;01mreturn\u001b[39;00m fit_method(estimator, \u001b[38;5;241m*\u001b[39margs, \u001b[38;5;241m*\u001b[39m\u001b[38;5;241m*\u001b[39mkwargs)\n",
      "File \u001b[1;32mc:\\Users\\lekle\\anaconda3\\Lib\\site-packages\\sklearn\\pipeline.py:475\u001b[0m, in \u001b[0;36mPipeline.fit\u001b[1;34m(self, X, y, **params)\u001b[0m\n\u001b[0;32m    473\u001b[0m     \u001b[38;5;28;01mif\u001b[39;00m \u001b[38;5;28mself\u001b[39m\u001b[38;5;241m.\u001b[39m_final_estimator \u001b[38;5;241m!=\u001b[39m \u001b[38;5;124m\"\u001b[39m\u001b[38;5;124mpassthrough\u001b[39m\u001b[38;5;124m\"\u001b[39m:\n\u001b[0;32m    474\u001b[0m         last_step_params \u001b[38;5;241m=\u001b[39m routed_params[\u001b[38;5;28mself\u001b[39m\u001b[38;5;241m.\u001b[39msteps[\u001b[38;5;241m-\u001b[39m\u001b[38;5;241m1\u001b[39m][\u001b[38;5;241m0\u001b[39m]]\n\u001b[1;32m--> 475\u001b[0m         \u001b[38;5;28mself\u001b[39m\u001b[38;5;241m.\u001b[39m_final_estimator\u001b[38;5;241m.\u001b[39mfit(Xt, y, \u001b[38;5;241m*\u001b[39m\u001b[38;5;241m*\u001b[39mlast_step_params[\u001b[38;5;124m\"\u001b[39m\u001b[38;5;124mfit\u001b[39m\u001b[38;5;124m\"\u001b[39m])\n\u001b[0;32m    477\u001b[0m \u001b[38;5;28;01mreturn\u001b[39;00m \u001b[38;5;28mself\u001b[39m\n",
      "File \u001b[1;32mc:\\Users\\lekle\\anaconda3\\Lib\\site-packages\\sklearn\\decomposition\\_nmf.py:1310\u001b[0m, in \u001b[0;36m_BaseNMF.fit\u001b[1;34m(self, X, y, **params)\u001b[0m\n\u001b[0;32m   1288\u001b[0m \u001b[38;5;250m\u001b[39m\u001b[38;5;124;03m\"\"\"Learn a NMF model for the data X.\u001b[39;00m\n\u001b[0;32m   1289\u001b[0m \n\u001b[0;32m   1290\u001b[0m \u001b[38;5;124;03mParameters\u001b[39;00m\n\u001b[1;32m   (...)\u001b[0m\n\u001b[0;32m   1306\u001b[0m \u001b[38;5;124;03m    Returns the instance itself.\u001b[39;00m\n\u001b[0;32m   1307\u001b[0m \u001b[38;5;124;03m\"\"\"\u001b[39;00m\n\u001b[0;32m   1308\u001b[0m \u001b[38;5;66;03m# param validation is done in fit_transform\u001b[39;00m\n\u001b[1;32m-> 1310\u001b[0m \u001b[38;5;28mself\u001b[39m\u001b[38;5;241m.\u001b[39mfit_transform(X, \u001b[38;5;241m*\u001b[39m\u001b[38;5;241m*\u001b[39mparams)\n\u001b[0;32m   1311\u001b[0m \u001b[38;5;28;01mreturn\u001b[39;00m \u001b[38;5;28mself\u001b[39m\n",
      "File \u001b[1;32mc:\\Users\\lekle\\anaconda3\\Lib\\site-packages\\sklearn\\utils\\_set_output.py:295\u001b[0m, in \u001b[0;36m_wrap_method_output.<locals>.wrapped\u001b[1;34m(self, X, *args, **kwargs)\u001b[0m\n\u001b[0;32m    293\u001b[0m \u001b[38;5;129m@wraps\u001b[39m(f)\n\u001b[0;32m    294\u001b[0m \u001b[38;5;28;01mdef\u001b[39;00m \u001b[38;5;21mwrapped\u001b[39m(\u001b[38;5;28mself\u001b[39m, X, \u001b[38;5;241m*\u001b[39margs, \u001b[38;5;241m*\u001b[39m\u001b[38;5;241m*\u001b[39mkwargs):\n\u001b[1;32m--> 295\u001b[0m     data_to_wrap \u001b[38;5;241m=\u001b[39m f(\u001b[38;5;28mself\u001b[39m, X, \u001b[38;5;241m*\u001b[39margs, \u001b[38;5;241m*\u001b[39m\u001b[38;5;241m*\u001b[39mkwargs)\n\u001b[0;32m    296\u001b[0m     \u001b[38;5;28;01mif\u001b[39;00m \u001b[38;5;28misinstance\u001b[39m(data_to_wrap, \u001b[38;5;28mtuple\u001b[39m):\n\u001b[0;32m    297\u001b[0m         \u001b[38;5;66;03m# only wrap the first output for cross decomposition\u001b[39;00m\n\u001b[0;32m    298\u001b[0m         return_tuple \u001b[38;5;241m=\u001b[39m (\n\u001b[0;32m    299\u001b[0m             _wrap_data_with_container(method, data_to_wrap[\u001b[38;5;241m0\u001b[39m], X, \u001b[38;5;28mself\u001b[39m),\n\u001b[0;32m    300\u001b[0m             \u001b[38;5;241m*\u001b[39mdata_to_wrap[\u001b[38;5;241m1\u001b[39m:],\n\u001b[0;32m    301\u001b[0m         )\n",
      "File \u001b[1;32mc:\\Users\\lekle\\anaconda3\\Lib\\site-packages\\sklearn\\base.py:1474\u001b[0m, in \u001b[0;36m_fit_context.<locals>.decorator.<locals>.wrapper\u001b[1;34m(estimator, *args, **kwargs)\u001b[0m\n\u001b[0;32m   1467\u001b[0m     estimator\u001b[38;5;241m.\u001b[39m_validate_params()\n\u001b[0;32m   1469\u001b[0m \u001b[38;5;28;01mwith\u001b[39;00m config_context(\n\u001b[0;32m   1470\u001b[0m     skip_parameter_validation\u001b[38;5;241m=\u001b[39m(\n\u001b[0;32m   1471\u001b[0m         prefer_skip_nested_validation \u001b[38;5;129;01mor\u001b[39;00m global_skip_validation\n\u001b[0;32m   1472\u001b[0m     )\n\u001b[0;32m   1473\u001b[0m ):\n\u001b[1;32m-> 1474\u001b[0m     \u001b[38;5;28;01mreturn\u001b[39;00m fit_method(estimator, \u001b[38;5;241m*\u001b[39margs, \u001b[38;5;241m*\u001b[39m\u001b[38;5;241m*\u001b[39mkwargs)\n",
      "File \u001b[1;32mc:\\Users\\lekle\\anaconda3\\Lib\\site-packages\\sklearn\\decomposition\\_nmf.py:1666\u001b[0m, in \u001b[0;36mNMF.fit_transform\u001b[1;34m(self, X, y, W, H)\u001b[0m\n\u001b[0;32m   1661\u001b[0m X \u001b[38;5;241m=\u001b[39m \u001b[38;5;28mself\u001b[39m\u001b[38;5;241m.\u001b[39m_validate_data(\n\u001b[0;32m   1662\u001b[0m     X, accept_sparse\u001b[38;5;241m=\u001b[39m(\u001b[38;5;124m\"\u001b[39m\u001b[38;5;124mcsr\u001b[39m\u001b[38;5;124m\"\u001b[39m, \u001b[38;5;124m\"\u001b[39m\u001b[38;5;124mcsc\u001b[39m\u001b[38;5;124m\"\u001b[39m), dtype\u001b[38;5;241m=\u001b[39m[np\u001b[38;5;241m.\u001b[39mfloat64, np\u001b[38;5;241m.\u001b[39mfloat32]\n\u001b[0;32m   1663\u001b[0m )\n\u001b[0;32m   1665\u001b[0m \u001b[38;5;28;01mwith\u001b[39;00m config_context(assume_finite\u001b[38;5;241m=\u001b[39m\u001b[38;5;28;01mTrue\u001b[39;00m):\n\u001b[1;32m-> 1666\u001b[0m     W, H, n_iter \u001b[38;5;241m=\u001b[39m \u001b[38;5;28mself\u001b[39m\u001b[38;5;241m.\u001b[39m_fit_transform(X, W\u001b[38;5;241m=\u001b[39mW, H\u001b[38;5;241m=\u001b[39mH)\n\u001b[0;32m   1668\u001b[0m \u001b[38;5;28mself\u001b[39m\u001b[38;5;241m.\u001b[39mreconstruction_err_ \u001b[38;5;241m=\u001b[39m _beta_divergence(\n\u001b[0;32m   1669\u001b[0m     X, W, H, \u001b[38;5;28mself\u001b[39m\u001b[38;5;241m.\u001b[39m_beta_loss, square_root\u001b[38;5;241m=\u001b[39m\u001b[38;5;28;01mTrue\u001b[39;00m\n\u001b[0;32m   1670\u001b[0m )\n\u001b[0;32m   1672\u001b[0m \u001b[38;5;28mself\u001b[39m\u001b[38;5;241m.\u001b[39mn_components_ \u001b[38;5;241m=\u001b[39m H\u001b[38;5;241m.\u001b[39mshape[\u001b[38;5;241m0\u001b[39m]\n",
      "File \u001b[1;32mc:\\Users\\lekle\\anaconda3\\Lib\\site-packages\\sklearn\\decomposition\\_nmf.py:1736\u001b[0m, in \u001b[0;36mNMF._fit_transform\u001b[1;34m(self, X, y, W, H, update_H)\u001b[0m\n\u001b[0;32m   1733\u001b[0m l1_reg_W, l1_reg_H, l2_reg_W, l2_reg_H \u001b[38;5;241m=\u001b[39m \u001b[38;5;28mself\u001b[39m\u001b[38;5;241m.\u001b[39m_compute_regularization(X)\n\u001b[0;32m   1735\u001b[0m \u001b[38;5;28;01mif\u001b[39;00m \u001b[38;5;28mself\u001b[39m\u001b[38;5;241m.\u001b[39msolver \u001b[38;5;241m==\u001b[39m \u001b[38;5;124m\"\u001b[39m\u001b[38;5;124mcd\u001b[39m\u001b[38;5;124m\"\u001b[39m:\n\u001b[1;32m-> 1736\u001b[0m     W, H, n_iter \u001b[38;5;241m=\u001b[39m _fit_coordinate_descent(\n\u001b[0;32m   1737\u001b[0m         X,\n\u001b[0;32m   1738\u001b[0m         W,\n\u001b[0;32m   1739\u001b[0m         H,\n\u001b[0;32m   1740\u001b[0m         \u001b[38;5;28mself\u001b[39m\u001b[38;5;241m.\u001b[39mtol,\n\u001b[0;32m   1741\u001b[0m         \u001b[38;5;28mself\u001b[39m\u001b[38;5;241m.\u001b[39mmax_iter,\n\u001b[0;32m   1742\u001b[0m         l1_reg_W,\n\u001b[0;32m   1743\u001b[0m         l1_reg_H,\n\u001b[0;32m   1744\u001b[0m         l2_reg_W,\n\u001b[0;32m   1745\u001b[0m         l2_reg_H,\n\u001b[0;32m   1746\u001b[0m         update_H\u001b[38;5;241m=\u001b[39mupdate_H,\n\u001b[0;32m   1747\u001b[0m         verbose\u001b[38;5;241m=\u001b[39m\u001b[38;5;28mself\u001b[39m\u001b[38;5;241m.\u001b[39mverbose,\n\u001b[0;32m   1748\u001b[0m         shuffle\u001b[38;5;241m=\u001b[39m\u001b[38;5;28mself\u001b[39m\u001b[38;5;241m.\u001b[39mshuffle,\n\u001b[0;32m   1749\u001b[0m         random_state\u001b[38;5;241m=\u001b[39m\u001b[38;5;28mself\u001b[39m\u001b[38;5;241m.\u001b[39mrandom_state,\n\u001b[0;32m   1750\u001b[0m     )\n\u001b[0;32m   1751\u001b[0m \u001b[38;5;28;01melif\u001b[39;00m \u001b[38;5;28mself\u001b[39m\u001b[38;5;241m.\u001b[39msolver \u001b[38;5;241m==\u001b[39m \u001b[38;5;124m\"\u001b[39m\u001b[38;5;124mmu\u001b[39m\u001b[38;5;124m\"\u001b[39m:\n\u001b[0;32m   1752\u001b[0m     W, H, n_iter, \u001b[38;5;241m*\u001b[39m_ \u001b[38;5;241m=\u001b[39m _fit_multiplicative_update(\n\u001b[0;32m   1753\u001b[0m         X,\n\u001b[0;32m   1754\u001b[0m         W,\n\u001b[1;32m   (...)\u001b[0m\n\u001b[0;32m   1764\u001b[0m         \u001b[38;5;28mself\u001b[39m\u001b[38;5;241m.\u001b[39mverbose,\n\u001b[0;32m   1765\u001b[0m     )\n",
      "File \u001b[1;32mc:\\Users\\lekle\\anaconda3\\Lib\\site-packages\\sklearn\\decomposition\\_nmf.py:503\u001b[0m, in \u001b[0;36m_fit_coordinate_descent\u001b[1;34m(X, W, H, tol, max_iter, l1_reg_W, l1_reg_H, l2_reg_W, l2_reg_H, update_H, verbose, shuffle, random_state)\u001b[0m\n\u001b[0;32m    500\u001b[0m violation \u001b[38;5;241m=\u001b[39m \u001b[38;5;241m0.0\u001b[39m\n\u001b[0;32m    502\u001b[0m \u001b[38;5;66;03m# Update W\u001b[39;00m\n\u001b[1;32m--> 503\u001b[0m violation \u001b[38;5;241m+\u001b[39m\u001b[38;5;241m=\u001b[39m _update_coordinate_descent(\n\u001b[0;32m    504\u001b[0m     X, W, Ht, l1_reg_W, l2_reg_W, shuffle, rng\n\u001b[0;32m    505\u001b[0m )\n\u001b[0;32m    506\u001b[0m \u001b[38;5;66;03m# Update H\u001b[39;00m\n\u001b[0;32m    507\u001b[0m \u001b[38;5;28;01mif\u001b[39;00m update_H:\n",
      "File \u001b[1;32mc:\\Users\\lekle\\anaconda3\\Lib\\site-packages\\sklearn\\decomposition\\_nmf.py:406\u001b[0m, in \u001b[0;36m_update_coordinate_descent\u001b[1;34m(X, W, Ht, l1_reg, l2_reg, shuffle, random_state)\u001b[0m\n\u001b[0;32m    404\u001b[0m \u001b[38;5;66;03m# The following seems to be required on 64-bit Windows w/ Python 3.5.\u001b[39;00m\n\u001b[0;32m    405\u001b[0m permutation \u001b[38;5;241m=\u001b[39m np\u001b[38;5;241m.\u001b[39masarray(permutation, dtype\u001b[38;5;241m=\u001b[39mnp\u001b[38;5;241m.\u001b[39mintp)\n\u001b[1;32m--> 406\u001b[0m \u001b[38;5;28;01mreturn\u001b[39;00m _update_cdnmf_fast(W, HHt, XHt, permutation)\n",
      "\u001b[1;31mKeyboardInterrupt\u001b[0m: "
     ]
    }
   ],
   "source": [
    "studyname='topicmodeling_nmf_abstracts'\n",
    "thismodelpath=models_path.joinpath(f'{studyname}')\n",
    "try: \n",
    "    thismodelpath.mkdir(exist_ok=False)\n",
    "except FileExistsError:\n",
    "    print('Directory already exists')\n",
    "\n",
    "\n",
    "def inst_tfidf(trial:Trial)->TfidfVectorizer:\n",
    "    params={\n",
    "        'stop_words': 'english',#trial.suggest_categorical('stop_words',['english',stopwords.words('english'),list(STOPWORDS)]),\n",
    "        'tokenizer':tokenize,\n",
    "        # 'max_features':trial.suggest_categorical('max_features',[None,1000,5000,10000])\n",
    "        'max_df':trial.suggest_float('max_df',0.4,1),\n",
    "        'min_df':trial.suggest_int('min_df',10,100)\n",
    "    }\n",
    "    return TfidfVectorizer(**params)\n",
    "\n",
    "def inst_nmf(trial:Trial)->NMF:\n",
    "    params={\n",
    "        'random_state':random_state,\n",
    "        'n_components':trial.suggest_categorical('n_components',[5,10,25,50,100])\n",
    "    }\n",
    "    return NMF(**params)\n",
    "def inst_pipe_nmf(trial:Trial)->Pipeline:\n",
    "    pipeline=Pipeline([\n",
    "        ('tfidf',inst_tfidf(trial)),\n",
    "        ('nmf',inst_nmf(trial))\n",
    "    ])\n",
    "    return pipeline\n",
    "\n",
    "def objective(trial:Trial,x:pd.DataFrame)->float:\n",
    "    model=inst_pipe_nmf(trial)\n",
    "    fitmodel=model.fit(x)\n",
    "    W_text_matrix = fitmodel.transform(x)\n",
    "    H_text_matrix = fitmodel.named_steps['nmf'].components_\n",
    "    feature_names = fitmodel.named_steps['tfidf'].get_feature_names_out()\n",
    "    n_top_words = 5\n",
    "    texts=[doc.split() for doc in x.to_list()]\n",
    "    dictionary = Dictionary(texts)\n",
    "    corpus = [dictionary.doc2bow(text) for text in texts]\n",
    "\n",
    "    topics = [[feature_names[i] for i in topic.argsort()[:-n_top_words - 1:-1]] for topic in H_text_matrix]\n",
    "\n",
    "    coherence_model = CoherenceModel(topics=topics, texts=texts, dictionary=dictionary, coherence='c_v')\n",
    "    coherence_score = coherence_model.get_coherence()\n",
    "    return coherence_score\n",
    "\n",
    "\n",
    "storage=thismodelpath.joinpath(f\"{studyname}.db\")\n",
    "if storage.exists():\n",
    "    storage.unlink()\n",
    "else:\n",
    "    print(\"No sqlite db found\")\n",
    "\n",
    "study=create_study(study_name=studyname,direction='maximize',storage=f'sqlite:///{storage.as_posix()}',load_if_exists=False) #TPESampler used as default, no pruning\n",
    "study.optimize(lambda trial: objective(trial,data['Abstract']),n_trials=20,n_jobs=1,show_progress_bar=True)\n",
    "joblib.dump(study,thismodelpath.joinpath(f'study_{study.study_name}.pkl').as_posix())\n",
    "\n",
    "model=inst_pipe_nmf(study.best_trial)\n",
    "fitpipe=model.fit(data['Abstract'])\n",
    "joblib.dump(fitpipe,thismodelpath.joinpath(f'{studyname}.pkl').as_posix())"
   ]
  },
  {
   "cell_type": "markdown",
   "metadata": {},
   "source": [
    "# LSA"
   ]
  },
  {
   "cell_type": "code",
   "execution_count": null,
   "metadata": {},
   "outputs": [],
   "source": [
    "\n",
    "studyname='topicmodeling_lsa_titles'\n",
    "thismodelpath=models_path.joinpath(f'{studyname}')\n",
    "try: \n",
    "    thismodelpath.mkdir(exist_ok=False)\n",
    "except FileExistsError:\n",
    "    print('Directory already exists')\n",
    "\n",
    "\n",
    "def inst_tfidf(trial:Trial)->TfidfVectorizer:\n",
    "    params={\n",
    "        'stop_words':'english',\n",
    "        'tokenizer':tokenize,\n",
    "        # 'max_features':trial.suggest_categorical('max_features',[None,1000,5000,10000])\n",
    "        'max_df':trial.suggest_float('max_df',0.4,1),\n",
    "        'min_df':trial.suggest_int('min_df',10,100)\n",
    "    }\n",
    "    return TfidfVectorizer(**params)\n",
    "\n",
    "def inst_lsa(trial:Trial)->TruncatedSVD:\n",
    "    params={\n",
    "        'random_state':random_state,\n",
    "        'n_components':trial.suggest_categorical('n_components',[5,10,25,50,100])\n",
    "    }\n",
    "    return TruncatedSVD(**params)\n",
    "def inst_pipe_lsa(trial:Trial)->Pipeline:\n",
    "    pipeline=Pipeline([\n",
    "        ('tfidf',inst_tfidf(trial)),\n",
    "        ('nmf',inst_lsa(trial))\n",
    "    ])\n",
    "    return pipeline\n",
    "def objective(trial:Trial,x:pd.DataFrame)->float:\n",
    "    model=inst_pipe_lsa(trial)\n",
    "    # print(type(model))\n",
    "    fitmodel=model.fit(x)\n",
    "    W_text_matrix = fitmodel.transform(x)\n",
    "    H_text_matrix = fitmodel.named_steps['nmf'].components_\n",
    "    feature_names = fitmodel.named_steps['tfidf'].get_feature_names_out()\n",
    "    n_top_words = 5\n",
    "    texts=[doc.split() for doc in x.to_list()]\n",
    "    dictionary = Dictionary(texts)\n",
    "    corpus = [dictionary.doc2bow(text) for text in texts]\n",
    "\n",
    "    topics = [[feature_names[i] for i in topic.argsort()[:-n_top_words - 1:-1]] for topic in H_text_matrix]\n",
    "\n",
    "    coherence_model = CoherenceModel(topics=topics, texts=texts, dictionary=dictionary, coherence='c_v')\n",
    "    coherence_score = coherence_model.get_coherence()\n",
    "    return coherence_score\n",
    "\n",
    "\n",
    "storage=thismodelpath.joinpath(f\"{studyname}.db\")\n",
    "if storage.exists():\n",
    "    storage.unlink()\n",
    "else:\n",
    "    print(\"No sqlite db found\")\n",
    "\n",
    "study=create_study(study_name=studyname,direction='maximize',storage=f'sqlite:///{storage.as_posix()}',load_if_exists=False) #TPESampler used as default, no pruning\n",
    "study.optimize(lambda trial: objective(trial,data['Title']),n_trials=20,n_jobs=1,show_progress_bar=True)\n",
    "joblib.dump(study,thismodelpath.joinpath(f'study_{study.study_name}.pkl').as_posix())\n",
    "\n",
    "model=inst_pipe_lsa(study.best_trial)\n",
    "fitpipe=model.fit(data['Title'])\n",
    "joblib.dump(fitpipe,thismodelpath.joinpath(f'{studyname}.pkl').as_posix())\n",
    "\n",
    "\n",
    "studyname='topicmodeling_lsa_abstracts'\n",
    "thismodelpath=models_path.joinpath(f'{studyname}')\n",
    "try: \n",
    "    thismodelpath.mkdir(exist_ok=False)\n",
    "except FileExistsError:\n",
    "    print('Directory already exists')\n",
    "\n",
    "\n",
    "def inst_tfidf(trial:Trial)->TfidfVectorizer:\n",
    "    params={\n",
    "        'stop_words': 'english',#trial.suggest_categorical('stop_words',['english',stopwords.words('english'),list(STOPWORDS)]),\n",
    "        'tokenizer':tokenize,\n",
    "        # 'max_features':trial.suggest_categorical('max_features',[None,1000,5000,10000])\n",
    "        'max_df':trial.suggest_float('max_df',0.4,1),\n",
    "        'min_df':trial.suggest_int('min_df',10,100)\n",
    "    }\n",
    "    return TfidfVectorizer(**params)\n",
    "\n",
    "def inst_lsa(trial:Trial)->TruncatedSVD:\n",
    "    params={\n",
    "        'random_state':random_state,\n",
    "        'n_components':trial.suggest_categorical('n_components',[5,10,25,50,100])\n",
    "    }\n",
    "    return TruncatedSVD(**params)\n",
    "def inst_pipe_lsa(trial:Trial)->Pipeline:\n",
    "    pipeline=Pipeline([\n",
    "        ('tfidf',inst_tfidf(trial)),\n",
    "        ('nmf',inst_lsa(trial))\n",
    "    ])\n",
    "    return pipeline\n",
    "\n",
    "def objective(trial:Trial,x:pd.DataFrame)->float:\n",
    "    model=inst_pipe_lsa(trial)\n",
    "    fitmodel=model.fit(x)\n",
    "    W_text_matrix = fitmodel.transform(x)\n",
    "    H_text_matrix = fitmodel.named_steps['nmf'].components_\n",
    "    feature_names = fitmodel.named_steps['tfidf'].get_feature_names_out()\n",
    "    n_top_words = 5\n",
    "    texts=[doc.split() for doc in x.to_list()]\n",
    "    dictionary = Dictionary(texts)\n",
    "    corpus = [dictionary.doc2bow(text) for text in texts]\n",
    "\n",
    "    topics = [[feature_names[i] for i in topic.argsort()[:-n_top_words - 1:-1]] for topic in H_text_matrix]\n",
    "\n",
    "    coherence_model = CoherenceModel(topics=topics, texts=texts, dictionary=dictionary, coherence='c_v')\n",
    "    coherence_score = coherence_model.get_coherence()\n",
    "    return coherence_score\n",
    "\n",
    "\n",
    "storage=thismodelpath.joinpath(f\"{studyname}.db\")\n",
    "if storage.exists():\n",
    "    storage.unlink()\n",
    "else:\n",
    "    print(\"No sqlite db found\")\n",
    "\n",
    "study=create_study(study_name=studyname,direction='maximize',storage=f'sqlite:///{storage.as_posix()}',load_if_exists=False) #TPESampler used as default, no pruning\n",
    "study.optimize(lambda trial: objective(trial,data['Abstract']),n_trials=20,n_jobs=1,show_progress_bar=True)\n",
    "joblib.dump(study,thismodelpath.joinpath(f'study_{study.study_name}.pkl').as_posix())\n",
    "\n",
    "model=inst_pipe_lsa(study.best_trial)\n",
    "fitpipe=model.fit(data['Abstract'])\n",
    "joblib.dump(fitpipe,thismodelpath.joinpath(f'{studyname}.pkl').as_posix())"
   ]
  },
  {
   "cell_type": "markdown",
   "metadata": {},
   "source": [
    "# LDA"
   ]
  },
  {
   "cell_type": "code",
   "execution_count": null,
   "metadata": {},
   "outputs": [],
   "source": [
    "\n",
    "studyname='topicmodeling_lda_titles'\n",
    "thismodelpath=models_path.joinpath(f'{studyname}')\n",
    "try: \n",
    "    thismodelpath.mkdir(exist_ok=False)\n",
    "except FileExistsError:\n",
    "    print('Directory already exists')\n",
    "\n",
    "\n",
    "def inst_tfidf(trial:Trial)->TfidfVectorizer:\n",
    "    params={\n",
    "        'stop_words':'english',\n",
    "        'tokenizer':tokenize,\n",
    "        # 'max_features':trial.suggest_categorical('max_features',[None,1000,5000,10000])\n",
    "        'max_df':trial.suggest_float('max_df',0.4,1),\n",
    "        'min_df':trial.suggest_int('min_df',10,100)\n",
    "    }\n",
    "    return TfidfVectorizer(**params)\n",
    "\n",
    "def inst_lda(trial:Trial)->LatentDirichletAllocation:\n",
    "    params={\n",
    "        'random_state':random_state,\n",
    "        'n_components':trial.suggest_categorical('n_components',[5,10,25,50,100])\n",
    "    }\n",
    "    return LatentDirichletAllocation(**params)\n",
    "def inst_pipe_lda(trial:Trial)->Pipeline:\n",
    "    pipeline=Pipeline([\n",
    "        ('tfidf',inst_tfidf(trial)),\n",
    "        ('nmf',inst_lda(trial))\n",
    "    ])\n",
    "    return pipeline\n",
    "def objective(trial:Trial,x:pd.DataFrame)->float:\n",
    "    model=inst_pipe_lda(trial)\n",
    "    # print(type(model))\n",
    "    fitmodel=model.fit(x)\n",
    "    W_text_matrix = fitmodel.transform(x)\n",
    "    H_text_matrix = fitmodel.named_steps['nmf'].components_\n",
    "    feature_names = fitmodel.named_steps['tfidf'].get_feature_names_out()\n",
    "    n_top_words = 5\n",
    "    texts=[doc.split() for doc in x.to_list()]\n",
    "    dictionary = Dictionary(texts)\n",
    "    corpus = [dictionary.doc2bow(text) for text in texts]\n",
    "\n",
    "    topics = [[feature_names[i] for i in topic.argsort()[:-n_top_words - 1:-1]] for topic in H_text_matrix]\n",
    "\n",
    "    coherence_model = CoherenceModel(topics=topics, texts=texts, dictionary=dictionary, coherence='c_v')\n",
    "    coherence_score = coherence_model.get_coherence()\n",
    "    return coherence_score\n",
    "\n",
    "\n",
    "storage=thismodelpath.joinpath(f\"{studyname}.db\")\n",
    "if storage.exists():\n",
    "    storage.unlink()\n",
    "else:\n",
    "    print(\"No sqlite db found\")\n",
    "\n",
    "study=create_study(study_name=studyname,direction='maximize',storage=f'sqlite:///{storage.as_posix()}',load_if_exists=False) #TPESampler used as default, no pruning\n",
    "study.optimize(lambda trial: objective(trial,data['Title']),n_trials=20,n_jobs=1,show_progress_bar=True)\n",
    "joblib.dump(study,thismodelpath.joinpath(f'study_{study.study_name}.pkl').as_posix())\n",
    "\n",
    "model=inst_pipe_lda(study.best_trial)\n",
    "fitpipe=model.fit(data['Title'])\n",
    "joblib.dump(fitpipe,thismodelpath.joinpath(f'{studyname}.pkl').as_posix())\n",
    "\n",
    "\n",
    "studyname='topicmodeling_lda_abstracts'\n",
    "thismodelpath=models_path.joinpath(f'{studyname}')\n",
    "try: \n",
    "    thismodelpath.mkdir(exist_ok=False)\n",
    "except FileExistsError:\n",
    "    print('Directory already exists')\n",
    "\n",
    "\n",
    "def inst_tfidf(trial:Trial)->TfidfVectorizer:\n",
    "    params={\n",
    "        'stop_words': 'english',#trial.suggest_categorical('stop_words',['english',stopwords.words('english'),list(STOPWORDS)]),\n",
    "        'tokenizer':tokenize,\n",
    "        # 'max_features':trial.suggest_categorical('max_features',[None,1000,5000,10000])\n",
    "        'max_df':trial.suggest_float('max_df',0.4,1),\n",
    "        'min_df':trial.suggest_int('min_df',10,100)\n",
    "    }\n",
    "    return TfidfVectorizer(**params)\n",
    "\n",
    "def inst_lda(trial:Trial)->LatentDirichletAllocation:\n",
    "    params={\n",
    "        'random_state':random_state,\n",
    "        'n_components':trial.suggest_categorical('n_components',[5,10,25,50,100])\n",
    "    }\n",
    "    return LatentDirichletAllocation(**params)\n",
    "def inst_pipe_lda(trial:Trial)->Pipeline:\n",
    "    pipeline=Pipeline([\n",
    "        ('tfidf',inst_tfidf(trial)),\n",
    "        ('nmf',inst_lda(trial))\n",
    "    ])\n",
    "    return pipeline\n",
    "\n",
    "def objective(trial:Trial,x:pd.DataFrame)->float:\n",
    "    model=inst_pipe_lda(trial)\n",
    "    fitmodel=model.fit(x)\n",
    "    W_text_matrix = fitmodel.transform(x)\n",
    "    H_text_matrix = fitmodel.named_steps['nmf'].components_\n",
    "    feature_names = fitmodel.named_steps['tfidf'].get_feature_names_out()\n",
    "    n_top_words = 5\n",
    "    texts=[doc.split() for doc in x.to_list()]\n",
    "    dictionary = Dictionary(texts)\n",
    "    corpus = [dictionary.doc2bow(text) for text in texts]\n",
    "\n",
    "    topics = [[feature_names[i] for i in topic.argsort()[:-n_top_words - 1:-1]] for topic in H_text_matrix]\n",
    "\n",
    "    coherence_model = CoherenceModel(topics=topics, texts=texts, dictionary=dictionary, coherence='c_v')\n",
    "    coherence_score = coherence_model.get_coherence()\n",
    "    return coherence_score\n",
    "\n",
    "\n",
    "storage=thismodelpath.joinpath(f\"{studyname}.db\")\n",
    "if storage.exists():\n",
    "    storage.unlink()\n",
    "else:\n",
    "    print(\"No sqlite db found\")\n",
    "\n",
    "study=create_study(study_name=studyname,direction='maximize',storage=f'sqlite:///{storage.as_posix()}',load_if_exists=False) #TPESampler used as default, no pruning\n",
    "study.optimize(lambda trial: objective(trial,data['Abstract']),n_trials=20,n_jobs=1,show_progress_bar=True)\n",
    "joblib.dump(study,thismodelpath.joinpath(f'study_{study.study_name}.pkl').as_posix())\n",
    "\n",
    "model=inst_pipe_lda(study.best_trial)\n",
    "fitpipe=model.fit(data['Abstract'])\n",
    "joblib.dump(fitpipe,thismodelpath.joinpath(f'{studyname}.pkl').as_posix())"
   ]
  },
  {
   "cell_type": "code",
   "execution_count": null,
   "metadata": {},
   "outputs": [],
   "source": []
  },
  {
   "cell_type": "code",
   "execution_count": null,
   "metadata": {},
   "outputs": [],
   "source": []
  },
  {
   "cell_type": "code",
   "execution_count": null,
   "metadata": {},
   "outputs": [],
   "source": []
  }
 ],
 "metadata": {
  "kernelspec": {
   "display_name": "base",
   "language": "python",
   "name": "python3"
  },
  "language_info": {
   "codemirror_mode": {
    "name": "ipython",
    "version": 3
   },
   "file_extension": ".py",
   "mimetype": "text/x-python",
   "name": "python",
   "nbconvert_exporter": "python",
   "pygments_lexer": "ipython3",
   "version": "3.12.4"
  }
 },
 "nbformat": 4,
 "nbformat_minor": 2
}
