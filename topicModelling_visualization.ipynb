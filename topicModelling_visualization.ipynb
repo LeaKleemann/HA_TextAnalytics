{
 "cells": [
  {
   "cell_type": "code",
   "execution_count": 1,
   "id": "a1501c2a",
   "metadata": {},
   "outputs": [],
   "source": [
    "import joblib\n",
    "import pathlib2 as pathlib\n",
    "import pandas as pd\n",
    "import numpy as np\n",
    "import matplotlib.pyplot as plt\n",
    "import pickle\n",
    "from collections import Counter\n",
    "\n",
    "from sklearn.decomposition import NMF\n",
    "from sklearn.decomposition import LatentDirichletAllocation\n",
    "from sklearn.decomposition import TruncatedSVD"
   ]
  },
  {
   "cell_type": "code",
   "execution_count": 2,
   "id": "4e165dac",
   "metadata": {},
   "outputs": [],
   "source": [
    "picspath=pathlib.Path.cwd().joinpath('pics')"
   ]
  },
  {
   "cell_type": "code",
   "execution_count": 3,
   "id": "e0353279",
   "metadata": {},
   "outputs": [],
   "source": [
    "# load pipelines\n",
    "#titles\n",
    "nmf_titles_model=joblib.load('models/topicmodeling_nmf_titles/topicmodeling_nmf_titles.pkl')\n",
    "lsa_titles_model=joblib.load('models/topicmodeling_lsa_titles/topicmodeling_lsa_titles.pkl')\n",
    "lda_titles_model=joblib.load('models/topicmodeling_lda_titles/topicmodeling_lda_titles.pkl')\n",
    "#abstracts\n",
    "nmf_abstracts_model=joblib.load('models/topicmodeling_nmf_abstracts/topicmodeling_nmf_abstracts.pkl')\n",
    "lsa_abstracts_model=joblib.load('models/topicmodeling_lsa_abstracts/topicmodeling_lsa_abstracts.pkl')\n",
    "lda_abstracts_model=joblib.load('models/topicmodeling_lda_abstracts/topicmodeling_lda_abstracts.pkl')"
   ]
  },
  {
   "cell_type": "code",
   "execution_count": 4,
   "id": "1eb6be2e",
   "metadata": {},
   "outputs": [
    {
     "name": "stderr",
     "output_type": "stream",
     "text": [
      "C:\\Users\\lekle\\AppData\\Local\\Temp\\ipykernel_33552\\104726719.py:3: DtypeWarning: Columns (23,25) have mixed types. Specify dtype option on import or set low_memory=False.\n",
      "  data=pd.read_csv(datapath.joinpath(\"cleaned_data.csv\").as_posix(),sep=';')\n"
     ]
    },
    {
     "data": {
      "text/html": [
       "<div>\n",
       "<style scoped>\n",
       "    .dataframe tbody tr th:only-of-type {\n",
       "        vertical-align: middle;\n",
       "    }\n",
       "\n",
       "    .dataframe tbody tr th {\n",
       "        vertical-align: top;\n",
       "    }\n",
       "\n",
       "    .dataframe thead th {\n",
       "        text-align: right;\n",
       "    }\n",
       "</style>\n",
       "<table border=\"1\" class=\"dataframe\">\n",
       "  <thead>\n",
       "    <tr style=\"text-align: right;\">\n",
       "      <th></th>\n",
       "      <th>Unnamed: 0</th>\n",
       "      <th>Lens ID</th>\n",
       "      <th>Title</th>\n",
       "      <th>Date Published</th>\n",
       "      <th>Publication Year</th>\n",
       "      <th>Publication Type</th>\n",
       "      <th>Source Title</th>\n",
       "      <th>ISSNs</th>\n",
       "      <th>Publisher</th>\n",
       "      <th>Source Country</th>\n",
       "      <th>...</th>\n",
       "      <th>Microsoft Academic ID</th>\n",
       "      <th>PMCID</th>\n",
       "      <th>Citing Patents Count</th>\n",
       "      <th>References</th>\n",
       "      <th>Citing Works Count</th>\n",
       "      <th>Is Open Access</th>\n",
       "      <th>Open Access License</th>\n",
       "      <th>Open Access Colour</th>\n",
       "      <th>title_languages</th>\n",
       "      <th>abstract_languages</th>\n",
       "    </tr>\n",
       "  </thead>\n",
       "  <tbody>\n",
       "    <tr>\n",
       "      <th>0</th>\n",
       "      <td>0</td>\n",
       "      <td>000-008-268-360-004</td>\n",
       "      <td>Day-Ahead Solar Irradiance Forecasting in a Tr...</td>\n",
       "      <td>2015-07-27</td>\n",
       "      <td>2015</td>\n",
       "      <td>journal article</td>\n",
       "      <td>Journal of Solar Energy Engineering</td>\n",
       "      <td>01996231; 15288986</td>\n",
       "      <td>ASME International</td>\n",
       "      <td>United States</td>\n",
       "      <td>...</td>\n",
       "      <td>2131632891</td>\n",
       "      <td>NaN</td>\n",
       "      <td>0</td>\n",
       "      <td>001-815-086-488-477; 007-447-979-011-061; 025-...</td>\n",
       "      <td>33</td>\n",
       "      <td>False</td>\n",
       "      <td>NaN</td>\n",
       "      <td>NaN</td>\n",
       "      <td>en</td>\n",
       "      <td>en</td>\n",
       "    </tr>\n",
       "    <tr>\n",
       "      <th>1</th>\n",
       "      <td>2</td>\n",
       "      <td>000-042-629-788-452</td>\n",
       "      <td>Assessment of a falling solid particle receive...</td>\n",
       "      <td>NaN</td>\n",
       "      <td>2015</td>\n",
       "      <td>journal article</td>\n",
       "      <td>Solar Energy</td>\n",
       "      <td>0038092x</td>\n",
       "      <td>Elsevier BV</td>\n",
       "      <td>United Kingdom</td>\n",
       "      <td>...</td>\n",
       "      <td>2067658121</td>\n",
       "      <td>NaN</td>\n",
       "      <td>0</td>\n",
       "      <td>002-994-869-371-657; 005-360-904-860-363; 008-...</td>\n",
       "      <td>62</td>\n",
       "      <td>True</td>\n",
       "      <td>NaN</td>\n",
       "      <td>green</td>\n",
       "      <td>en</td>\n",
       "      <td>en</td>\n",
       "    </tr>\n",
       "    <tr>\n",
       "      <th>2</th>\n",
       "      <td>4</td>\n",
       "      <td>000-062-946-383-801</td>\n",
       "      <td>Boron-Doped Silicon Diatom Frustules as a Phot...</td>\n",
       "      <td>2015-07-30</td>\n",
       "      <td>2015</td>\n",
       "      <td>journal article</td>\n",
       "      <td>ACS applied materials &amp; interfaces</td>\n",
       "      <td>19448252; 19448244</td>\n",
       "      <td>American Chemical Society (ACS)</td>\n",
       "      <td>United States</td>\n",
       "      <td>...</td>\n",
       "      <td>2410807451</td>\n",
       "      <td>NaN</td>\n",
       "      <td>0</td>\n",
       "      <td>004-049-858-705-806; 007-090-004-757-278; 011-...</td>\n",
       "      <td>26</td>\n",
       "      <td>False</td>\n",
       "      <td>NaN</td>\n",
       "      <td>NaN</td>\n",
       "      <td>en</td>\n",
       "      <td>en</td>\n",
       "    </tr>\n",
       "    <tr>\n",
       "      <th>3</th>\n",
       "      <td>5</td>\n",
       "      <td>000-063-768-273-718</td>\n",
       "      <td>Renewable energy management through microgrid ...</td>\n",
       "      <td>NaN</td>\n",
       "      <td>2015</td>\n",
       "      <td>journal article</td>\n",
       "      <td>Energy Reports</td>\n",
       "      <td>23524847</td>\n",
       "      <td>Elsevier BV</td>\n",
       "      <td>United Kingdom</td>\n",
       "      <td>...</td>\n",
       "      <td>1193286937</td>\n",
       "      <td>NaN</td>\n",
       "      <td>0</td>\n",
       "      <td>004-077-674-704-399; 005-081-834-054-355; 011-...</td>\n",
       "      <td>79</td>\n",
       "      <td>True</td>\n",
       "      <td>CC BY, CC BY-NC-ND</td>\n",
       "      <td>gold</td>\n",
       "      <td>en</td>\n",
       "      <td>en</td>\n",
       "    </tr>\n",
       "    <tr>\n",
       "      <th>4</th>\n",
       "      <td>11</td>\n",
       "      <td>000-138-869-752-834</td>\n",
       "      <td>Thermal and electrical analysis of a linear pa...</td>\n",
       "      <td>2015-12-01</td>\n",
       "      <td>2015</td>\n",
       "      <td>NaN</td>\n",
       "      <td>NaN</td>\n",
       "      <td>NaN</td>\n",
       "      <td>NaN</td>\n",
       "      <td>NaN</td>\n",
       "      <td>...</td>\n",
       "      <td>3210564331</td>\n",
       "      <td>NaN</td>\n",
       "      <td>0</td>\n",
       "      <td>NaN</td>\n",
       "      <td>0</td>\n",
       "      <td>False</td>\n",
       "      <td>NaN</td>\n",
       "      <td>NaN</td>\n",
       "      <td>en</td>\n",
       "      <td>en</td>\n",
       "    </tr>\n",
       "  </tbody>\n",
       "</table>\n",
       "<p>5 rows × 35 columns</p>\n",
       "</div>"
      ],
      "text/plain": [
       "   Unnamed: 0              Lens ID  \\\n",
       "0           0  000-008-268-360-004   \n",
       "1           2  000-042-629-788-452   \n",
       "2           4  000-062-946-383-801   \n",
       "3           5  000-063-768-273-718   \n",
       "4          11  000-138-869-752-834   \n",
       "\n",
       "                                               Title Date Published  \\\n",
       "0  Day-Ahead Solar Irradiance Forecasting in a Tr...     2015-07-27   \n",
       "1  Assessment of a falling solid particle receive...            NaN   \n",
       "2  Boron-Doped Silicon Diatom Frustules as a Phot...     2015-07-30   \n",
       "3  Renewable energy management through microgrid ...            NaN   \n",
       "4  Thermal and electrical analysis of a linear pa...     2015-12-01   \n",
       "\n",
       "   Publication Year Publication Type                         Source Title  \\\n",
       "0              2015  journal article  Journal of Solar Energy Engineering   \n",
       "1              2015  journal article                         Solar Energy   \n",
       "2              2015  journal article   ACS applied materials & interfaces   \n",
       "3              2015  journal article                       Energy Reports   \n",
       "4              2015              NaN                                  NaN   \n",
       "\n",
       "                ISSNs                        Publisher  Source Country  ...  \\\n",
       "0  01996231; 15288986               ASME International   United States  ...   \n",
       "1            0038092x                      Elsevier BV  United Kingdom  ...   \n",
       "2  19448252; 19448244  American Chemical Society (ACS)   United States  ...   \n",
       "3            23524847                      Elsevier BV  United Kingdom  ...   \n",
       "4                 NaN                              NaN             NaN  ...   \n",
       "\n",
       "  Microsoft Academic ID PMCID Citing Patents Count  \\\n",
       "0            2131632891   NaN                    0   \n",
       "1            2067658121   NaN                    0   \n",
       "2            2410807451   NaN                    0   \n",
       "3            1193286937   NaN                    0   \n",
       "4            3210564331   NaN                    0   \n",
       "\n",
       "                                          References Citing Works Count  \\\n",
       "0  001-815-086-488-477; 007-447-979-011-061; 025-...                 33   \n",
       "1  002-994-869-371-657; 005-360-904-860-363; 008-...                 62   \n",
       "2  004-049-858-705-806; 007-090-004-757-278; 011-...                 26   \n",
       "3  004-077-674-704-399; 005-081-834-054-355; 011-...                 79   \n",
       "4                                                NaN                  0   \n",
       "\n",
       "  Is Open Access Open Access License Open Access Colour title_languages  \\\n",
       "0          False                 NaN                NaN              en   \n",
       "1           True                 NaN              green              en   \n",
       "2          False                 NaN                NaN              en   \n",
       "3           True  CC BY, CC BY-NC-ND               gold              en   \n",
       "4          False                 NaN                NaN              en   \n",
       "\n",
       "  abstract_languages  \n",
       "0                 en  \n",
       "1                 en  \n",
       "2                 en  \n",
       "3                 en  \n",
       "4                 en  \n",
       "\n",
       "[5 rows x 35 columns]"
      ]
     },
     "execution_count": 4,
     "metadata": {},
     "output_type": "execute_result"
    }
   ],
   "source": [
    "#load data\n",
    "datapath=pathlib.Path.cwd().joinpath('cleaned_data')\n",
    "data=pd.read_csv(datapath.joinpath(\"cleaned_data.csv\").as_posix(),sep=';')\n",
    "data.head()"
   ]
  },
  {
   "cell_type": "code",
   "execution_count": 7,
   "id": "ce1a358f",
   "metadata": {},
   "outputs": [
    {
     "data": {
      "text/plain": [
       "Index(['Unnamed: 0', 'Lens ID', 'Title', 'Date Published', 'Publication Year',\n",
       "       'Publication Type', 'Source Title', 'ISSNs', 'Publisher',\n",
       "       'Source Country', 'Author/s', 'Abstract', 'Volume', 'Issue Number',\n",
       "       'Start Page', 'End Page', 'Fields of Study', 'Keywords', 'MeSH Terms',\n",
       "       'Chemicals', 'Funding', 'Source URLs', 'External URL', 'PMID', 'DOI',\n",
       "       'Microsoft Academic ID', 'PMCID', 'Citing Patents Count', 'References',\n",
       "       'Citing Works Count', 'Is Open Access', 'Open Access License',\n",
       "       'Open Access Colour', 'title_languages', 'abstract_languages'],\n",
       "      dtype='object')"
      ]
     },
     "execution_count": 7,
     "metadata": {},
     "output_type": "execute_result"
    }
   ],
   "source": [
    "data.columns"
   ]
  },
  {
   "cell_type": "code",
   "execution_count": 8,
   "id": "49cb6d47",
   "metadata": {},
   "outputs": [],
   "source": [
    "nmf_title=nmf_titles_model.transform(data.Title)"
   ]
  },
  {
   "cell_type": "code",
   "execution_count": 9,
   "id": "8b6cf0d9",
   "metadata": {},
   "outputs": [
    {
     "data": {
      "text/plain": [
       "array([1.18446645e-04, 0.00000000e+00, 0.00000000e+00, 1.66286036e-03,\n",
       "       0.00000000e+00, 1.12687752e-03, 0.00000000e+00, 1.41483676e-03,\n",
       "       1.80118299e-05, 0.00000000e+00, 6.79809383e-04, 8.33392930e-03,\n",
       "       0.00000000e+00, 0.00000000e+00, 0.00000000e+00, 0.00000000e+00,\n",
       "       0.00000000e+00, 1.85547393e-04, 0.00000000e+00, 0.00000000e+00,\n",
       "       0.00000000e+00, 0.00000000e+00, 1.95845416e-02, 0.00000000e+00,\n",
       "       1.74945353e-03])"
      ]
     },
     "execution_count": 9,
     "metadata": {},
     "output_type": "execute_result"
    }
   ],
   "source": [
    "nmf_title[0]"
   ]
  },
  {
   "cell_type": "code",
   "execution_count": 5,
   "id": "93ebca8a",
   "metadata": {},
   "outputs": [],
   "source": [
    "def get_topic_destribution(model,datacolumn):\n",
    "    if any(isinstance(step[1], NMF) for step in model.steps):\n",
    "        W_text_matrix=model.transform(datacolumn)\n",
    "        x=W_text_matrix.sum(axis=0)/W_text_matrix.sum()*100.0\n",
    "    elif any(isinstance(step[1], TruncatedSVD) for step in model.steps):\n",
    "        x=model.named_steps['lsa'].components_.sum(axis=1) / model.named_steps['lsa'].components_.sum() * 100.0\n",
    "    elif any(isinstance(step[1], LatentDirichletAllocation) for step in model.steps):\n",
    "        W_text_matrix=model.transform(datacolumn)\n",
    "        x=W_text_matrix.sum(axis=0) / W_text_matrix.sum(axis=0).sum() * 100.0\n",
    "    return x\n",
    "\n",
    "def vis_w_matrix(w_maxtrix,modeltitle,file):\n",
    "    x=[f\"Topic {x}\" for x in range(len(w_maxtrix))]\n",
    "    y=w_maxtrix\n",
    "    plt.figure(figsize=(10,6))\n",
    "    plt.bar(x, y, align='center', width=0.5, color='seagreen')\n",
    "    plt.xlabel('Topics')\n",
    "    # plt.xticks(rotation=90, ha='right')\n",
    "    plt.xticks(rotation='vertical')\n",
    "    plt.ylabel('Topic Distribution in %')\n",
    "    plt.title(f'{modeltitle}')\n",
    "    plt.legend()\n",
    "    plt.savefig(file, bbox_inches='tight')\n",
    "    plt.close()\n",
    "    # plt.show()"
   ]
  },
  {
   "cell_type": "code",
   "execution_count": 11,
   "id": "9b7d016d",
   "metadata": {},
   "outputs": [
    {
     "data": {
      "text/plain": [
       "array([ 2.46687693,  6.52306163,  2.20900128,  4.22039214,  3.22088125,\n",
       "        4.05974457,  2.55362659,  2.29899261,  3.0627456 ,  2.5978215 ,\n",
       "        4.62269574,  4.91056724,  4.08269504,  3.36235785,  2.20072089,\n",
       "        3.70214951,  3.27149542,  3.22983494,  3.14825647,  3.30880385,\n",
       "        5.0926115 ,  3.26887673, 10.95987893,  7.58010382,  4.04580797])"
      ]
     },
     "execution_count": 11,
     "metadata": {},
     "output_type": "execute_result"
    }
   ],
   "source": [
    "w_maxtrix=get_topic_destribution(nmf_titles_model,data.Title)\n",
    "w_maxtrix"
   ]
  },
  {
   "cell_type": "code",
   "execution_count": 12,
   "id": "97df7bf1",
   "metadata": {},
   "outputs": [
    {
     "data": {
      "text/plain": [
       "100.00000000000001"
      ]
     },
     "execution_count": 12,
     "metadata": {},
     "output_type": "execute_result"
    }
   ],
   "source": [
    "w_maxtrix.sum()"
   ]
  },
  {
   "cell_type": "code",
   "execution_count": 13,
   "id": "5446ebe6",
   "metadata": {},
   "outputs": [
    {
     "name": "stderr",
     "output_type": "stream",
     "text": [
      "No artists with labels found to put in legend.  Note that artists whose label start with an underscore are ignored when legend() is called with no argument.\n",
      "No artists with labels found to put in legend.  Note that artists whose label start with an underscore are ignored when legend() is called with no argument.\n",
      "No artists with labels found to put in legend.  Note that artists whose label start with an underscore are ignored when legend() is called with no argument.\n"
     ]
    }
   ],
   "source": [
    "vis_w_matrix(get_topic_destribution(nmf_titles_model,data.Title),\"NMF Title\",picspath.joinpath('nmf_title.png').as_posix())\n",
    "vis_w_matrix(get_topic_destribution(lsa_titles_model,data.Title),\"LSA Title\",picspath.joinpath('lsa_title.png').as_posix())\n",
    "vis_w_matrix(get_topic_destribution(lda_titles_model,data.Title),\"LDA Title\",picspath.joinpath('lda_title.png').as_posix())"
   ]
  },
  {
   "cell_type": "code",
   "execution_count": 14,
   "id": "d9fe850f",
   "metadata": {},
   "outputs": [
    {
     "name": "stderr",
     "output_type": "stream",
     "text": [
      "No artists with labels found to put in legend.  Note that artists whose label start with an underscore are ignored when legend() is called with no argument.\n",
      "No artists with labels found to put in legend.  Note that artists whose label start with an underscore are ignored when legend() is called with no argument.\n",
      "No artists with labels found to put in legend.  Note that artists whose label start with an underscore are ignored when legend() is called with no argument.\n"
     ]
    }
   ],
   "source": [
    "vis_w_matrix(get_topic_destribution(nmf_abstracts_model,data.Abstract),\"NMF Abstract\",picspath.joinpath('nmf_abstract.png').as_posix())\n",
    "vis_w_matrix(get_topic_destribution(lsa_abstracts_model,data.Abstract),\"LSA Abstract\",picspath.joinpath('lsa_abstract.png').as_posix())\n",
    "vis_w_matrix(get_topic_destribution(lda_abstracts_model,data.Abstract),\"LDA Abstract\",picspath.joinpath('lda_abstract.png').as_posix())"
   ]
  },
  {
   "cell_type": "markdown",
   "id": "b6178797",
   "metadata": {},
   "source": [
    "# vis w/ filtered data: year"
   ]
  },
  {
   "cell_type": "code",
   "execution_count": 15,
   "id": "7703eda0",
   "metadata": {},
   "outputs": [],
   "source": [
    "data2015=data[data['Publication Year']==2015]\n",
    "data2024=data[data['Publication Year']==2024]\n",
    "# data2015.head()"
   ]
  },
  {
   "cell_type": "code",
   "execution_count": 16,
   "id": "1576d730",
   "metadata": {},
   "outputs": [
    {
     "name": "stderr",
     "output_type": "stream",
     "text": [
      "No artists with labels found to put in legend.  Note that artists whose label start with an underscore are ignored when legend() is called with no argument.\n",
      "No artists with labels found to put in legend.  Note that artists whose label start with an underscore are ignored when legend() is called with no argument.\n",
      "No artists with labels found to put in legend.  Note that artists whose label start with an underscore are ignored when legend() is called with no argument.\n",
      "No artists with labels found to put in legend.  Note that artists whose label start with an underscore are ignored when legend() is called with no argument.\n",
      "No artists with labels found to put in legend.  Note that artists whose label start with an underscore are ignored when legend() is called with no argument.\n",
      "No artists with labels found to put in legend.  Note that artists whose label start with an underscore are ignored when legend() is called with no argument.\n"
     ]
    }
   ],
   "source": [
    "vis_w_matrix(get_topic_destribution(nmf_titles_model,data2015.Title),\"NMF Title 2015\",picspath.joinpath('nmf_title2015.png').as_posix())\n",
    "vis_w_matrix(get_topic_destribution(lsa_titles_model,data2015.Title),\"LSA Title 2015\",picspath.joinpath('lsa_title2015.png').as_posix())\n",
    "vis_w_matrix(get_topic_destribution(lda_titles_model,data2015.Title),\"LDA Title 2015\",picspath.joinpath('lda_title2015.png').as_posix())\n",
    "\n",
    "vis_w_matrix(get_topic_destribution(nmf_abstracts_model,data2015.Abstract),\"NMF Abstract 2015\",picspath.joinpath('nmf_abstract2015.png').as_posix())\n",
    "vis_w_matrix(get_topic_destribution(lsa_abstracts_model,data2015.Abstract),\"LSA Abstract 2015\",picspath.joinpath('lsa_abstract2015.png').as_posix())\n",
    "vis_w_matrix(get_topic_destribution(lda_abstracts_model,data2015.Abstract),\"LDA Abstract 2015\",picspath.joinpath('lda_abstract2015.png').as_posix())"
   ]
  },
  {
   "cell_type": "code",
   "execution_count": 17,
   "id": "f72eabd0",
   "metadata": {},
   "outputs": [
    {
     "name": "stderr",
     "output_type": "stream",
     "text": [
      "No artists with labels found to put in legend.  Note that artists whose label start with an underscore are ignored when legend() is called with no argument.\n",
      "No artists with labels found to put in legend.  Note that artists whose label start with an underscore are ignored when legend() is called with no argument.\n",
      "No artists with labels found to put in legend.  Note that artists whose label start with an underscore are ignored when legend() is called with no argument.\n",
      "No artists with labels found to put in legend.  Note that artists whose label start with an underscore are ignored when legend() is called with no argument.\n",
      "No artists with labels found to put in legend.  Note that artists whose label start with an underscore are ignored when legend() is called with no argument.\n",
      "No artists with labels found to put in legend.  Note that artists whose label start with an underscore are ignored when legend() is called with no argument.\n"
     ]
    }
   ],
   "source": [
    "vis_w_matrix(get_topic_destribution(nmf_titles_model,data2024.Title),\"NMF Title 2024\",picspath.joinpath('nmf_title2024.png').as_posix())\n",
    "vis_w_matrix(get_topic_destribution(lsa_titles_model,data2024.Title),\"LSA Title 2024\",picspath.joinpath('lsa_title2024.png').as_posix())\n",
    "vis_w_matrix(get_topic_destribution(lda_titles_model,data2024.Title),\"LDA Title 2024\",picspath.joinpath('lda_title2024.png').as_posix())\n",
    "\n",
    "vis_w_matrix(get_topic_destribution(nmf_abstracts_model,data2024.Abstract),\"NMF Abstract 2024\",picspath.joinpath('nmf_abstract2024.png').as_posix())\n",
    "vis_w_matrix(get_topic_destribution(lsa_abstracts_model,data2024.Abstract),\"LSA Abstract 2024\",picspath.joinpath('lsa_abstract2024.png').as_posix())\n",
    "vis_w_matrix(get_topic_destribution(lda_abstracts_model,data2024.Abstract),\"LDA Abstract 2024\",picspath.joinpath('lda_abstract2024.png').as_posix())"
   ]
  },
  {
   "cell_type": "markdown",
   "id": "e816d811",
   "metadata": {},
   "source": [
    "# vis w/ filtered data: Journal"
   ]
  },
  {
   "cell_type": "code",
   "execution_count": 18,
   "id": "526266c3",
   "metadata": {},
   "outputs": [],
   "source": [
    "dataSpringer=data[data['Publisher']==\"Springer Science and Business Media LLC\"]\n",
    "dataElsevier=data[data['Publisher']==\"Elsevier BV\"]"
   ]
  },
  {
   "cell_type": "code",
   "execution_count": 19,
   "id": "b1a9393b",
   "metadata": {},
   "outputs": [
    {
     "name": "stderr",
     "output_type": "stream",
     "text": [
      "No artists with labels found to put in legend.  Note that artists whose label start with an underscore are ignored when legend() is called with no argument.\n",
      "No artists with labels found to put in legend.  Note that artists whose label start with an underscore are ignored when legend() is called with no argument.\n",
      "No artists with labels found to put in legend.  Note that artists whose label start with an underscore are ignored when legend() is called with no argument.\n",
      "No artists with labels found to put in legend.  Note that artists whose label start with an underscore are ignored when legend() is called with no argument.\n",
      "No artists with labels found to put in legend.  Note that artists whose label start with an underscore are ignored when legend() is called with no argument.\n",
      "No artists with labels found to put in legend.  Note that artists whose label start with an underscore are ignored when legend() is called with no argument.\n"
     ]
    }
   ],
   "source": [
    "vis_w_matrix(get_topic_destribution(nmf_titles_model,dataSpringer.Title),\"NMF Title Springer Science and Business Media LLC\",picspath.joinpath('nmf_titleSpringer.png').as_posix())\n",
    "vis_w_matrix(get_topic_destribution(lsa_titles_model,dataSpringer.Title),\"LSA Title Springer Science and Business Media LLC\",picspath.joinpath('lsa_titleSpringer.png').as_posix())\n",
    "vis_w_matrix(get_topic_destribution(lda_titles_model,dataSpringer.Title),\"LDA Title Springer Science and Business Media LLC\",picspath.joinpath('lda_titleSpringer.png').as_posix())\n",
    "\n",
    "vis_w_matrix(get_topic_destribution(nmf_abstracts_model,dataSpringer.Abstract),\"NMF Abstract Springer Science and Business Media LLC\",picspath.joinpath('nmf_abstractSpringer.png').as_posix())\n",
    "vis_w_matrix(get_topic_destribution(lsa_abstracts_model,dataSpringer.Abstract),\"LSA Abstract Springer Science and Business Media LLC\",picspath.joinpath('lsa_abstractSpringer.png').as_posix())\n",
    "vis_w_matrix(get_topic_destribution(lda_abstracts_model,dataSpringer.Abstract),\"LDA Abstract Springer Science and Business Media LLC\",picspath.joinpath('lda_abstractSpringer.png').as_posix())"
   ]
  },
  {
   "cell_type": "code",
   "execution_count": 20,
   "id": "6c6a59dd",
   "metadata": {},
   "outputs": [
    {
     "name": "stderr",
     "output_type": "stream",
     "text": [
      "No artists with labels found to put in legend.  Note that artists whose label start with an underscore are ignored when legend() is called with no argument.\n",
      "No artists with labels found to put in legend.  Note that artists whose label start with an underscore are ignored when legend() is called with no argument.\n",
      "No artists with labels found to put in legend.  Note that artists whose label start with an underscore are ignored when legend() is called with no argument.\n",
      "No artists with labels found to put in legend.  Note that artists whose label start with an underscore are ignored when legend() is called with no argument.\n",
      "No artists with labels found to put in legend.  Note that artists whose label start with an underscore are ignored when legend() is called with no argument.\n",
      "No artists with labels found to put in legend.  Note that artists whose label start with an underscore are ignored when legend() is called with no argument.\n"
     ]
    }
   ],
   "source": [
    "vis_w_matrix(get_topic_destribution(nmf_titles_model,dataElsevier.Title),\"NMF Title Elsevier BV\",picspath.joinpath('nmf_titleElsevier.png').as_posix())\n",
    "vis_w_matrix(get_topic_destribution(lsa_titles_model,dataElsevier.Title),\"LSA Title Elsevier BV\",picspath.joinpath('lsa_titleElsevier.png').as_posix())\n",
    "vis_w_matrix(get_topic_destribution(lda_titles_model,dataElsevier.Title),\"LDA Title Elsevier BV\",picspath.joinpath('lda_titleElsevier.png').as_posix())\n",
    "\n",
    "vis_w_matrix(get_topic_destribution(nmf_abstracts_model,dataElsevier.Abstract),\"NMF Abstract Elsevier BV\",picspath.joinpath('nmf_abstractElsevier.png').as_posix())\n",
    "vis_w_matrix(get_topic_destribution(lsa_abstracts_model,dataElsevier.Abstract),\"LSA Abstract Elsevier BV\",picspath.joinpath('lsa_abstractElsevier.png').as_posix())\n",
    "vis_w_matrix(get_topic_destribution(lda_abstracts_model,dataElsevier.Abstract),\"LDA Abstract Elsevier BV\",picspath.joinpath('lda_abstractElsevier.png').as_posix())"
   ]
  },
  {
   "cell_type": "markdown",
   "id": "0dec66ef",
   "metadata": {},
   "source": [
    "# vis w/ filtered data: Authors"
   ]
  },
  {
   "cell_type": "code",
   "execution_count": 6,
   "id": "b95d9779",
   "metadata": {},
   "outputs": [],
   "source": [
    "data = data[data['Author/s'].apply(lambda x: isinstance(x, str))]\n",
    "data['authors_cleaned']=data['Author/s'].apply(lambda x: x.split(';'))"
   ]
  },
  {
   "cell_type": "code",
   "execution_count": 22,
   "id": "bed8aaf6",
   "metadata": {},
   "outputs": [
    {
     "data": {
      "text/plain": [
       "0    [Aloysius W. Aryaputera,  Dazhi Yang,  Wilfred...\n",
       "1    [Birgit Gobereit,  Lars Amsbeck,  Reiner Buck,...\n",
       "2    [Soundarrajan Chandrasekaran,  Thomas J. Macdo...\n",
       "3                    [null Zaheeruddin,  Munish Manas]\n",
       "4                         [Farid Safari,  Abtin Ataei]\n",
       "Name: authors_cleaned, dtype: object"
      ]
     },
     "execution_count": 22,
     "metadata": {},
     "output_type": "execute_result"
    }
   ],
   "source": [
    "data.authors_cleaned.head()"
   ]
  },
  {
   "cell_type": "code",
   "execution_count": 7,
   "id": "c43bedf0",
   "metadata": {},
   "outputs": [],
   "source": [
    "all_authors= [item for sublist in data.authors_cleaned for item in sublist]\n",
    "author_counts = Counter(all_authors)\n",
    "#  Bhim Singh': 639; Liang Li': 464\n",
    "# hat noch Leerzeichen vorneab, kann ich mit leben\n",
    "# author_counts"
   ]
  },
  {
   "cell_type": "code",
   "execution_count": 24,
   "id": "52cd17b6",
   "metadata": {},
   "outputs": [],
   "source": [
    "# data['authors_cleaned'].value_counts()"
   ]
  },
  {
   "cell_type": "code",
   "execution_count": 8,
   "id": "7f93e227",
   "metadata": {},
   "outputs": [],
   "source": [
    "dataSingh=data[data.authors_cleaned.apply(lambda x: ' Bhim Singh' in x)]\n",
    "dataLi=data[data.authors_cleaned.apply(lambda x: ' Liang Li' in x)]\n",
    "dataMeyer=data[data.authors_cleaned.apply(lambda x: ' J-P. Meyer' in x)]"
   ]
  },
  {
   "cell_type": "code",
   "execution_count": 26,
   "id": "4210d857",
   "metadata": {},
   "outputs": [],
   "source": [
    "# dataSingh.head()"
   ]
  },
  {
   "cell_type": "code",
   "execution_count": 27,
   "id": "f65fac4d",
   "metadata": {},
   "outputs": [
    {
     "name": "stderr",
     "output_type": "stream",
     "text": [
      "No artists with labels found to put in legend.  Note that artists whose label start with an underscore are ignored when legend() is called with no argument.\n",
      "No artists with labels found to put in legend.  Note that artists whose label start with an underscore are ignored when legend() is called with no argument.\n",
      "No artists with labels found to put in legend.  Note that artists whose label start with an underscore are ignored when legend() is called with no argument.\n",
      "No artists with labels found to put in legend.  Note that artists whose label start with an underscore are ignored when legend() is called with no argument.\n",
      "No artists with labels found to put in legend.  Note that artists whose label start with an underscore are ignored when legend() is called with no argument.\n",
      "No artists with labels found to put in legend.  Note that artists whose label start with an underscore are ignored when legend() is called with no argument.\n"
     ]
    }
   ],
   "source": [
    "vis_w_matrix(get_topic_destribution(nmf_titles_model,dataSingh.Title),\"NMF Title Bhim Singh\",picspath.joinpath('nmf_titleSingh.png').as_posix())\n",
    "vis_w_matrix(get_topic_destribution(lsa_titles_model,dataSingh.Title),\"LSA Title Bhim Singh\",picspath.joinpath('lsa_titleSingh.png').as_posix())\n",
    "vis_w_matrix(get_topic_destribution(lda_titles_model,dataSingh.Title),\"LDA Title Bhim Singh\",picspath.joinpath('lda_titleSingh.png').as_posix())\n",
    "\n",
    "vis_w_matrix(get_topic_destribution(nmf_abstracts_model,dataSingh.Abstract),\"NMF Abstract Bhim Singh\",picspath.joinpath('nmf_abstractSingh.png').as_posix())\n",
    "vis_w_matrix(get_topic_destribution(lsa_abstracts_model,dataSingh.Abstract),\"LSA Abstract Bhim Singh\",picspath.joinpath('lsa_abstractSingh.png').as_posix())\n",
    "vis_w_matrix(get_topic_destribution(lda_abstracts_model,dataSingh.Abstract),\"LDA Abstract Bhim Singh\",picspath.joinpath('lda_abstractSingh.png').as_posix())"
   ]
  },
  {
   "cell_type": "code",
   "execution_count": 13,
   "id": "aacfabdb",
   "metadata": {},
   "outputs": [
    {
     "name": "stderr",
     "output_type": "stream",
     "text": [
      "No artists with labels found to put in legend.  Note that artists whose label start with an underscore are ignored when legend() is called with no argument.\n",
      "No artists with labels found to put in legend.  Note that artists whose label start with an underscore are ignored when legend() is called with no argument.\n",
      "No artists with labels found to put in legend.  Note that artists whose label start with an underscore are ignored when legend() is called with no argument.\n",
      "No artists with labels found to put in legend.  Note that artists whose label start with an underscore are ignored when legend() is called with no argument.\n",
      "No artists with labels found to put in legend.  Note that artists whose label start with an underscore are ignored when legend() is called with no argument.\n",
      "No artists with labels found to put in legend.  Note that artists whose label start with an underscore are ignored when legend() is called with no argument.\n"
     ]
    }
   ],
   "source": [
    "vis_w_matrix(get_topic_destribution(nmf_titles_model,dataLi.Title),\"NMF Title Liang Li\",picspath.joinpath('nmf_titleLi.png').as_posix())\n",
    "vis_w_matrix(get_topic_destribution(lsa_titles_model,dataLi.Title),\"LSA Title Liang Li\",picspath.joinpath('lsa_titleLi.png').as_posix())\n",
    "vis_w_matrix(get_topic_destribution(lda_titles_model,dataLi.Title),\"LDA Title Liang Li\",picspath.joinpath('lda_titleLi.png').as_posix())\n",
    "\n",
    "vis_w_matrix(get_topic_destribution(nmf_abstracts_model,dataLi.Abstract),\"NMF Abstract Liang Li\",picspath.joinpath('nmf_abstractLi.png').as_posix())\n",
    "vis_w_matrix(get_topic_destribution(lsa_abstracts_model,dataLi.Abstract),\"LSA Abstract Liang Li\",picspath.joinpath('lsa_abstractLi.png').as_posix())\n",
    "vis_w_matrix(get_topic_destribution(lda_abstracts_model,dataLi.Abstract),\"LDA Abstract Liang Li\",picspath.joinpath('lda_abstractLi.png').as_posix())"
   ]
  },
  {
   "cell_type": "code",
   "execution_count": 29,
   "id": "6400097b",
   "metadata": {},
   "outputs": [
    {
     "name": "stderr",
     "output_type": "stream",
     "text": [
      "No artists with labels found to put in legend.  Note that artists whose label start with an underscore are ignored when legend() is called with no argument.\n",
      "No artists with labels found to put in legend.  Note that artists whose label start with an underscore are ignored when legend() is called with no argument.\n",
      "No artists with labels found to put in legend.  Note that artists whose label start with an underscore are ignored when legend() is called with no argument.\n",
      "No artists with labels found to put in legend.  Note that artists whose label start with an underscore are ignored when legend() is called with no argument.\n",
      "No artists with labels found to put in legend.  Note that artists whose label start with an underscore are ignored when legend() is called with no argument.\n",
      "No artists with labels found to put in legend.  Note that artists whose label start with an underscore are ignored when legend() is called with no argument.\n"
     ]
    }
   ],
   "source": [
    "vis_w_matrix(get_topic_destribution(nmf_titles_model,dataMeyer.Title),\"NMF Title J-P. Meyer\",picspath.joinpath('nmf_titleMeyer.png').as_posix())\n",
    "vis_w_matrix(get_topic_destribution(lsa_titles_model,dataMeyer.Title),\"LSA Title J-P. Meyer\",picspath.joinpath('lsa_titleMeyer.png').as_posix())\n",
    "vis_w_matrix(get_topic_destribution(lda_titles_model,dataMeyer.Title),\"LDA Title J-P. Meyer\",picspath.joinpath('lda_titleMeyer.png').as_posix())\n",
    "\n",
    "vis_w_matrix(get_topic_destribution(nmf_abstracts_model,dataMeyer.Abstract),\"NMF Abstract J-P. Meyer\",picspath.joinpath('nmf_abstractMeyer.png').as_posix())\n",
    "vis_w_matrix(get_topic_destribution(lsa_abstracts_model,dataMeyer.Abstract),\"LSA Abstract J-P. Meyer\",picspath.joinpath('lsa_abstractMeyer.png').as_posix())\n",
    "vis_w_matrix(get_topic_destribution(lda_abstracts_model,dataMeyer.Abstract),\"LDA Abstract J-P. Meyer\",picspath.joinpath('lda_abstractMeyer.png').as_posix())"
   ]
  },
  {
   "cell_type": "markdown",
   "id": "66080bac",
   "metadata": {},
   "source": [
    "# vis w/ filtered data: country"
   ]
  },
  {
   "cell_type": "code",
   "execution_count": 30,
   "id": "feafb28c",
   "metadata": {},
   "outputs": [
    {
     "data": {
      "text/plain": [
       "Source Country\n",
       "United Kingdom    44550\n",
       "United States     35407\n",
       "Germany           18065\n",
       "Switzerland       12515\n",
       "Netherlands       11835\n",
       "China              1795\n",
       "Egypt              1337\n",
       "India              1097\n",
       "Name: count, dtype: int64"
      ]
     },
     "execution_count": 30,
     "metadata": {},
     "output_type": "execute_result"
    }
   ],
   "source": [
    "data[data.groupby('Source Country')['Source Country'].transform('count')>1000]['Source Country'].value_counts()"
   ]
  },
  {
   "cell_type": "code",
   "execution_count": 11,
   "id": "1db26e86",
   "metadata": {},
   "outputs": [],
   "source": [
    "dataUK=data[data['Source Country']=='United Kingdom']\n",
    "dataGer=data[data['Source Country']=='Germany']\n",
    "dataIn=data[data['Source Country']=='India']"
   ]
  },
  {
   "cell_type": "code",
   "execution_count": 32,
   "id": "2cc3fb6d",
   "metadata": {},
   "outputs": [
    {
     "name": "stderr",
     "output_type": "stream",
     "text": [
      "No artists with labels found to put in legend.  Note that artists whose label start with an underscore are ignored when legend() is called with no argument.\n",
      "No artists with labels found to put in legend.  Note that artists whose label start with an underscore are ignored when legend() is called with no argument.\n",
      "No artists with labels found to put in legend.  Note that artists whose label start with an underscore are ignored when legend() is called with no argument.\n",
      "No artists with labels found to put in legend.  Note that artists whose label start with an underscore are ignored when legend() is called with no argument.\n",
      "No artists with labels found to put in legend.  Note that artists whose label start with an underscore are ignored when legend() is called with no argument.\n",
      "No artists with labels found to put in legend.  Note that artists whose label start with an underscore are ignored when legend() is called with no argument.\n"
     ]
    }
   ],
   "source": [
    "vis_w_matrix(get_topic_destribution(nmf_titles_model,dataUK.Title),\"NMF Title United Kingdom\",picspath.joinpath('nmf_titleUK.png').as_posix())\n",
    "vis_w_matrix(get_topic_destribution(lsa_titles_model,dataUK.Title),\"LSA Title United Kingdom\",picspath.joinpath('lsa_titleUK.png').as_posix())\n",
    "vis_w_matrix(get_topic_destribution(lda_titles_model,dataUK.Title),\"LDA Title United Kingdom\",picspath.joinpath('lda_titleUK.png').as_posix())\n",
    "\n",
    "vis_w_matrix(get_topic_destribution(nmf_abstracts_model,dataUK.Abstract),\"NMF Abstract United Kingdom\",picspath.joinpath('nmf_abstractUK.png').as_posix())\n",
    "vis_w_matrix(get_topic_destribution(lsa_abstracts_model,dataUK.Abstract),\"LSA Abstract United Kingdom\",picspath.joinpath('lsa_abstractUK.png').as_posix())\n",
    "vis_w_matrix(get_topic_destribution(lda_abstracts_model,dataUK.Abstract),\"LDA Abstract United Kingdom\",picspath.joinpath('lda_abstractUK.png').as_posix())"
   ]
  },
  {
   "cell_type": "code",
   "execution_count": 33,
   "id": "db4603ee",
   "metadata": {},
   "outputs": [
    {
     "name": "stderr",
     "output_type": "stream",
     "text": [
      "No artists with labels found to put in legend.  Note that artists whose label start with an underscore are ignored when legend() is called with no argument.\n",
      "No artists with labels found to put in legend.  Note that artists whose label start with an underscore are ignored when legend() is called with no argument.\n",
      "No artists with labels found to put in legend.  Note that artists whose label start with an underscore are ignored when legend() is called with no argument.\n",
      "No artists with labels found to put in legend.  Note that artists whose label start with an underscore are ignored when legend() is called with no argument.\n",
      "No artists with labels found to put in legend.  Note that artists whose label start with an underscore are ignored when legend() is called with no argument.\n",
      "No artists with labels found to put in legend.  Note that artists whose label start with an underscore are ignored when legend() is called with no argument.\n"
     ]
    }
   ],
   "source": [
    "vis_w_matrix(get_topic_destribution(nmf_titles_model,dataGer.Title),\"NMF Title Germany\",picspath.joinpath('nmf_titleGer.png').as_posix())\n",
    "vis_w_matrix(get_topic_destribution(lsa_titles_model,dataGer.Title),\"LSA Title Germany\",picspath.joinpath('lsa_titleGer.png').as_posix())\n",
    "vis_w_matrix(get_topic_destribution(lda_titles_model,dataGer.Title),\"LDA Title Germany\",picspath.joinpath('lda_titleGer.png').as_posix())\n",
    "\n",
    "vis_w_matrix(get_topic_destribution(nmf_abstracts_model,dataGer.Abstract),\"NMF Abstract Germany\",picspath.joinpath('nmf_abstractGer.png').as_posix())\n",
    "vis_w_matrix(get_topic_destribution(lsa_abstracts_model,dataGer.Abstract),\"LSA Abstract Germany\",picspath.joinpath('lsa_abstractGer.png').as_posix())\n",
    "vis_w_matrix(get_topic_destribution(lda_abstracts_model,dataGer.Abstract),\"LDA Abstract Germany\",picspath.joinpath('lda_abstractGer.png').as_posix())"
   ]
  },
  {
   "cell_type": "code",
   "execution_count": 12,
   "id": "2060f485",
   "metadata": {},
   "outputs": [
    {
     "name": "stderr",
     "output_type": "stream",
     "text": [
      "No artists with labels found to put in legend.  Note that artists whose label start with an underscore are ignored when legend() is called with no argument.\n",
      "No artists with labels found to put in legend.  Note that artists whose label start with an underscore are ignored when legend() is called with no argument.\n",
      "No artists with labels found to put in legend.  Note that artists whose label start with an underscore are ignored when legend() is called with no argument.\n",
      "No artists with labels found to put in legend.  Note that artists whose label start with an underscore are ignored when legend() is called with no argument.\n",
      "No artists with labels found to put in legend.  Note that artists whose label start with an underscore are ignored when legend() is called with no argument.\n",
      "No artists with labels found to put in legend.  Note that artists whose label start with an underscore are ignored when legend() is called with no argument.\n"
     ]
    }
   ],
   "source": [
    "vis_w_matrix(get_topic_destribution(nmf_titles_model,dataIn.Title),\"NMF Title India\",picspath.joinpath('nmf_titleIn.png').as_posix())\n",
    "vis_w_matrix(get_topic_destribution(lsa_titles_model,dataIn.Title),\"LSA Title India\",picspath.joinpath('lsa_titleIn.png').as_posix())\n",
    "vis_w_matrix(get_topic_destribution(lda_titles_model,dataIn.Title),\"LDA Title India\",picspath.joinpath('lda_titleIn.png').as_posix())\n",
    "\n",
    "vis_w_matrix(get_topic_destribution(nmf_abstracts_model,dataIn.Abstract),\"NMF Abstract India\",picspath.joinpath('nmf_abstractIn.png').as_posix())\n",
    "vis_w_matrix(get_topic_destribution(lsa_abstracts_model,dataIn.Abstract),\"LSA Abstract India\",picspath.joinpath('lsa_abstractIn.png').as_posix())\n",
    "vis_w_matrix(get_topic_destribution(lda_abstracts_model,dataIn.Abstract),\"LDA Abstract India\",picspath.joinpath('lda_abstractIn.png').as_posix())"
   ]
  },
  {
   "cell_type": "markdown",
   "id": "e93dd93e",
   "metadata": {},
   "source": [
    "# get topic list as file"
   ]
  },
  {
   "cell_type": "code",
   "execution_count": 34,
   "id": "acc1d74f",
   "metadata": {},
   "outputs": [],
   "source": [
    "modelvispath=pathlib.Path.cwd().joinpath('models/modelvis')\n",
    "def get_topic_table(model,file,m):\n",
    "    num_words=5\n",
    "    H=model.named_steps[m].components_\n",
    "    feature_names = model.named_steps['tfidf'].get_feature_names_out()\n",
    "    topics = {}\n",
    "    for topic_idx, topic in enumerate(H):\n",
    "        topics[f\"Topic {topic_idx}\"] = [feature_names[i] for i in topic.argsort()[:-num_words-1:-1]]\n",
    "    topics_df = pd.DataFrame(topics)\n",
    "    topics_df.to_csv(file+'.csv', index=False)\n",
    "\n",
    "    fig, ax = plt.subplots(figsize=(10, 6))\n",
    "    ax.axis('tight')\n",
    "    ax.axis('off')\n",
    "    table = ax.table(cellText=topics_df.values, colLabels=topics_df.columns, cellLoc='center', loc='center')\n",
    "    plt.savefig(file+'.pdf')\n",
    "    plt.close()\n"
   ]
  },
  {
   "cell_type": "code",
   "execution_count": 35,
   "id": "b33aad22",
   "metadata": {},
   "outputs": [],
   "source": [
    "get_topic_table(nmf_titles_model,modelvispath.joinpath('nmf_titles').as_posix(),'nmf')\n",
    "get_topic_table(nmf_abstracts_model,modelvispath.joinpath('nmf_abstracts').as_posix(),'nmf')\n",
    "\n",
    "get_topic_table(lsa_titles_model,modelvispath.joinpath('lsa_titles').as_posix(),'lsa')\n",
    "get_topic_table(lsa_abstracts_model,modelvispath.joinpath('lsa_abstracts').as_posix(),'lsa')\n",
    "\n",
    "get_topic_table(lda_titles_model,modelvispath.joinpath('lda_titles').as_posix(),'lda')\n",
    "get_topic_table(lda_abstracts_model,modelvispath.joinpath('lda_abstracts').as_posix(),'lda')"
   ]
  },
  {
   "cell_type": "code",
   "execution_count": 36,
   "id": "e4963d9d",
   "metadata": {},
   "outputs": [
    {
     "data": {
      "text/plain": [
       "[('tfidf',\n",
       "  TfidfVectorizer(max_df=0.6731187135180453, min_df=99, stop_words='english',\n",
       "                  tokenizer=<function tokenize at 0x0000015107D20360>)),\n",
       " ('lda', LatentDirichletAllocation(n_components=50, random_state=313))]"
      ]
     },
     "execution_count": 36,
     "metadata": {},
     "output_type": "execute_result"
    }
   ],
   "source": [
    "lda_titles_model.steps"
   ]
  },
  {
   "cell_type": "code",
   "execution_count": null,
   "id": "067063c9",
   "metadata": {},
   "outputs": [],
   "source": []
  },
  {
   "cell_type": "code",
   "execution_count": null,
   "id": "d6f8a15e",
   "metadata": {},
   "outputs": [],
   "source": []
  },
  {
   "cell_type": "code",
   "execution_count": null,
   "id": "f5528c54",
   "metadata": {},
   "outputs": [],
   "source": []
  }
 ],
 "metadata": {
  "kernelspec": {
   "display_name": "base",
   "language": "python",
   "name": "python3"
  },
  "language_info": {
   "codemirror_mode": {
    "name": "ipython",
    "version": 3
   },
   "file_extension": ".py",
   "mimetype": "text/x-python",
   "name": "python",
   "nbconvert_exporter": "python",
   "pygments_lexer": "ipython3",
   "version": "3.12.4"
  }
 },
 "nbformat": 4,
 "nbformat_minor": 5
}
