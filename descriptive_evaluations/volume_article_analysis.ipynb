{
 "cells": [
  {
   "cell_type": "markdown",
   "metadata": {},
   "source": [
    "In dieser Datei wird die Teilfrage\n",
    "\"•\tWie hat sich das Volumen wissenschaftlicher Artikel über Solarenergie in den letzten 10 Jahre entwickelt?\"\n",
    "beantwortet."
   ]
  },
  {
   "cell_type": "markdown",
   "metadata": {},
   "source": [
    "Diese Codezelle dient dem Prüfen von Spaltenzahlen. Diese verursachten beim Zerlegen der Dateien Problem."
   ]
  },
  {
   "cell_type": "code",
   "execution_count": 24,
   "metadata": {},
   "outputs": [
    {
     "name": "stdout",
     "output_type": "stream",
     "text": [
      "Reading Filename: solar-energy-articles-2015.csv\n",
      "Column amount: (31350, 32)\n",
      "Reading Filename: solar-energy-articles-2016.csv\n"
     ]
    },
    {
     "name": "stderr",
     "output_type": "stream",
     "text": [
      "C:\\Users\\SCHUPPT\\AppData\\Local\\Temp\\ipykernel_392\\298277728.py:13: DtypeWarning: Columns (22) have mixed types. Specify dtype option on import or set low_memory=False.\n",
      "  current_file = pd.read_csv(file)\n"
     ]
    },
    {
     "name": "stdout",
     "output_type": "stream",
     "text": [
      "Column amount: (33481, 32)\n",
      "Reading Filename: solar-energy-articles-2017.csv\n"
     ]
    },
    {
     "name": "stderr",
     "output_type": "stream",
     "text": [
      "C:\\Users\\SCHUPPT\\AppData\\Local\\Temp\\ipykernel_392\\298277728.py:13: DtypeWarning: Columns (22) have mixed types. Specify dtype option on import or set low_memory=False.\n",
      "  current_file = pd.read_csv(file)\n"
     ]
    },
    {
     "name": "stdout",
     "output_type": "stream",
     "text": [
      "Column amount: (35673, 32)\n",
      "Reading Filename: solar-energy-articles-2018.csv\n",
      "Column amount: (38357, 32)\n",
      "Reading Filename: solar-energy-articles-2019.csv\n",
      "Column amount: (40039, 32)\n",
      "Reading Filename: solar-energy-articles-2020-part-one.csv\n",
      "Column amount: (29935, 32)\n",
      "Reading Filename: solar-energy-articles-2020-part-two.csv\n",
      "Column amount: (14163, 32)\n",
      "Reading Filename: solar-energy-articles-2021-part-one.csv\n",
      "Column amount: (39857, 32)\n",
      "Reading Filename: solar-energy-articles-2021-part-two.csv\n",
      "Column amount: (9532, 32)\n",
      "Reading Filename: solar-energy-articles-2022-part-one.csv\n"
     ]
    },
    {
     "name": "stderr",
     "output_type": "stream",
     "text": [
      "C:\\Users\\SCHUPPT\\AppData\\Local\\Temp\\ipykernel_392\\298277728.py:13: DtypeWarning: Columns (24) have mixed types. Specify dtype option on import or set low_memory=False.\n",
      "  current_file = pd.read_csv(file)\n"
     ]
    },
    {
     "name": "stdout",
     "output_type": "stream",
     "text": [
      "Column amount: (29452, 32)\n",
      "Reading Filename: solar-energy-articles-2022-part-two.csv\n"
     ]
    },
    {
     "name": "stderr",
     "output_type": "stream",
     "text": [
      "C:\\Users\\SCHUPPT\\AppData\\Local\\Temp\\ipykernel_392\\298277728.py:13: DtypeWarning: Columns (24) have mixed types. Specify dtype option on import or set low_memory=False.\n",
      "  current_file = pd.read_csv(file)\n"
     ]
    },
    {
     "name": "stdout",
     "output_type": "stream",
     "text": [
      "Column amount: (20235, 32)\n",
      "Reading Filename: solar-energy-articles-2023-part-one.csv\n",
      "Column amount: (34605, 32)\n",
      "Reading Filename: solar-energy-articles-2023-part-two.csv\n",
      "Column amount: (19683, 32)\n",
      "Reading Filename: solar-energy-articles-2024-part-one.csv\n",
      "Column amount: (36691, 32)\n",
      "Reading Filename: solar-energy-articles-2024-part-two.csv\n"
     ]
    },
    {
     "name": "stderr",
     "output_type": "stream",
     "text": [
      "C:\\Users\\SCHUPPT\\AppData\\Local\\Temp\\ipykernel_392\\298277728.py:13: DtypeWarning: Columns (22) have mixed types. Specify dtype option on import or set low_memory=False.\n",
      "  current_file = pd.read_csv(file)\n"
     ]
    },
    {
     "name": "stdout",
     "output_type": "stream",
     "text": [
      "Column amount: (18537, 32)\n",
      "Reading Filename: solar-energy-articles-2025.csv\n",
      "Column amount: (6386, 32)\n"
     ]
    }
   ],
   "source": [
    "import pandas as pd\n",
    "import matplotlib.pyplot as plt\n",
    "import glob\n",
    "import os\n",
    "\n",
    "csv_folder_file_path = r\"C:\\HLAG\\Apps\\Self_Learn_Workspace\\Python_Natural_Language_processing_NAKPrep\\PY Hausarbeit\\HA_TextAnalytics\\lens_org_data_files\\*.csv\"\n",
    "all_csv_file_paths = glob.glob(csv_folder_file_path)\n",
    "\n",
    "#find issues\n",
    "individual_dataframes = []\n",
    "for file in all_csv_file_paths:\n",
    "    print(f\"Reading Filename: {os.path.basename(file)}\")\n",
    "    current_file = pd.read_csv(file)\n",
    "    print(f\"Column amount: {current_file.shape}\")"
   ]
  },
  {
   "cell_type": "code",
   "execution_count": 2,
   "metadata": {},
   "outputs": [
    {
     "name": "stderr",
     "output_type": "stream",
     "text": [
      "C:\\Users\\SCHUPPT\\AppData\\Local\\Temp\\ipykernel_15408\\3359746437.py:9: DtypeWarning: Columns (22) have mixed types. Specify dtype option on import or set low_memory=False.\n",
      "  individual_dataframes = [pd.read_csv(file) for file in all_csv_file_paths]\n",
      "C:\\Users\\SCHUPPT\\AppData\\Local\\Temp\\ipykernel_15408\\3359746437.py:9: DtypeWarning: Columns (22) have mixed types. Specify dtype option on import or set low_memory=False.\n",
      "  individual_dataframes = [pd.read_csv(file) for file in all_csv_file_paths]\n",
      "C:\\Users\\SCHUPPT\\AppData\\Local\\Temp\\ipykernel_15408\\3359746437.py:9: DtypeWarning: Columns (24) have mixed types. Specify dtype option on import or set low_memory=False.\n",
      "  individual_dataframes = [pd.read_csv(file) for file in all_csv_file_paths]\n",
      "C:\\Users\\SCHUPPT\\AppData\\Local\\Temp\\ipykernel_15408\\3359746437.py:9: DtypeWarning: Columns (24) have mixed types. Specify dtype option on import or set low_memory=False.\n",
      "  individual_dataframes = [pd.read_csv(file) for file in all_csv_file_paths]\n",
      "C:\\Users\\SCHUPPT\\AppData\\Local\\Temp\\ipykernel_15408\\3359746437.py:9: DtypeWarning: Columns (22) have mixed types. Specify dtype option on import or set low_memory=False.\n",
      "  individual_dataframes = [pd.read_csv(file) for file in all_csv_file_paths]\n"
     ]
    }
   ],
   "source": [
    "#Forschungsfrage: Wie hat sich das Volumen wissenschaftlicher Artikel über Solarenergie in den letzten 10 Jahre entwickelt? \n",
    "import pandas as pd\n",
    "import matplotlib.pyplot as plt\n",
    "import glob\n",
    "\n",
    "csv_folder_file_path = r\"C:\\HLAG\\Apps\\Self_Learn_Workspace\\Python_Natural_Language_processing_NAKPrep\\PY Hausarbeit\\HA_TextAnalytics\\lens_org_data_files\\*.csv\"\n",
    "all_csv_file_paths = glob.glob(csv_folder_file_path)\n",
    "\n",
    "individual_dataframes = [pd.read_csv(file) for file in all_csv_file_paths]\n",
    "summarized_dataframe = pd.concat(individual_dataframes, ignore_index=True) "
   ]
  },
  {
   "cell_type": "code",
   "execution_count": 4,
   "metadata": {},
   "outputs": [
    {
     "name": "stdout",
     "output_type": "stream",
     "text": [
      "Publication Year\n",
      "2015    31350\n",
      "2016    33481\n",
      "2017    35673\n",
      "2018    38357\n",
      "2019    40039\n",
      "2020    44098\n",
      "2021    49389\n",
      "2022    49687\n",
      "2023    54288\n",
      "2024    55228\n",
      "2025     6386\n",
      "Name: count, dtype: int64\n"
     ]
    },
    {
     "data": {
      "image/png": "[encoded data removed]",
      "text/plain": [
       "<Figure size 1200x600 with 1 Axes>"
      ]
     },
     "metadata": {},
     "output_type": "display_data"
    }
   ],
   "source": [
    "#Forschungsfrage: Wie hat sich das Volumen wissenschaftlicher Artikel über Solarenergie in den letzten 10 Jahre entwickelt? \n",
    "columnName = (\"Publication Year\")\n",
    "publicationYearCounts = summarized_dataframe[columnName].dropna().astype(str).value_counts().sort_index()\n",
    "\n",
    "print(publicationYearCounts)\n",
    "\n",
    "plt.figure(figsize=(12, 6))\n",
    "publicationYearCounts.plot(kind='bar', color='skyblue', edgecolor='black')\n",
    "\n",
    "# Customize the chart\n",
    "plt.xlabel(\"Jahr\", fontsize=12)\n",
    "plt.ylabel(\"Anzahl Publikationen\", fontsize=12)\n",
    "plt.title(\"Anzahl wissenschaftlicher Publikationen zu Solarenergie pro Jahr\", fontsize=14)\n",
    "plt.xticks(rotation=45)  # Rotate x-axis labels for readability\n",
    "plt.grid(axis='y', linestyle='--', alpha=0.7)\n",
    "\n",
    "# Show the plot\n",
    "plt.show()\n",
    "\n",
    "#Notiz: Beim ersten Durchgang zeigte sich, dass \"Date published\" häufig leer ist, sodass bei den Daten ab 2020 10-20% der Artikel wohl verloren gegangen sind"
   ]
  },
  {
   "cell_type": "code",
   "execution_count": 16,
   "metadata": {},
   "outputs": [
    {
     "name": "stdout",
     "output_type": "stream",
     "text": [
      "Date published leer: 67864, Date published nicht leer: 319232\n",
      "Publication year leer: 0, Publication year nicht leer: 387096\n"
     ]
    }
   ],
   "source": [
    "#Analyse bezüglich Leerwerten für \"Date Published\" und \"Publication Year\"\n",
    "anzahl_leer = summarized_dataframe[\"Date Published\"].isna().sum()\n",
    "anzahl_nicht_leer = summarized_dataframe[\"Date Published\"].notna().sum()\n",
    "\n",
    "print(f\"Date published leer: {anzahl_leer}, Date published nicht leer: {anzahl_nicht_leer}\")\n",
    "\n",
    "anzahl_leer = summarized_dataframe[\"Publication Year\"].isna().sum()\n",
    "anzahl_nicht_leer = summarized_dataframe[\"Publication Year\"].notna().sum()\n",
    "print(f\"Publication year leer: {anzahl_leer}, Publication year nicht leer: {anzahl_nicht_leer}\")\n",
    "\n",
    "#Ergebnis: Publication Year ist IMMER gefüllt, Date published hat eine erhebliche Menge von Leerwerten. "
   ]
  },
  {
   "cell_type": "code",
   "execution_count": 7,
   "metadata": {},
   "outputs": [
    {
     "name": "stdout",
     "output_type": "stream",
     "text": [
      "Erhöhung der Artikelmenge in '%' im Vergleich zum Vorjahr\n",
      "Publication Year\n",
      "2015     0.00\n",
      "2016     6.80\n",
      "2017     6.55\n",
      "2018     7.52\n",
      "2019     4.39\n",
      "2020    10.14\n",
      "2021    12.00\n",
      "2022     0.60\n",
      "2023     9.26\n",
      "2024     1.73\n",
      "2025   -88.44\n",
      "Name: count, dtype: float64\n",
      "-----\n",
      "<class 'pandas.core.series.Series'>\n",
      "Publication Year\n",
      "2015        NaN\n",
      "2016     2131.0\n",
      "2017     2192.0\n",
      "2018     2684.0\n",
      "2019     1682.0\n",
      "2020     4059.0\n",
      "2021     5291.0\n",
      "2022      298.0\n",
      "2023     4601.0\n",
      "2024      940.0\n",
      "2025   -48842.0\n",
      "Name: count, dtype: float64\n"
     ]
    }
   ],
   "source": [
    "publication_Increase_Percentage = (publicationYearCounts.pct_change().mul(100).round(2)).fillna(0)\n",
    "print(\"Erhöhung der Artikelmenge in '%' im Vergleich zum Vorjahr\")\n",
    "print(publication_Increase_Percentage)\n",
    "print(\"-----\")\n",
    "\n",
    "print(type(publicationYearCounts))\n",
    "print(publicationYearCounts.diff())\n",
    "#publication_increase_absolute = (publicationYearCounts[])"
   ]
  }
 ],
 "metadata": {
  "kernelspec": {
   "display_name": "base",
   "language": "python",
   "name": "python3"
  },
  "language_info": {
   "codemirror_mode": {
    "name": "ipython",
    "version": 3
   },
   "file_extension": ".py",
   "mimetype": "text/x-python",
   "name": "python",
   "nbconvert_exporter": "python",
   "pygments_lexer": "ipython3",
   "version": "3.12.7"
  }
 },
 "nbformat": 4,
 "nbformat_minor": 2
}
