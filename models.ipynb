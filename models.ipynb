{
 "cells": [
  {
   "cell_type": "code",
   "execution_count": 1,
   "id": "5212bd5b",
   "metadata": {},
   "outputs": [],
   "source": [
    "from sklearn.decomposition import NMF\n",
    "from sklearn.decomposition import LatentDirichletAllocation\n",
    "from sklearn.decomposition import TruncatedSVD\n",
    "import joblib\n",
    "import pathlib2 as pathlib"
   ]
  },
  {
   "cell_type": "code",
   "execution_count": 2,
   "id": "754bb337",
   "metadata": {},
   "outputs": [],
   "source": [
    "# load pipelines\n",
    "#titles\n",
    "nmf_titles_model=joblib.load('models/topicmodeling_nmf_titles/topicmodeling_nmf_titles.pkl')\n",
    "lsa_titles_model=joblib.load('models/topicmodeling_lsa_titles/topicmodeling_lsa_titles.pkl')\n",
    "lda_titles_model=joblib.load('models/topicmodeling_lda_titles/topicmodeling_lda_titles.pkl')\n",
    "#abstracts\n",
    "nmf_abstracts_model=joblib.load('models/topicmodeling_nmf_abstracts/topicmodeling_nmf_abstracts.pkl')\n",
    "lsa_abstracts_model=joblib.load('models/topicmodeling_lsa_abstracts/topicmodeling_lsa_abstracts.pkl')\n",
    "lda_abstracts_model=joblib.load('models/topicmodeling_lda_abstracts/topicmodeling_lda_abstracts.pkl')"
   ]
  },
  {
   "cell_type": "code",
   "execution_count": 5,
   "id": "788ef894",
   "metadata": {},
   "outputs": [
    {
     "data": {
      "text/plain": [
       "{'memory': None,\n",
       " 'steps': [('tfidf',\n",
       "   TfidfVectorizer(max_df=0.6731187135180453, min_df=99, stop_words='english',\n",
       "                   tokenizer=<function tokenize at 0x00000152B2275C60>)),\n",
       "  ('lda', LatentDirichletAllocation(n_components=50, random_state=313))],\n",
       " 'verbose': False,\n",
       " 'tfidf': TfidfVectorizer(max_df=0.6731187135180453, min_df=99, stop_words='english',\n",
       "                 tokenizer=<function tokenize at 0x00000152B2275C60>),\n",
       " 'lda': LatentDirichletAllocation(n_components=50, random_state=313),\n",
       " 'tfidf__analyzer': 'word',\n",
       " 'tfidf__binary': False,\n",
       " 'tfidf__decode_error': 'strict',\n",
       " 'tfidf__dtype': numpy.float64,\n",
       " 'tfidf__encoding': 'utf-8',\n",
       " 'tfidf__input': 'content',\n",
       " 'tfidf__lowercase': True,\n",
       " 'tfidf__max_df': 0.6731187135180453,\n",
       " 'tfidf__max_features': None,\n",
       " 'tfidf__min_df': 99,\n",
       " 'tfidf__ngram_range': (1, 1),\n",
       " 'tfidf__norm': 'l2',\n",
       " 'tfidf__preprocessor': None,\n",
       " 'tfidf__smooth_idf': True,\n",
       " 'tfidf__stop_words': 'english',\n",
       " 'tfidf__strip_accents': None,\n",
       " 'tfidf__sublinear_tf': False,\n",
       " 'tfidf__token_pattern': '(?u)\\\\b\\\\w\\\\w+\\\\b',\n",
       " 'tfidf__tokenizer': <function gensim.utils.tokenize(text, lowercase=False, deacc=False, encoding='utf8', errors='strict', to_lower=False, lower=False)>,\n",
       " 'tfidf__use_idf': True,\n",
       " 'tfidf__vocabulary': None,\n",
       " 'lda__batch_size': 128,\n",
       " 'lda__doc_topic_prior': None,\n",
       " 'lda__evaluate_every': -1,\n",
       " 'lda__learning_decay': 0.7,\n",
       " 'lda__learning_method': 'batch',\n",
       " 'lda__learning_offset': 10.0,\n",
       " 'lda__max_doc_update_iter': 100,\n",
       " 'lda__max_iter': 10,\n",
       " 'lda__mean_change_tol': 0.001,\n",
       " 'lda__n_components': 50,\n",
       " 'lda__n_jobs': None,\n",
       " 'lda__perp_tol': 0.1,\n",
       " 'lda__random_state': 313,\n",
       " 'lda__topic_word_prior': None,\n",
       " 'lda__total_samples': 1000000.0,\n",
       " 'lda__verbose': 0}"
      ]
     },
     "execution_count": 5,
     "metadata": {},
     "output_type": "execute_result"
    }
   ],
   "source": [
    "lda_titles_model.get_params()"
   ]
  },
  {
   "cell_type": "code",
   "execution_count": 11,
   "id": "ff2236a5",
   "metadata": {},
   "outputs": [
    {
     "data": {
      "text/plain": [
       "{'memory': None,\n",
       " 'steps': [('tfidf',\n",
       "   TfidfVectorizer(max_df=0.7187419836776672, min_df=69, stop_words='english',\n",
       "                   tokenizer=<function tokenize at 0x00000152B2275C60>)),\n",
       "  ('nmf', NMF(n_components=50, random_state=313))],\n",
       " 'verbose': False,\n",
       " 'tfidf': TfidfVectorizer(max_df=0.7187419836776672, min_df=69, stop_words='english',\n",
       "                 tokenizer=<function tokenize at 0x00000152B2275C60>),\n",
       " 'nmf': NMF(n_components=50, random_state=313),\n",
       " 'tfidf__analyzer': 'word',\n",
       " 'tfidf__binary': False,\n",
       " 'tfidf__decode_error': 'strict',\n",
       " 'tfidf__dtype': numpy.float64,\n",
       " 'tfidf__encoding': 'utf-8',\n",
       " 'tfidf__input': 'content',\n",
       " 'tfidf__lowercase': True,\n",
       " 'tfidf__max_df': 0.7187419836776672,\n",
       " 'tfidf__max_features': None,\n",
       " 'tfidf__min_df': 69,\n",
       " 'tfidf__ngram_range': (1, 1),\n",
       " 'tfidf__norm': 'l2',\n",
       " 'tfidf__preprocessor': None,\n",
       " 'tfidf__smooth_idf': True,\n",
       " 'tfidf__stop_words': 'english',\n",
       " 'tfidf__strip_accents': None,\n",
       " 'tfidf__sublinear_tf': False,\n",
       " 'tfidf__token_pattern': '(?u)\\\\b\\\\w\\\\w+\\\\b',\n",
       " 'tfidf__tokenizer': <function gensim.utils.tokenize(text, lowercase=False, deacc=False, encoding='utf8', errors='strict', to_lower=False, lower=False)>,\n",
       " 'tfidf__use_idf': True,\n",
       " 'tfidf__vocabulary': None,\n",
       " 'nmf__alpha_H': 'same',\n",
       " 'nmf__alpha_W': 0.0,\n",
       " 'nmf__beta_loss': 'frobenius',\n",
       " 'nmf__init': None,\n",
       " 'nmf__l1_ratio': 0.0,\n",
       " 'nmf__max_iter': 200,\n",
       " 'nmf__n_components': 50,\n",
       " 'nmf__random_state': 313,\n",
       " 'nmf__shuffle': False,\n",
       " 'nmf__solver': 'cd',\n",
       " 'nmf__tol': 0.0001,\n",
       " 'nmf__verbose': 0}"
      ]
     },
     "execution_count": 11,
     "metadata": {},
     "output_type": "execute_result"
    }
   ],
   "source": [
    "nmf_abstracts_model.get_params()"
   ]
  },
  {
   "cell_type": "code",
   "execution_count": null,
   "id": "86e8912e",
   "metadata": {},
   "outputs": [],
   "source": []
  }
 ],
 "metadata": {
  "kernelspec": {
   "display_name": "base",
   "language": "python",
   "name": "python3"
  },
  "language_info": {
   "codemirror_mode": {
    "name": "ipython",
    "version": 3
   },
   "file_extension": ".py",
   "mimetype": "text/x-python",
   "name": "python",
   "nbconvert_exporter": "python",
   "pygments_lexer": "ipython3",
   "version": "3.12.4"
  }
 },
 "nbformat": 4,
 "nbformat_minor": 5
}
